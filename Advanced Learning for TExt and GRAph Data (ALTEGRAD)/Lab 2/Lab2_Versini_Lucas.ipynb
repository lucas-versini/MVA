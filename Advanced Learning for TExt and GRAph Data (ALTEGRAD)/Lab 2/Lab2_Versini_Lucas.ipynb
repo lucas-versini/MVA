{
  "cells": [
    {
      "cell_type": "markdown",
      "metadata": {
        "id": "DlAfI8mCWAf3"
      },
      "source": [
        "<center><h2>ALTeGraD 2024<br>Lab Session 2: Transfer learning for NLP</h2> 15 / 10 / 2024<br> Dr. G. Shang, Y. Zhang<br><br>\n",
        "\n",
        "\n",
        "<b>Student name:</b> Lucas Versini\n",
        "\n",
        "</center>\n",
        "\n",
        "<br><br>\n",
        "In this lab we will:\n",
        "* Implement and pretrain a language model with transformer architecture.\n",
        "* Use the pretrained model (transfer learning) to perform a sentiment analysis task which consists of classifying some books reviews into positive and negative ones.\n",
        "* Compare the performance of the pretrained model to a model trained from scratch.\n",
        " <br>\n",
        "\n",
        "<b>The deadline for this lab is October 22, 2024 11:59 PM.</b> More details about the submission and the architecture for this lab can be found in the handout PDF."
      ]
    },
    {
      "cell_type": "code",
      "execution_count": 1,
      "metadata": {
        "id": "IqukuIe0Rb_c"
      },
      "outputs": [],
      "source": [
        "import math\n",
        "\n",
        "import torch\n",
        "import torch.nn as nn\n",
        "from torch.nn.utils.rnn import pad_sequence\n",
        "\n",
        "device = torch.device(\"cuda\" if torch.cuda.is_available() else \"cpu\")"
      ]
    },
    {
      "cell_type": "markdown",
      "metadata": {
        "id": "5FF6fjkqgN39"
      },
      "source": [
        "### The Model"
      ]
    },
    {
      "cell_type": "code",
      "execution_count": 2,
      "metadata": {
        "id": "p0cj9WkSFQwl"
      },
      "outputs": [],
      "source": [
        "class TransformerModel(nn.Module):\n",
        "    def __init__(self, ntoken, nhead, nhid, nlayers, dropout=0.5):\n",
        "        super(TransformerModel, self).__init__()\n",
        "        '''\n",
        "        ntokens: the size of vocabulary\n",
        "        nhid: the hidden dimension of the model.\n",
        "        We assume that embedding_dim = nhid\n",
        "        nlayers: the number of nn.TransformerEncoderLayer in nn.TransformerEncoder\n",
        "        nhead: the number of heads in the multiheadattention models\n",
        "        dropout: the dropout value\n",
        "         '''\n",
        "        self.model_type = \"Transformer\"\n",
        "        self.encoder = nn.Embedding(num_embeddings = ntoken, embedding_dim = nhid) # fill me (done), nhid = the dim_embed\n",
        "        self.pos_encoder = PositionalEncoding(nhid = nhid, dropout = dropout) #fill me (done), the PositionalEncoding class is implemented in the next cell\n",
        "        encoder_layers = nn.TransformerEncoderLayer(d_model = nhid, nhead = nhead, dim_feedforward = nhid) #fill me (done) we assume nhid = d_model = dim_feedforward\n",
        "        self.transformer_encoder = nn.TransformerEncoder(encoder_layer = encoder_layers, num_layers = nlayers) #fill me (done)\n",
        "        self.nhid = nhid\n",
        "        self.init_weights()\n",
        "\n",
        "    def generate_square_subsequent_mask(self, sz):\n",
        "        mask = (torch.triu(torch.ones(sz, sz)) == 1).transpose(0, 1)\n",
        "        mask = (\n",
        "            mask.float()\n",
        "            .masked_fill(mask == 0, float(\"-inf\"))\n",
        "            .masked_fill(mask == 1, float(0.0))\n",
        "        )\n",
        "        return mask\n",
        "\n",
        "    def init_weights(self):\n",
        "        initrange = 0.1\n",
        "        self.encoder.weight.data.uniform_(-initrange, initrange)\n",
        "\n",
        "    def forward(self, src, src_mask):\n",
        "        src = self.encoder(src) * math.sqrt(self.nhid)\n",
        "        src = self.pos_encoder(src) #fill me (done)\n",
        "        output = self.transformer_encoder(src, src_mask) #fill me (done)\n",
        "        return output\n",
        "\n",
        "\n",
        "class ClassificationHead(nn.Module):\n",
        "    def __init__(self, nhid, nclasses):\n",
        "        super(ClassificationHead, self).__init__()\n",
        "        self.decoder = nn.Linear(nhid, nclasses) #fill me (done)\n",
        "        self.init_weights()\n",
        "\n",
        "    def init_weights(self):\n",
        "        initrange = 0.1\n",
        "        self.decoder.bias.data.zero_()\n",
        "        self.decoder.weight.data.uniform_(-initrange, initrange)\n",
        "\n",
        "    def forward(self, src):\n",
        "        output = self.decoder(src)\n",
        "        return output\n",
        "\n",
        "class Model(nn.Module):\n",
        "    def __init__(self, ntoken, nhead, nhid, nlayers, nclasses, dropout=0.5):\n",
        "        super(Model, self).__init__()\n",
        "        self.base = TransformerModel(ntoken, nhead, nhid, nlayers, dropout) #fill me (done)\n",
        "        self.classifier = ClassificationHead(nhid, nclasses) #fill me (done)\n",
        "\n",
        "    def forward(self, src, src_mask):\n",
        "        # base model\n",
        "        x = self.base(src, src_mask) #fill me (done)s\n",
        "        # classifier model\n",
        "        output = self.classifier(x) #fill me (done)\n",
        "        return output"
      ]
    },
    {
      "cell_type": "code",
      "execution_count": 3,
      "metadata": {
        "id": "kt2QQohaFZry"
      },
      "outputs": [],
      "source": [
        "class PositionalEncoding(nn.Module):\n",
        "    def __init__(self, nhid, dropout=0.1, max_len=5000):\n",
        "        super(PositionalEncoding, self).__init__()\n",
        "        self.dropout = nn.Dropout(p=dropout)\n",
        "\n",
        "        pe = torch.zeros(max_len, nhid)\n",
        "        position = torch.arange(0, max_len, dtype=torch.float).unsqueeze(1)\n",
        "        div_term = torch.exp(\n",
        "            torch.arange(0, nhid, 2).float() * (-math.log(10000.0) / nhid)\n",
        "        )\n",
        "        pe[:, 0::2] = torch.sin(position * div_term)\n",
        "        pe[:, 1::2] = torch.cos(position * div_term)\n",
        "        pe = pe.unsqueeze(0).transpose(0, 1)\n",
        "        self.register_buffer(\"pe\", pe)\n",
        "\n",
        "    def forward(self, x):\n",
        "        x = x + self.pe[: x.size(0), :]\n",
        "        return self.dropout(x)"
      ]
    },
    {
      "cell_type": "markdown",
      "metadata": {
        "id": "SfEYHJx2JW6l"
      },
      "source": [
        "Let's verify if our model works, by applying one inference step"
      ]
    },
    {
      "cell_type": "code",
      "execution_count": 4,
      "metadata": {
        "id": "rhb2gkUhJMR0"
      },
      "outputs": [
        {
          "name": "stdout",
          "output_type": "stream",
          "text": [
            "torch.Size([1, 6, 100])\n"
          ]
        },
        {
          "name": "stderr",
          "output_type": "stream",
          "text": [
            "/Data/lucas.versini/miniconda3/envs/RecVis2/lib/python3.11/site-packages/torch/nn/modules/transformer.py:307: UserWarning: enable_nested_tensor is True, but self.use_nested_tensor is False because encoder_layer.self_attn.batch_first was not True(use batch_first for better inference performance)\n",
            "  warnings.warn(f\"enable_nested_tensor is True, but self.use_nested_tensor is False because {why_not_sparsity_fast_path}\")\n"
          ]
        }
      ],
      "source": [
        "ntokens = 100 # the size of vocabulary\n",
        "nhid = 200  # hidden dimension\n",
        "nlayers = 4  # the number of nn.TransformerEncoderLayer in nn.TransformerEncoder\n",
        "nhead = 2  # the number of heads in the multiheadattention models\n",
        "dropout = 0  # the dropout value\n",
        "\n",
        "model = Model(ntokens, nhead, nhid, nlayers, ntokens, dropout).to(device)\n",
        "dummy_input = torch.tensor([[2, 6, 2, 5, 43, 21]]).to(device)\n",
        "src_mask = model.base.generate_square_subsequent_mask(1).to(device)\n",
        "out = model.forward(dummy_input, src_mask)\n",
        "\n",
        "print(out.shape) # is it the right shape? Yes."
      ]
    },
    {
      "cell_type": "code",
      "execution_count": 5,
      "metadata": {},
      "outputs": [],
      "source": [
        "ntokens = 100 # the size of vocabulary\n",
        "nhid = 200  # hidden dimension\n",
        "nlayers = 4  # the number of nn.TransformerEncoderLayer in nn.TransformerEncoder\n",
        "nhead = 2  # the number of heads in the multiheadattention models\n",
        "dropout = 0  # the dropout value"
      ]
    },
    {
      "cell_type": "code",
      "execution_count": 6,
      "metadata": {},
      "outputs": [
        {
          "name": "stdout",
          "output_type": "stream",
          "text": [
            "Number of parameters: 1008100\n",
            "Number of parameters: 1008100\n"
          ]
        }
      ],
      "source": [
        "nclasses = ntokens\n",
        "model_modeling = Model(ntokens, nhead, nhid, nlayers, nclasses, dropout).to(device)\n",
        "\n",
        "# Compute number of parameters\n",
        "num_params = sum(p.numel() for p in model_modeling.parameters())\n",
        "print(f\"Number of parameters: {num_params}\")\n",
        "\n",
        "# Compute number of parameters\n",
        "print(f\"Number of parameters: {nhid * (ntokens + nlayers * (6 * nhid + 10)) + (1 + nhid) * nclasses}\")"
      ]
    },
    {
      "cell_type": "code",
      "execution_count": 7,
      "metadata": {},
      "outputs": [
        {
          "name": "stdout",
          "output_type": "stream",
          "text": [
            "Number of parameters: 988402\n",
            "Number of parameters: 988402\n"
          ]
        }
      ],
      "source": [
        "nclasses = 2\n",
        "model_classification = Model(ntokens, nhead, nhid, nlayers, nclasses, dropout).to(device)\n",
        "\n",
        "# Compute number of parameters\n",
        "num_params = sum(p.numel() for p in model_classification.parameters())\n",
        "print(f\"Number of parameters: {num_params}\")\n",
        "\n",
        "# Compute number of parameters\n",
        "print(f\"Number of parameters: {nhid * (ntokens + nlayers * (6 * nhid + 10)) + (1 + nhid) * nclasses}\")"
      ]
    },
    {
      "cell_type": "markdown",
      "metadata": {
        "id": "i74NN897Fcit"
      },
      "source": [
        "## Vocabulary and Tokenization"
      ]
    },
    {
      "cell_type": "code",
      "execution_count": 8,
      "metadata": {
        "id": "5qjd26ghWuff"
      },
      "outputs": [
        {
          "name": "stdout",
          "output_type": "stream",
          "text": [
            "--2024-10-17 19:22:23--  https://raw.githubusercontent.com/moussaKam/transfer_learning_transformers/main/dict.txt\n",
            "Resolving raw.githubusercontent.com (raw.githubusercontent.com)... 185.199.108.133, 185.199.110.133, 185.199.109.133, ...\n",
            "Connecting to raw.githubusercontent.com (raw.githubusercontent.com)|185.199.108.133|:443... connected.\n",
            "HTTP request sent, awaiting response... 200 OK\n",
            "Length: 577587 (564K) [text/plain]\n",
            "Saving to: ‘dict.txt.8’\n",
            "\n",
            "dict.txt.8          100%[===================>] 564.05K  --.-KB/s    in 0.04s   \n",
            "\n",
            "2024-10-17 19:22:23 (14.4 MB/s) - ‘dict.txt.8’ saved [577587/577587]\n",
            "\n",
            "▁d 1\n",
            "es 1\n",
            "▁l 1\n",
            "en 1\n",
            "on 1\n"
          ]
        }
      ],
      "source": [
        "!wget https://raw.githubusercontent.com/moussaKam/transfer_learning_transformers/main/dict.txt\n",
        "!head -5 dict.txt"
      ]
    },
    {
      "cell_type": "code",
      "execution_count": 9,
      "metadata": {
        "id": "vFdH_-JeFbGA"
      },
      "outputs": [
        {
          "name": "stdout",
          "output_type": "stream",
          "text": [
            "▁trop\n"
          ]
        }
      ],
      "source": [
        "path_vocab = \"dict.txt\"\n",
        "token2ind = {\"<sos>\": 0, \"<pad>\": 1, \"<eos>\": 2, \"<oov>\": 3} # the 4 first indices are reserved to special tokens\n",
        "with open(path_vocab, \"r\") as f:\n",
        "    for idx, line in enumerate(f):\n",
        "        word = line.split()[0].strip()\n",
        "        token2ind[word] = idx + 4 #fill me (done)\n",
        "\n",
        "ind2token = {v: k for k, v in token2ind.items()} #fill me\n",
        "\n",
        "print(ind2token[1111])"
      ]
    },
    {
      "cell_type": "markdown",
      "metadata": {
        "id": "XOExGODajN8p"
      },
      "source": [
        "### Data Loader\n"
      ]
    },
    {
      "cell_type": "code",
      "execution_count": 10,
      "metadata": {
        "id": "Y0jN-Ar9i5Q1"
      },
      "outputs": [],
      "source": [
        "import numpy\n",
        "import torch\n",
        "from torch.nn.utils.rnn import pad_sequence\n",
        "from torch.utils.data import DataLoader, Dataset\n",
        "\n",
        "\n",
        "class Dataset(Dataset):\n",
        "    def __init__(\n",
        "        self,\n",
        "        path_documents,\n",
        "        path_labels=None,\n",
        "        token2ind={},\n",
        "        max_len=512,\n",
        "        task=\"language_modeling\",\n",
        "    ):\n",
        "        self.task = task\n",
        "        self.max_len = max_len\n",
        "        self.token2ind = token2ind\n",
        "        self.documents = []\n",
        "        self.labels = []\n",
        "        with open(path_documents, \"r\") as f1:\n",
        "            for line in f1:\n",
        "                self.documents.append(line.strip())\n",
        "        if task == \"classification\":\n",
        "            with open(path_labels, \"r\") as f1:\n",
        "                for line in f1:\n",
        "                    self.labels.append(int(line.strip()))\n",
        "            assert len(self.labels) == len(self.documents)\n",
        "\n",
        "    def __len__(self):\n",
        "        return len(self.documents)\n",
        "\n",
        "    def __getitem__(self, index):\n",
        "        sequence = self.documents[index].split()\n",
        "        if len(sequence) > self.max_len - 1:\n",
        "            sequence = sequence[: self.max_len - 1]\n",
        "        source_sequence = [self.token2ind[\"<sos>\"]] \\\n",
        "                        + [self.token2ind.get(token, self.token2ind[\"<oov>\"]) for token in sequence] #fill me (done) (constract the input sequence using token2ind, sequence and special tokens)\n",
        "        if self.task == \"language_modeling\":\n",
        "            target = source_sequence[1:]\n",
        "            target.append(self.token2ind[\"<eos>\"])\n",
        "        elif self.task == \"classification\":\n",
        "            target = [self.labels[index]]\n",
        "        sample = {\n",
        "            \"source_sequence\": torch.tensor(source_sequence),\n",
        "            \"target\": torch.tensor(target),\n",
        "        }\n",
        "        return sample\n",
        "\n",
        "\n",
        "def MyCollator(batch):\n",
        "    source_sequences = pad_sequence(\n",
        "        #we use padding to match the length of the sequences in the same batch\n",
        "        [sample[\"source_sequence\"] for sample in batch], padding_value=token2ind[\"<pad>\"]\n",
        "    )\n",
        "    target = pad_sequence(\n",
        "        [sample[\"target\"] for sample in batch], padding_value=token2ind[\"<pad>\"]\n",
        "    )\n",
        "    return source_sequences, target.reshape(-1)\n",
        "\n",
        "\n",
        "def get_loader(\n",
        "    path_documents,\n",
        "    path_labels=None,\n",
        "    token2ind={},\n",
        "    max_len=512,\n",
        "    batch_size=32,\n",
        "    task=\"language_modeling\",\n",
        "):\n",
        "    dataset = Dataset(\n",
        "        path_documents,\n",
        "        path_labels=path_labels,\n",
        "        token2ind=token2ind,\n",
        "        max_len=512,\n",
        "        task=task,\n",
        "    )\n",
        "    data_loader = DataLoader(\n",
        "        dataset=dataset,\n",
        "        batch_size=batch_size,\n",
        "        shuffle=True,\n",
        "        collate_fn=MyCollator,\n",
        "        pin_memory=True,\n",
        "        drop_last=True,\n",
        "    )\n",
        "    return data_loader"
      ]
    },
    {
      "cell_type": "markdown",
      "metadata": {
        "id": "uTns4lHrjUTa"
      },
      "source": [
        "## The Training"
      ]
    },
    {
      "cell_type": "code",
      "execution_count": 11,
      "metadata": {
        "id": "4_jwosiLjRsS"
      },
      "outputs": [],
      "source": [
        "def train(\n",
        "    path_data_train,\n",
        "    path_labels_train=None,\n",
        "    path_data_valid=None,\n",
        "    save_interval=-1,\n",
        "    log_interval=5,\n",
        "    task=\"language_modeling\",\n",
        "    batch_size=32,\n",
        "):\n",
        "    model.train()\n",
        "    total_loss = 0.0\n",
        "    ntokens = len(token2ind)\n",
        "    data_loader = get_loader(\n",
        "        path_data_train,\n",
        "        path_labels_train,\n",
        "        token2ind,\n",
        "        task=task,\n",
        "        batch_size=batch_size,\n",
        "    )\n",
        "\n",
        "    losses = []\n",
        "    for idx, data in enumerate(data_loader): #step 1\n",
        "        optimizer.zero_grad()\n",
        "        src_mask = model.base.generate_square_subsequent_mask(data[0].size(0)).to(\n",
        "            device\n",
        "        )\n",
        "        input = data[0].to(device)\n",
        "        output = model(input, src_mask) #step 2\n",
        "        if task == 'classification':\n",
        "            #last vector only\n",
        "            output = output[-1, :] #fill me (done)\n",
        "        output = output.view(-1, output.shape[-1])\n",
        "        target = data[1] #fill me (done)\n",
        "        target = target.to(device)\n",
        "        loss = criterion(output, target) #fill me (done), Cross entropy check next cells\n",
        "        #fill me step 3 (done)\n",
        "        loss.backward()\n",
        "\n",
        "        torch.nn.utils.clip_grad_norm_(model.parameters(), 0.5) # prevent exploding gradient\n",
        "        #fill me step 4 (done)\n",
        "        optimizer.step()\n",
        "\n",
        "        total_loss += loss.item()\n",
        "        if idx % log_interval == 0 and idx > 0:\n",
        "            cur_loss = total_loss / log_interval\n",
        "            print(\n",
        "                \"| epoch {:3d} | {:5d}/{:5d} steps | \"\n",
        "                \"loss {:5.5f} | ppl {:8.3f}\".format(\n",
        "                    epoch, idx, len(data_loader), cur_loss, math.exp(cur_loss),\n",
        "                )\n",
        "            )\n",
        "            losses.append(cur_loss)\n",
        "            total_loss = 0\n",
        "    return losses"
      ]
    },
    {
      "cell_type": "code",
      "execution_count": 12,
      "metadata": {
        "id": "pgf6BDB9jUr6"
      },
      "outputs": [],
      "source": [
        "ntokens = len(token2ind) #fill me (done) # the size of vocabulary\n",
        "nhid = 200  # the dimension of the feedforward network model in nn.TransformerEncoder\n",
        "nlayers = 4  # the number of nn.TransformerEncoderLayer in nn.TransformerEncoder\n",
        "nhead = 2  # the number of heads in the multiheadattention models\n",
        "dropout = 0  # the dropout value\n",
        "\n",
        "nclasses = 2 # for classification task only\n",
        "\n",
        "model = Model(ntokens, nhead, nhid, nlayers, ntokens, dropout).to(device)"
      ]
    },
    {
      "cell_type": "code",
      "execution_count": 13,
      "metadata": {
        "id": "u-OLy4KIkDwf"
      },
      "outputs": [],
      "source": [
        "# optimization paramerters\n",
        "\n",
        "criterion = nn.CrossEntropyLoss(ignore_index=token2ind['<pad>'])\n",
        "lr = 0.0003  # learning rate\n",
        "optimizer = torch.optim.Adam(model.parameters(), lr=lr)"
      ]
    },
    {
      "cell_type": "code",
      "execution_count": 14,
      "metadata": {
        "id": "Bwh3n9xZQy4e"
      },
      "outputs": [
        {
          "name": "stdout",
          "output_type": "stream",
          "text": [
            "--2024-10-17 19:22:24--  https://raw.githubusercontent.com/moussaKam/transfer_learning_transformers/main/pretraining_subset.txt\n",
            "Resolving raw.githubusercontent.com (raw.githubusercontent.com)... 185.199.108.133, 185.199.110.133, 185.199.109.133, ...\n",
            "Connecting to raw.githubusercontent.com (raw.githubusercontent.com)|185.199.108.133|:443... connected.\n",
            "HTTP request sent, awaiting response... 200 OK\n",
            "Length: 10146460 (9.7M) [text/plain]\n",
            "Saving to: ‘pretraining_subset.txt.6’\n",
            "\n",
            "pretraining_subset. 100%[===================>]   9.68M  --.-KB/s    in 0.1s    \n",
            "\n",
            "2024-10-17 19:22:24 (76.3 MB/s) - ‘pretraining_subset.txt.6’ saved [10146460/10146460]\n",
            "\n"
          ]
        }
      ],
      "source": [
        "!wget https://raw.githubusercontent.com/moussaKam/transfer_learning_transformers/main/pretraining_subset.txt\n",
        "path_data_train = \"pretraining_subset.txt\""
      ]
    },
    {
      "cell_type": "code",
      "execution_count": 15,
      "metadata": {
        "id": "0m11g4ScjZaR"
      },
      "outputs": [
        {
          "name": "stdout",
          "output_type": "stream",
          "text": [
            "| epoch   1 |   500/ 3125 steps | loss 7.33071 | ppl 1526.465\n",
            "| epoch   1 |  1000/ 3125 steps | loss 6.54673 | ppl  696.961\n",
            "| epoch   1 |  1500/ 3125 steps | loss 6.26252 | ppl  524.537\n",
            "| epoch   1 |  2000/ 3125 steps | loss 6.09489 | ppl  443.584\n",
            "| epoch   1 |  2500/ 3125 steps | loss 5.96121 | ppl  388.079\n",
            "| epoch   1 |  3000/ 3125 steps | loss 5.88294 | ppl  358.864\n",
            "| epoch   2 |   500/ 3125 steps | loss 5.56218 | ppl  260.389\n",
            "| epoch   2 |  1000/ 3125 steps | loss 5.51562 | ppl  248.545\n",
            "| epoch   2 |  1500/ 3125 steps | loss 5.51737 | ppl  248.979\n",
            "| epoch   2 |  2000/ 3125 steps | loss 5.47310 | ppl  238.198\n",
            "| epoch   2 |  2500/ 3125 steps | loss 5.42798 | ppl  227.689\n",
            "| epoch   2 |  3000/ 3125 steps | loss 5.39199 | ppl  219.640\n"
          ]
        }
      ],
      "source": [
        "#pretraining on a tiny subset\n",
        "log_interval = 500\n",
        "epochs = 2\n",
        "for epoch in range(1, epochs + 1): #5\n",
        "    train(\n",
        "        path_data_train,\n",
        "        save_interval=-1,\n",
        "        task= \"language_modeling\", # fill me (done)\n",
        "        batch_size=16,\n",
        "        log_interval=log_interval,\n",
        "    )"
      ]
    },
    {
      "cell_type": "markdown",
      "metadata": {
        "id": "MeOM1dOvkO4e"
      },
      "source": [
        "## Text Generation\n"
      ]
    },
    {
      "cell_type": "code",
      "execution_count": 16,
      "metadata": {
        "id": "-BcBC6FSkMH3"
      },
      "outputs": [
        {
          "name": "stdout",
          "output_type": "stream",
          "text": [
            "--2024-10-17 19:24:07--  https://raw.githubusercontent.com/moussaKam/transfer_learning_transformers/main/pretrained_model_4layers.pt\n",
            "Resolving raw.githubusercontent.com (raw.githubusercontent.com)... 185.199.110.133, 185.199.109.133, 185.199.111.133, ...\n",
            "Connecting to raw.githubusercontent.com (raw.githubusercontent.com)|185.199.110.133|:443... connected.\n",
            "HTTP request sent, awaiting response... 200 OK\n",
            "Length: 88093955 (84M) [application/octet-stream]\n",
            "Saving to: ‘pretrained_model_4layers.pt.2’\n",
            "\n",
            "pretrained_model_4l 100%[===================>]  84.01M   105MB/s    in 0.8s    \n",
            "\n",
            "2024-10-17 19:24:09 (105 MB/s) - ‘pretrained_model_4layers.pt.2’ saved [88093955/88093955]\n",
            "\n"
          ]
        },
        {
          "name": "stderr",
          "output_type": "stream",
          "text": [
            "/Data/lucas.versini/miniconda3/envs/RecVis2/lib/python3.11/site-packages/torch/nn/modules/transformer.py:307: UserWarning: enable_nested_tensor is True, but self.use_nested_tensor is False because encoder_layer.self_attn.batch_first was not True(use batch_first for better inference performance)\n",
            "  warnings.warn(f\"enable_nested_tensor is True, but self.use_nested_tensor is False because {why_not_sparsity_fast_path}\")\n",
            "/tmp/ipykernel_1188298/961471251.py:6: FutureWarning: You are using `torch.load` with `weights_only=False` (the current default value), which uses the default pickle module implicitly. It is possible to construct malicious pickle data which will execute arbitrary code during unpickling (See https://github.com/pytorch/pytorch/blob/main/SECURITY.md#untrusted-models for more details). In a future release, the default value for `weights_only` will be flipped to `True`. This limits the functions that could be executed during unpickling. Arbitrary objects will no longer be allowed to be loaded via this mode unless they are explicitly allowlisted by the user via `torch.serialization.add_safe_globals`. We recommend you start setting `weights_only=True` for any use case where you don't have full control of the loaded file. Please open an issue on GitHub for any issues related to this experimental feature.\n",
            "  checkpoint = torch.load('pretrained_model_4layers.pt')\n"
          ]
        },
        {
          "data": {
            "text/plain": [
              "<All keys matched successfully>"
            ]
          },
          "execution_count": 16,
          "metadata": {},
          "output_type": "execute_result"
        }
      ],
      "source": [
        "!wget https://raw.githubusercontent.com/moussaKam/transfer_learning_transformers/main/pretrained_model_4layers.pt\n",
        "\n",
        "model = Model(ntokens, nhead, nhid, nlayers, ntokens).to(device)\n",
        "\n",
        "#load the checkpoint\n",
        "checkpoint = torch.load('pretrained_model_4layers.pt')\n",
        "#load state dict\n",
        "model.load_state_dict(checkpoint['model_state_dict'])"
      ]
    },
    {
      "cell_type": "code",
      "execution_count": 17,
      "metadata": {
        "id": "tBRRVsWqlIoQ"
      },
      "outputs": [
        {
          "name": "stdout",
          "output_type": "stream",
          "text": [
            "--2024-10-17 19:24:09--  https://raw.githubusercontent.com/moussaKam/transfer_learning_transformers/main/sentencepiece.french.model\n",
            "Resolving raw.githubusercontent.com (raw.githubusercontent.com)... 185.199.110.133, 185.199.109.133, 185.199.111.133, ...\n",
            "Connecting to raw.githubusercontent.com (raw.githubusercontent.com)|185.199.110.133|:443... connected.\n",
            "HTTP request sent, awaiting response... 200 OK\n",
            "Length: 1115362 (1.1M) [application/octet-stream]\n",
            "Saving to: ‘sentencepiece.french.model.2’\n",
            "\n",
            "sentencepiece.frenc 100%[===================>]   1.06M  --.-KB/s    in 0.05s   \n",
            "\n",
            "2024-10-17 19:24:10 (20.5 MB/s) - ‘sentencepiece.french.model.2’ saved [1115362/1115362]\n",
            "\n",
            "['▁Bonjour', '▁les', '▁amis', '!']\n",
            "Bonjour les amis!\n"
          ]
        }
      ],
      "source": [
        "# !pip install sentencepiece   # uncomment this if you are using google colab\n",
        "!wget https://raw.githubusercontent.com/moussaKam/transfer_learning_transformers/main/sentencepiece.french.model\n",
        "\n",
        "import sentencepiece as spm\n",
        "\n",
        "s = spm.SentencePieceProcessor(model_file='sentencepiece.french.model') #load sentencepiece model\n",
        "\n",
        "#examples\n",
        "encoded = s.encode_as_pieces(\"Bonjour les amis!\")\n",
        "decoded = s.decode_pieces(encoded)\n",
        "print(encoded)\n",
        "print(decoded)"
      ]
    },
    {
      "cell_type": "code",
      "execution_count": 18,
      "metadata": {
        "id": "TtLlV05pkQI3"
      },
      "outputs": [],
      "source": [
        "def infer_next_token(sent):\n",
        "    model.eval()\n",
        "    sent_pieces = s.encode_as_pieces(sent)\n",
        "    source = [token2ind['<sos>']] + [token2ind[el] for el in sent_pieces] # list of tokens\n",
        "    source = torch.tensor(source).to(device)\n",
        "    source = source.reshape(-1, 1)\n",
        "    src_mask = model.base.generate_square_subsequent_mask(source.size(0)).to(device)\n",
        "    out = model(source, src_mask)\n",
        "    next_token_ind = torch.argmax(out[-1, 0], axis = -1) #fill me (done)\n",
        "    return next_token_ind, out\n",
        "\n",
        "def infer_next_tokens(sent, max_len=50):\n",
        "    # to be implemented (done)\n",
        "    s = spm.SentencePieceProcessor(model_file = \"sentencepiece.french.model\")\n",
        "    sent_pieces = s.encode_as_pieces(sent)\n",
        "    while len(sent_pieces) < max_len:\n",
        "        next_token_ind, _ = infer_next_token(s.decode_pieces(sent_pieces))\n",
        "        next_token = ind2token[next_token_ind.item()]\n",
        "        if next_token == \"<eos>\":\n",
        "            break\n",
        "        sent_pieces.append(next_token)\n",
        "    return s.decode_pieces(sent_pieces)"
      ]
    },
    {
      "cell_type": "code",
      "execution_count": 19,
      "metadata": {
        "id": "f83Nn5nSly4v"
      },
      "outputs": [
        {
          "data": {
            "text/plain": [
              "'Bonjour les gens qui ont été très accueillants et sympathiques.'"
            ]
          },
          "execution_count": 19,
          "metadata": {},
          "output_type": "execute_result"
        }
      ],
      "source": [
        "sent = \"Bonjour les\"\n",
        "infer_next_tokens(sent)"
      ]
    },
    {
      "cell_type": "markdown",
      "metadata": {
        "id": "Lp7mjVzomoZ3"
      },
      "source": [
        "### Supervised task"
      ]
    },
    {
      "cell_type": "code",
      "execution_count": 20,
      "metadata": {
        "id": "0K1BZsblmEmx"
      },
      "outputs": [
        {
          "name": "stdout",
          "output_type": "stream",
          "text": [
            "--2024-10-17 19:24:10--  https://raw.githubusercontent.com/moussaKam/transfer_learning_transformers/main/cls-books/train.review.spm\n",
            "Resolving raw.githubusercontent.com (raw.githubusercontent.com)... 185.199.110.133, 185.199.109.133, 185.199.111.133, ...\n",
            "Connecting to raw.githubusercontent.com (raw.githubusercontent.com)|185.199.110.133|:443... connected.\n",
            "HTTP request sent, awaiting response... 200 OK\n",
            "Length: 1495960 (1.4M) [text/plain]\n",
            "Saving to: ‘train.review.spm.2’\n",
            "\n",
            "train.review.spm.2  100%[===================>]   1.43M  --.-KB/s    in 0.05s   \n",
            "\n",
            "2024-10-17 19:24:10 (26.8 MB/s) - ‘train.review.spm.2’ saved [1495960/1495960]\n",
            "\n",
            "--2024-10-17 19:24:10--  https://raw.githubusercontent.com/moussaKam/transfer_learning_transformers/main/cls-books/train.label\n",
            "Resolving raw.githubusercontent.com (raw.githubusercontent.com)... 185.199.110.133, 185.199.109.133, 185.199.111.133, ...\n",
            "Connecting to raw.githubusercontent.com (raw.githubusercontent.com)|185.199.110.133|:443... connected.\n",
            "HTTP request sent, awaiting response... 200 OK\n",
            "Length: 3200 (3.1K) [text/plain]\n",
            "Saving to: ‘train.label.2’\n",
            "\n",
            "train.label.2       100%[===================>]   3.12K  --.-KB/s    in 0s      \n",
            "\n",
            "2024-10-17 19:24:11 (50.9 MB/s) - ‘train.label.2’ saved [3200/3200]\n",
            "\n",
            "--2024-10-17 19:24:11--  https://raw.githubusercontent.com/moussaKam/transfer_learning_transformers/main/cls-books/test.review.spm\n",
            "Resolving raw.githubusercontent.com (raw.githubusercontent.com)... 185.199.110.133, 185.199.109.133, 185.199.111.133, ...\n",
            "Connecting to raw.githubusercontent.com (raw.githubusercontent.com)|185.199.110.133|:443... connected.\n",
            "HTTP request sent, awaiting response... 200 OK\n",
            "Length: 1864544 (1.8M) [text/plain]\n",
            "Saving to: ‘test.review.spm.2’\n",
            "\n",
            "test.review.spm.2   100%[===================>]   1.78M  --.-KB/s    in 0.06s   \n",
            "\n",
            "2024-10-17 19:24:11 (29.3 MB/s) - ‘test.review.spm.2’ saved [1864544/1864544]\n",
            "\n",
            "--2024-10-17 19:24:11--  https://raw.githubusercontent.com/moussaKam/transfer_learning_transformers/main/cls-books/test.label\n",
            "Resolving raw.githubusercontent.com (raw.githubusercontent.com)... 185.199.110.133, 185.199.109.133, 185.199.111.133, ...\n",
            "Connecting to raw.githubusercontent.com (raw.githubusercontent.com)|185.199.110.133|:443... connected.\n",
            "HTTP request sent, awaiting response... 200 OK\n",
            "Length: 4000 (3.9K) [text/plain]\n",
            "Saving to: ‘test.label.2’\n",
            "\n",
            "test.label.2        100%[===================>]   3.91K  --.-KB/s    in 0s      \n",
            "\n",
            "2024-10-17 19:24:11 (48.8 MB/s) - ‘test.label.2’ saved [4000/4000]\n",
            "\n"
          ]
        }
      ],
      "source": [
        "!wget https://raw.githubusercontent.com/moussaKam/transfer_learning_transformers/main/cls-books/train.review.spm\n",
        "!wget https://raw.githubusercontent.com/moussaKam/transfer_learning_transformers/main/cls-books/train.label\n",
        "!wget https://raw.githubusercontent.com/moussaKam/transfer_learning_transformers/main/cls-books/test.review.spm\n",
        "!wget https://raw.githubusercontent.com/moussaKam/transfer_learning_transformers/main/cls-books/test.label\n",
        "\n",
        "path_data_train = \"train.review.spm\"\n",
        "path_labels_train = \"train.label\"\n",
        "\n",
        "path_data_valid = \"test.review.spm\"\n",
        "path_labels_valid = \"test.label\""
      ]
    },
    {
      "cell_type": "code",
      "execution_count": 21,
      "metadata": {
        "id": "_MLfvjiom2SL"
      },
      "outputs": [],
      "source": [
        "# a function to evaluate the validation accuracy of the model.\n",
        "def evaluate_accuracy(data_loader):\n",
        "    #to be implemented\n",
        "    with torch.no_grad():\n",
        "        correct, total = 0, 0\n",
        "        model.eval()\n",
        "        for data in data_loader:\n",
        "            src_mask = model.base.generate_square_subsequent_mask(data[0].size(0)).to(device)\n",
        "            input = data[0].to(device)\n",
        "            output = model(input, src_mask)\n",
        "            output = output[-1, :]\n",
        "            predicted = torch.argmax(output, axis = -1)\n",
        "\n",
        "            target = data[1]\n",
        "            target = target.to(device)\n",
        "\n",
        "            total += target.shape[0]\n",
        "            correct += (predicted == target).sum().item()\n",
        "        accuracy = correct / total\n",
        "        print(f\"Accuracy: {accuracy}\")\n",
        "        return accuracy"
      ]
    },
    {
      "cell_type": "code",
      "execution_count": 22,
      "metadata": {
        "id": "qzmx7T7xoa6v"
      },
      "outputs": [],
      "source": [
        "#save the base model to be loaded later in the fine-tuning phase\n",
        "torch.save({\"model_state_dict\": model.base.state_dict(),}, \"pretrained_model_4layers_no_class_head.pt\")"
      ]
    },
    {
      "cell_type": "code",
      "execution_count": 23,
      "metadata": {
        "id": "i-xclMCpnVpw"
      },
      "outputs": [
        {
          "name": "stdout",
          "output_type": "stream",
          "text": [
            "=====Trainig FROM SCRATCH======\n",
            "| epoch   1 |    50/  200 steps | loss 0.78911 | ppl    2.201\n",
            "| epoch   1 |   100/  200 steps | loss 0.70492 | ppl    2.024\n",
            "| epoch   1 |   150/  200 steps | loss 0.69422 | ppl    2.002\n",
            "Accuracy: 0.6495\n",
            "| epoch   2 |    50/  200 steps | loss 0.68526 | ppl    1.984\n",
            "| epoch   2 |   100/  200 steps | loss 0.59391 | ppl    1.811\n",
            "| epoch   2 |   150/  200 steps | loss 0.58286 | ppl    1.791\n",
            "Accuracy: 0.632\n",
            "| epoch   3 |    50/  200 steps | loss 0.49857 | ppl    1.646\n",
            "| epoch   3 |   100/  200 steps | loss 0.39570 | ppl    1.485\n",
            "| epoch   3 |   150/  200 steps | loss 0.39428 | ppl    1.483\n",
            "Accuracy: 0.7535\n",
            "| epoch   4 |    50/  200 steps | loss 0.15670 | ppl    1.170\n",
            "| epoch   4 |   100/  200 steps | loss 0.11275 | ppl    1.119\n",
            "| epoch   4 |   150/  200 steps | loss 0.15151 | ppl    1.164\n",
            "Accuracy: 0.758\n",
            "| epoch   5 |    50/  200 steps | loss 0.01290 | ppl    1.013\n",
            "| epoch   5 |   100/  200 steps | loss 0.08877 | ppl    1.093\n",
            "| epoch   5 |   150/  200 steps | loss 0.05909 | ppl    1.061\n",
            "Accuracy: 0.7515\n",
            "| epoch   6 |    50/  200 steps | loss 0.02474 | ppl    1.025\n",
            "| epoch   6 |   100/  200 steps | loss 0.02438 | ppl    1.025\n",
            "| epoch   6 |   150/  200 steps | loss 0.01870 | ppl    1.019\n",
            "Accuracy: 0.7635\n",
            "| epoch   7 |    50/  200 steps | loss 0.00029 | ppl    1.000\n",
            "| epoch   7 |   100/  200 steps | loss 0.00009 | ppl    1.000\n",
            "| epoch   7 |   150/  200 steps | loss 0.02467 | ppl    1.025\n",
            "Accuracy: 0.744\n",
            "| epoch   8 |    50/  200 steps | loss 0.02060 | ppl    1.021\n",
            "| epoch   8 |   100/  200 steps | loss 0.00039 | ppl    1.000\n",
            "| epoch   8 |   150/  200 steps | loss 0.00071 | ppl    1.001\n",
            "Accuracy: 0.7555\n",
            "| epoch   9 |    50/  200 steps | loss 0.00004 | ppl    1.000\n",
            "| epoch   9 |   100/  200 steps | loss 0.00481 | ppl    1.005\n",
            "| epoch   9 |   150/  200 steps | loss 0.00004 | ppl    1.000\n",
            "Accuracy: 0.7455\n",
            "| epoch  10 |    50/  200 steps | loss 0.00008 | ppl    1.000\n",
            "| epoch  10 |   100/  200 steps | loss 0.00003 | ppl    1.000\n",
            "| epoch  10 |   150/  200 steps | loss 0.00002 | ppl    1.000\n",
            "Accuracy: 0.756\n",
            "| epoch  11 |    50/  200 steps | loss 0.00002 | ppl    1.000\n",
            "| epoch  11 |   100/  200 steps | loss 0.00002 | ppl    1.000\n",
            "| epoch  11 |   150/  200 steps | loss 0.00002 | ppl    1.000\n",
            "Accuracy: 0.756\n",
            "| epoch  12 |    50/  200 steps | loss 0.00001 | ppl    1.000\n",
            "| epoch  12 |   100/  200 steps | loss 0.00001 | ppl    1.000\n",
            "| epoch  12 |   150/  200 steps | loss 0.00130 | ppl    1.001\n",
            "Accuracy: 0.749\n",
            "| epoch  13 |    50/  200 steps | loss 0.08143 | ppl    1.085\n",
            "| epoch  13 |   100/  200 steps | loss 0.00790 | ppl    1.008\n",
            "| epoch  13 |   150/  200 steps | loss 0.00872 | ppl    1.009\n",
            "Accuracy: 0.75\n",
            "| epoch  14 |    50/  200 steps | loss 0.00427 | ppl    1.004\n",
            "| epoch  14 |   100/  200 steps | loss 0.00002 | ppl    1.000\n",
            "| epoch  14 |   150/  200 steps | loss 0.00001 | ppl    1.000\n",
            "Accuracy: 0.754\n",
            "| epoch  15 |    50/  200 steps | loss 0.00001 | ppl    1.000\n",
            "| epoch  15 |   100/  200 steps | loss 0.00001 | ppl    1.000\n",
            "| epoch  15 |   150/  200 steps | loss 0.00001 | ppl    1.000\n",
            "Accuracy: 0.749\n",
            "\n",
            "=====PRETRAINED MODEL======\n"
          ]
        },
        {
          "name": "stderr",
          "output_type": "stream",
          "text": [
            "/tmp/ipykernel_1188298/89992632.py:14: FutureWarning: You are using `torch.load` with `weights_only=False` (the current default value), which uses the default pickle module implicitly. It is possible to construct malicious pickle data which will execute arbitrary code during unpickling (See https://github.com/pytorch/pytorch/blob/main/SECURITY.md#untrusted-models for more details). In a future release, the default value for `weights_only` will be flipped to `True`. This limits the functions that could be executed during unpickling. Arbitrary objects will no longer be allowed to be loaded via this mode unless they are explicitly allowlisted by the user via `torch.serialization.add_safe_globals`. We recommend you start setting `weights_only=True` for any use case where you don't have full control of the loaded file. Please open an issue on GitHub for any issues related to this experimental feature.\n",
            "  checkpoint = torch.load(\"pretrained_model_4layers_no_class_head.pt\")\n"
          ]
        },
        {
          "name": "stdout",
          "output_type": "stream",
          "text": [
            "| epoch   1 |    50/  200 steps | loss 0.83428 | ppl    2.303\n",
            "| epoch   1 |   100/  200 steps | loss 0.69345 | ppl    2.001\n",
            "| epoch   1 |   150/  200 steps | loss 0.62579 | ppl    1.870\n",
            "Accuracy: 0.7505\n",
            "| epoch   2 |    50/  200 steps | loss 0.54951 | ppl    1.732\n",
            "| epoch   2 |   100/  200 steps | loss 0.50609 | ppl    1.659\n",
            "| epoch   2 |   150/  200 steps | loss 0.47700 | ppl    1.611\n",
            "Accuracy: 0.788\n",
            "| epoch   3 |    50/  200 steps | loss 0.34667 | ppl    1.414\n",
            "| epoch   3 |   100/  200 steps | loss 0.34764 | ppl    1.416\n",
            "| epoch   3 |   150/  200 steps | loss 0.38025 | ppl    1.463\n",
            "Accuracy: 0.7895\n",
            "| epoch   4 |    50/  200 steps | loss 0.23097 | ppl    1.260\n",
            "| epoch   4 |   100/  200 steps | loss 0.27285 | ppl    1.314\n",
            "| epoch   4 |   150/  200 steps | loss 0.33629 | ppl    1.400\n",
            "Accuracy: 0.786\n",
            "| epoch   5 |    50/  200 steps | loss 0.22083 | ppl    1.247\n",
            "| epoch   5 |   100/  200 steps | loss 0.20670 | ppl    1.230\n",
            "| epoch   5 |   150/  200 steps | loss 0.18177 | ppl    1.199\n",
            "Accuracy: 0.777\n",
            "| epoch   6 |    50/  200 steps | loss 0.09283 | ppl    1.097\n",
            "| epoch   6 |   100/  200 steps | loss 0.16263 | ppl    1.177\n",
            "| epoch   6 |   150/  200 steps | loss 0.07808 | ppl    1.081\n",
            "Accuracy: 0.776\n",
            "| epoch   7 |    50/  200 steps | loss 0.00048 | ppl    1.000\n",
            "| epoch   7 |   100/  200 steps | loss 0.05442 | ppl    1.056\n",
            "| epoch   7 |   150/  200 steps | loss 0.08104 | ppl    1.084\n",
            "Accuracy: 0.7765\n",
            "| epoch   8 |    50/  200 steps | loss 0.00496 | ppl    1.005\n",
            "| epoch   8 |   100/  200 steps | loss 0.00697 | ppl    1.007\n",
            "| epoch   8 |   150/  200 steps | loss 0.03452 | ppl    1.035\n",
            "Accuracy: 0.7795\n",
            "| epoch   9 |    50/  200 steps | loss 0.00591 | ppl    1.006\n",
            "| epoch   9 |   100/  200 steps | loss 0.00022 | ppl    1.000\n",
            "| epoch   9 |   150/  200 steps | loss 0.02837 | ppl    1.029\n",
            "Accuracy: 0.7695\n",
            "| epoch  10 |    50/  200 steps | loss 0.00022 | ppl    1.000\n",
            "| epoch  10 |   100/  200 steps | loss 0.00017 | ppl    1.000\n",
            "| epoch  10 |   150/  200 steps | loss 0.01366 | ppl    1.014\n",
            "Accuracy: 0.769\n",
            "| epoch  11 |    50/  200 steps | loss 0.00005 | ppl    1.000\n",
            "| epoch  11 |   100/  200 steps | loss 0.00001 | ppl    1.000\n",
            "| epoch  11 |   150/  200 steps | loss 0.00001 | ppl    1.000\n",
            "Accuracy: 0.772\n",
            "| epoch  12 |    50/  200 steps | loss 0.00003 | ppl    1.000\n",
            "| epoch  12 |   100/  200 steps | loss 0.00000 | ppl    1.000\n",
            "| epoch  12 |   150/  200 steps | loss 0.00058 | ppl    1.001\n",
            "Accuracy: 0.7705\n",
            "| epoch  13 |    50/  200 steps | loss 0.00165 | ppl    1.002\n",
            "| epoch  13 |   100/  200 steps | loss 0.00147 | ppl    1.001\n",
            "| epoch  13 |   150/  200 steps | loss 0.00007 | ppl    1.000\n",
            "Accuracy: 0.773\n",
            "| epoch  14 |    50/  200 steps | loss 0.00601 | ppl    1.006\n",
            "| epoch  14 |   100/  200 steps | loss 0.00004 | ppl    1.000\n",
            "| epoch  14 |   150/  200 steps | loss 0.00575 | ppl    1.006\n",
            "Accuracy: 0.7725\n",
            "| epoch  15 |    50/  200 steps | loss 0.01079 | ppl    1.011\n",
            "| epoch  15 |   100/  200 steps | loss 0.00008 | ppl    1.000\n",
            "| epoch  15 |   150/  200 steps | loss 0.00001 | ppl    1.000\n",
            "Accuracy: 0.781\n",
            "\n"
          ]
        }
      ],
      "source": [
        "from_scratch_settings = [True, False]\n",
        "\n",
        "from_scratch_valid_acc = []\n",
        "pretrained_valid_acc = []\n",
        "lr = 0.0001\n",
        "\n",
        "for from_scratch in from_scratch_settings:\n",
        "    model = Model(ntokens, nhead, nhid, nlayers, 2, dropout).to(device)\n",
        "    criterion = nn.CrossEntropyLoss()\n",
        "    optimizer = torch.optim.Adam(model.parameters(), lr=lr)\n",
        "    if not from_scratch:\n",
        "        print(\"=====PRETRAINED MODEL======\")\n",
        "        #load checkpoint\n",
        "        checkpoint = torch.load(\"pretrained_model_4layers_no_class_head.pt\")\n",
        "        #load state dict\n",
        "        model.base.load_state_dict(checkpoint['model_state_dict'])\n",
        "    else:\n",
        "        print(\"=====Trainig FROM SCRATCH======\")\n",
        "    epochs = 15\n",
        "    for epoch in range(1, epochs + 1):\n",
        "        train(\n",
        "            path_data_train,\n",
        "            path_labels_train,\n",
        "            save_interval=-1,\n",
        "            task='classification',\n",
        "            batch_size=8,\n",
        "            log_interval=50,\n",
        "        )\n",
        "        acc = evaluate_accuracy(\n",
        "            get_loader(\n",
        "                path_data_valid,\n",
        "                path_labels_valid,\n",
        "                token2ind=token2ind,\n",
        "                batch_size=20,\n",
        "                task='classification',\n",
        "            )\n",
        "        )\n",
        "        if from_scratch:\n",
        "            from_scratch_valid_acc.append(acc)\n",
        "        else:\n",
        "            pretrained_valid_acc.append(acc)\n",
        "    print()"
      ]
    },
    {
      "cell_type": "code",
      "execution_count": 24,
      "metadata": {
        "id": "RCpBIdTHojm6"
      },
      "outputs": [
        {
          "data": {
            "image/png": "[encoded data removed]",
            "text/plain": [
              "<Figure size 640x480 with 1 Axes>"
            ]
          },
          "metadata": {},
          "output_type": "display_data"
        }
      ],
      "source": [
        "#Visualize the accuracy\n",
        "\n",
        "import matplotlib.pyplot as plt\n",
        "\n",
        "plt.plot(from_scratch_valid_acc, label = \"From scratch\")\n",
        "plt.plot(pretrained_valid_acc, label = \"Pretrained\")\n",
        "plt.xlabel(\"Epochs\")\n",
        "plt.ylabel(\"Accuracy\")\n",
        "plt.legend()\n",
        "plt.title(\"Accuracy of the models\")\n",
        "\n",
        "plt.show()"
      ]
    }
  ],
  "metadata": {
    "accelerator": "GPU",
    "colab": {
      "provenance": []
    },
    "kernelspec": {
      "display_name": "RecVis2",
      "language": "python",
      "name": "python3"
    },
    "language_info": {
      "codemirror_mode": {
        "name": "ipython",
        "version": 3
      },
      "file_extension": ".py",
      "mimetype": "text/x-python",
      "name": "python",
      "nbconvert_exporter": "python",
      "pygments_lexer": "ipython3",
      "version": "3.11.9"
    }
  },
  "nbformat": 4,
  "nbformat_minor": 0
}
