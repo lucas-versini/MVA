{
  "cells": [
    {
      "cell_type": "markdown",
      "metadata": {
        "id": "TdpPHz2Lp6VD"
      },
      "source": [
        "# Coding a MaskGIT autoencoder in Pytorch\n",
        "\n",
        "**Student: Lucas Versini**\n",
        "\n",
        "For any remark or suggestion on this lab, please feel free to contact me at:\n",
        "*   loic dot lefolgoc at telecom-paris dot fr.\n",
        "\n",
        "\n",
        "## Objective:\n",
        "\n",
        "The goal of this TP is to __explore VQ-VAEs and MaskGIT__, a generative image transformer model operating on tokenized representations (as typically output by VQ-VAEs). We will design a MaskGIT autoencoder applied to MNIST.\n",
        "\n",
        "## Your task:\n",
        "You need to __add the missing parts in the code__ (parts between # --- START CODE HERE and # --- END CODE HERE or # FILL IN CODE or ...).<br>\n",
        "\n",
        "You can train models for a few epochs on CPU or GPU to check that your code works. To save your time, __I actually provide models trained for longer for all parts of the lab__, which you can load once the relevant code is completed, before moving on to the next part.\n",
        "\n",
        "__Please upload the lab by the deadline as a .ipynb or a .zip named SURNAME_FirstName.ipynb or .zip__"
      ]
    },
    {
      "cell_type": "markdown",
      "metadata": {
        "id": "gp13aVUQq1WX"
      },
      "source": [
        "First of all, let's load some packages:"
      ]
    },
    {
      "cell_type": "code",
      "execution_count": 1,
      "metadata": {
        "id": "JqNeIJ8Op8Ao"
      },
      "outputs": [],
      "source": [
        "import torch\n",
        "import torch.nn as nn\n",
        "import torch.nn.functional as F\n",
        "import torch.optim as optim\n",
        "from torchvision import datasets, transforms\n",
        "from torch.autograd import Variable\n",
        "from torchvision.utils import save_image\n",
        "\n",
        "import pdb\n",
        "import numpy as np\n",
        "import matplotlib.pyplot as plt"
      ]
    },
    {
      "cell_type": "code",
      "execution_count": 2,
      "metadata": {
        "id": "U6NKzRPlDKZp"
      },
      "outputs": [],
      "source": [
        "from tqdm import tqdm"
      ]
    },
    {
      "cell_type": "code",
      "execution_count": 3,
      "metadata": {
        "colab": {
          "base_uri": "https://localhost:8080/"
        },
        "id": "jvLPB3e0sHPp",
        "outputId": "ac0dde0d-e973-41f1-9b60-c31ffbc5fd08"
      },
      "outputs": [
        {
          "name": "stdout",
          "output_type": "stream",
          "text": [
            "Requirement already satisfied: vector-quantize-pytorch in /Data/lucas.versini/miniconda3/envs/RecVis/lib/python3.11/site-packages (1.21.9)\n",
            "Requirement already satisfied: einops>=0.8.0 in /Data/lucas.versini/miniconda3/envs/RecVis/lib/python3.11/site-packages (from vector-quantize-pytorch) (0.8.0)\n",
            "Requirement already satisfied: einx>=0.3.0 in /Data/lucas.versini/miniconda3/envs/RecVis/lib/python3.11/site-packages (from vector-quantize-pytorch) (0.3.0)\n",
            "Requirement already satisfied: torch>=2.0 in /Data/lucas.versini/miniconda3/envs/RecVis/lib/python3.11/site-packages (from vector-quantize-pytorch) (2.5.1)\n",
            "Requirement already satisfied: numpy in /Data/lucas.versini/miniconda3/envs/RecVis/lib/python3.11/site-packages (from einx>=0.3.0->vector-quantize-pytorch) (1.26.4)\n",
            "Requirement already satisfied: sympy in /Data/lucas.versini/miniconda3/envs/RecVis/lib/python3.11/site-packages (from einx>=0.3.0->vector-quantize-pytorch) (1.13.1)\n",
            "Requirement already satisfied: frozendict in /Data/lucas.versini/miniconda3/envs/RecVis/lib/python3.11/site-packages (from einx>=0.3.0->vector-quantize-pytorch) (2.4.6)\n",
            "Requirement already satisfied: filelock in /Data/lucas.versini/miniconda3/envs/RecVis/lib/python3.11/site-packages (from torch>=2.0->vector-quantize-pytorch) (3.16.1)\n",
            "Requirement already satisfied: typing-extensions>=4.8.0 in /Data/lucas.versini/miniconda3/envs/RecVis/lib/python3.11/site-packages (from torch>=2.0->vector-quantize-pytorch) (4.12.2)\n",
            "Requirement already satisfied: networkx in /Data/lucas.versini/miniconda3/envs/RecVis/lib/python3.11/site-packages (from torch>=2.0->vector-quantize-pytorch) (3.4.2)\n",
            "Requirement already satisfied: jinja2 in /Data/lucas.versini/miniconda3/envs/RecVis/lib/python3.11/site-packages (from torch>=2.0->vector-quantize-pytorch) (3.1.4)\n",
            "Requirement already satisfied: fsspec in /Data/lucas.versini/miniconda3/envs/RecVis/lib/python3.11/site-packages (from torch>=2.0->vector-quantize-pytorch) (2024.9.0)\n",
            "Requirement already satisfied: mpmath<1.4,>=1.1.0 in /Data/lucas.versini/miniconda3/envs/RecVis/lib/python3.11/site-packages (from sympy->einx>=0.3.0->vector-quantize-pytorch) (1.3.0)\n",
            "Requirement already satisfied: MarkupSafe>=2.0 in /Data/lucas.versini/miniconda3/envs/RecVis/lib/python3.11/site-packages (from jinja2->torch>=2.0->vector-quantize-pytorch) (3.0.2)\n"
          ]
        }
      ],
      "source": [
        "!pip install vector-quantize-pytorch"
      ]
    },
    {
      "cell_type": "code",
      "execution_count": null,
      "metadata": {
        "colab": {
          "base_uri": "https://localhost:8080/"
        },
        "id": "eDfGfVdbv2BK",
        "outputId": "681a6557-aef1-4bd7-c70b-7064047f385b"
      },
      "outputs": [],
      "source": [
        "!pip install einops"
      ]
    },
    {
      "cell_type": "code",
      "execution_count": 5,
      "metadata": {
        "id": "9z4suXPhv4SN"
      },
      "outputs": [],
      "source": [
        "from einops import rearrange, repeat"
      ]
    },
    {
      "cell_type": "code",
      "execution_count": 6,
      "metadata": {
        "id": "-MzjBKW3rmqL"
      },
      "outputs": [],
      "source": [
        "from vector_quantize_pytorch import VectorQuantize"
      ]
    },
    {
      "cell_type": "markdown",
      "metadata": {
        "id": "0zXGp6SpmD3q"
      },
      "source": [
        "# 1. Loading MNIST"
      ]
    },
    {
      "cell_type": "markdown",
      "metadata": {
        "id": "Hyj5dj_eui9D"
      },
      "source": [
        "First, we __load the mnist dataset__. You should be able to train for a couple of epochs on the full training dataset `mnist_trainset` even on CPU, but should you need it, we create a reduced trainset below.\n",
        "\n",
        "Feel free to train on `mnist_trainset_reduced` instead if you prefer. To do so, replace the argument `mnist_trainset` in the `torch.utils.data.DataLoader(...)` call creating `mnist_train_loader` in the cell below by `mnist_trainset_reduced` (and same for `mnist_testset` and `mnist_testset_reduced`)."
      ]
    },
    {
      "cell_type": "code",
      "execution_count": 7,
      "metadata": {
        "colab": {
          "base_uri": "https://localhost:8080/"
        },
        "id": "4YPLKlPrufSk",
        "outputId": "ba7bfc11-ebc4-4d7a-ab7a-e0498f4bab21"
      },
      "outputs": [],
      "source": [
        "# MNIST Dataset\n",
        "mnist_trainset = datasets.MNIST(root='./mnist_data/', train=True, transform=transforms.ToTensor(), download=True)\n",
        "mnist_testset = datasets.MNIST(root='./mnist_data/', train=False, transform=transforms.ToTensor(), download=False)"
      ]
    },
    {
      "cell_type": "code",
      "execution_count": 8,
      "metadata": {
        "id": "4_JahnGp-PBP"
      },
      "outputs": [],
      "source": [
        "# create reduced datasets for auick experimentation\n",
        "\n",
        "# train\n",
        "max_mnist_size = 10000\n",
        "mnist_trainset_reduced = torch.utils.data.random_split(mnist_trainset, [max_mnist_size, len(mnist_trainset)-max_mnist_size])[0]\n",
        "\n",
        "# test\n",
        "max_mnist_size = 1000\n",
        "mnist_testset_reduced = torch.utils.data.random_split(mnist_testset, [max_mnist_size, len(mnist_testset)-max_mnist_size])[0]"
      ]
    },
    {
      "cell_type": "code",
      "execution_count": 9,
      "metadata": {
        "id": "uxj8ZwAN1Hw3"
      },
      "outputs": [],
      "source": [
        "batch_size = 64"
      ]
    },
    {
      "cell_type": "code",
      "execution_count": 10,
      "metadata": {
        "id": "StRXmUUE2iIJ"
      },
      "outputs": [],
      "source": [
        "# create the dataloaders\n",
        "mnist_train_loader = torch.utils.data.DataLoader(mnist_trainset, batch_size=batch_size, shuffle=True, drop_last=False)\n",
        "mnist_test_loader = torch.utils.data.DataLoader(mnist_testset, batch_size=batch_size, shuffle=False, drop_last=False)"
      ]
    },
    {
      "cell_type": "code",
      "execution_count": 11,
      "metadata": {
        "colab": {
          "base_uri": "https://localhost:8080/"
        },
        "id": "r7YhlBT2PN9I",
        "outputId": "9f6dc5e4-7aa5-45fd-a89a-a51f23a9fcda"
      },
      "outputs": [
        {
          "data": {
            "text/plain": [
              "torch.Size([60000, 28, 28])"
            ]
          },
          "execution_count": 11,
          "metadata": {},
          "output_type": "execute_result"
        }
      ],
      "source": [
        "mnist_trainset.data.shape"
      ]
    },
    {
      "cell_type": "markdown",
      "metadata": {
        "id": "Ba07bfUmoPbs"
      },
      "source": [
        "# 2. VQ-VAE"
      ]
    },
    {
      "cell_type": "markdown",
      "metadata": {
        "id": "9KPruYTMnwTP"
      },
      "source": [
        "The first part of the lab is about __training a VQ-VAE model__. We will abstract details about quantization and commitment loss by using an existing library that takes care of this for us via the `VectorQuantize` layer. We will however have to build the encoding-decoding architecture around it.\n",
        "\n",
        "\n",
        "\n"
      ]
    },
    {
      "cell_type": "markdown",
      "metadata": {
        "id": "6vSVaAQPkkW3"
      },
      "source": [
        "## 2.1 Building the VQ-VAE"
      ]
    },
    {
      "cell_type": "markdown",
      "metadata": {
        "id": "FYr_-2lvkjgp"
      },
      "source": [
        "The VQ-VAE model consists of\n",
        "*   an encoder, which maps from the original image space $H_0\\times W_0\\times 1$ to a lower-resolution image space $h\\times w\\times D$\n",
        "*   a `VectorQuantize` layer, which does the quantization i.e., turns the output of the encoder to $h\\times w$ images of integer tokens. It is also able to compute the commitment_loss, which is added to the reconstruction loss when training. Finally, it also returns quantized embeddings $h\\times w\\times D$ (a quantized version of the encoder output, which serves as the decoder input).\n",
        "*   a decoder, which goes back from quantized embeddings $h\\times w\\times D$ to an image $H_0\\times W_0\\times 1$\n",
        "\n",
        "The encoder/decoder consist of down/upsampling layers (conv or transpose conv with stride 2) and a residual stack to further process the feature maps."
      ]
    },
    {
      "cell_type": "code",
      "execution_count": 12,
      "metadata": {
        "id": "Wm9NrUUxoTkT"
      },
      "outputs": [],
      "source": [
        "class ResidualStack(nn.Module):\n",
        "    '''\n",
        "    The ResidualStack is already coded for you.\n",
        "    '''\n",
        "    def __init__(self, num_hiddens, num_residual_layers, num_residual_hiddens):\n",
        "        super().__init__()\n",
        "        # See Section 4.1 of \"Neural Discrete Representation Learning\".\n",
        "        layers = []\n",
        "        for i in range(num_residual_layers):\n",
        "            layers.append(\n",
        "                nn.Sequential(\n",
        "                    nn.ReLU(),\n",
        "                    nn.Conv2d(\n",
        "                        in_channels=num_hiddens,\n",
        "                        out_channels=num_residual_hiddens,\n",
        "                        kernel_size=3,\n",
        "                        padding=1,\n",
        "                    ),\n",
        "                    nn.ReLU(),\n",
        "                    nn.Conv2d(\n",
        "                        in_channels=num_residual_hiddens,\n",
        "                        out_channels=num_hiddens,\n",
        "                        kernel_size=1,\n",
        "                    ),\n",
        "                )\n",
        "            )\n",
        "\n",
        "        self.layers = nn.ModuleList(layers)\n",
        "\n",
        "    def forward(self, x):\n",
        "        '''\n",
        "        :args:\n",
        "          x -> FloatTensor(), shape (C, H, W): the input\n",
        "        :return:\n",
        "          FloatTensor(), shape (C, H, W): the output of the same shape.\n",
        "        '''\n",
        "        h = x\n",
        "        for layer in self.layers:\n",
        "            h = h + layer(h)\n",
        "\n",
        "        # ResNet V1-style.\n",
        "        return torch.relu(h)"
      ]
    },
    {
      "cell_type": "markdown",
      "metadata": {
        "id": "P-ML9fzizVlD"
      },
      "source": [
        "Let's code the `Encoder`. It consists of `self.conv`, a `nn.Sequential()` object with `num_downsampling_layers` downsampling layers, which are convolutions with\n",
        "*   stride of 2\n",
        "*   kernel size: 4x4\n",
        "*   padding: 1\n",
        "\n",
        "and a final conv (k:3x3 padding:1, stride:1) which outputs an image with `num_hidden` channels; this is followed by a `ResidualStack` with `num_residual_layers` and internally `num_residual_hiddens` channels.\n",
        "\n"
      ]
    },
    {
      "cell_type": "code",
      "execution_count": 13,
      "metadata": {
        "id": "AqzFXofkoaVp"
      },
      "outputs": [],
      "source": [
        "class Encoder(nn.Module):\n",
        "    def __init__(\n",
        "        self,\n",
        "        in_channels,\n",
        "        num_hiddens,\n",
        "        num_downsampling_layers,\n",
        "        num_residual_layers,\n",
        "        num_residual_hiddens,\n",
        "    ):\n",
        "        super().__init__()\n",
        "\n",
        "        conv = nn.Sequential()\n",
        "        for downsampling_layer in range(num_downsampling_layers):\n",
        "            if downsampling_layer == 0:\n",
        "                out_channels = num_hiddens // 2\n",
        "            elif downsampling_layer == 1:\n",
        "                (in_channels, out_channels) = (num_hiddens // 2, num_hiddens)\n",
        "\n",
        "            else:\n",
        "                (in_channels, out_channels) = (num_hiddens, num_hiddens)\n",
        "\n",
        "            # Add the Conv2d layer\n",
        "            conv.add_module(\n",
        "                f\"down{downsampling_layer}\",\n",
        "                nn.Conv2d(in_channels = in_channels, out_channels = out_channels,\n",
        "                          kernel_size = 4, stride = 2, padding = 1)\n",
        "            )\n",
        "            conv.add_module(f\"relu{downsampling_layer}\", nn.ReLU())\n",
        "\n",
        "        # Add the final Conv2d layer\n",
        "        conv.add_module(\n",
        "            \"final_conv\",\n",
        "            nn.Conv2d(in_channels = num_hiddens, out_channels = num_hiddens, kernel_size = 3, padding = 1),\n",
        "        )\n",
        "        self.conv = conv\n",
        "        self.residual_stack = ResidualStack(num_hiddens, num_residual_layers, num_residual_hiddens)\n",
        "\n",
        "    def forward(self, x):\n",
        "        h = self.conv(x)\n",
        "        return self.residual_stack(h)"
      ]
    },
    {
      "cell_type": "code",
      "execution_count": 14,
      "metadata": {
        "colab": {
          "base_uri": "https://localhost:8080/"
        },
        "id": "eo6xtYnh2B2T",
        "outputId": "e578d5b4-ac99-4822-9d4e-01d43a5e857c"
      },
      "outputs": [
        {
          "data": {
            "text/plain": [
              "torch.Size([5, 10, 7, 7])"
            ]
          },
          "execution_count": 14,
          "metadata": {},
          "output_type": "execute_result"
        }
      ],
      "source": [
        "# Test the Encoder class by running this cell\n",
        "\n",
        "# The input shape is (5, 1, 28, 28), the output shape should be (5, 10, 7, 7).\n",
        "\n",
        "temp = torch.randn(5, 1, 28, 28)\n",
        "temp = Encoder(in_channels = 1,\n",
        "               num_hiddens = 10,\n",
        "               num_downsampling_layers = 2,\n",
        "               num_residual_layers = 2,\n",
        "               num_residual_hiddens = 5\n",
        "               )(temp)\n",
        "temp.shape"
      ]
    },
    {
      "cell_type": "markdown",
      "metadata": {
        "id": "2R2x_ZAW3BUT"
      },
      "source": [
        "Next we code the `Decoder`. It starts with a `self.conv` layer, a `Conv2d` layer which projects from (embedding_dim, h, w) to (num_hidden, h, w). Then a `ResidualStack` follows to mirror the encoder. Then upsampling `ConvTranspose2d` layers listed in a `nn.Sequential()` object, with:\n",
        "*   kernel size: 4x4\n",
        "*   stride: 2\n",
        "*   padding: 1\n",
        "\n"
      ]
    },
    {
      "cell_type": "code",
      "execution_count": 15,
      "metadata": {
        "id": "MwG_afqhpfKT"
      },
      "outputs": [],
      "source": [
        "class Decoder(nn.Module):\n",
        "    def __init__(\n",
        "        self,\n",
        "        embedding_dim,\n",
        "        num_hiddens,\n",
        "        num_upsampling_layers,\n",
        "        num_residual_layers,\n",
        "        num_residual_hiddens,\n",
        "        x_channels\n",
        "    ):\n",
        "        super().__init__()\n",
        "\n",
        "        self.conv = nn.Conv2d(in_channels = embedding_dim, out_channels = num_hiddens, kernel_size = 3, stride = 1, padding = 1)\n",
        "\n",
        "        self.residual_stack = ResidualStack(num_hiddens, num_residual_layers, num_residual_hiddens)\n",
        "\n",
        "        upconv = nn.Sequential()\n",
        "        for upsampling_layer in range(num_upsampling_layers):\n",
        "            if upsampling_layer < num_upsampling_layers - 2:\n",
        "                (in_channels, out_channels) = (num_hiddens, num_hiddens)\n",
        "\n",
        "            elif upsampling_layer == num_upsampling_layers - 2:\n",
        "                (in_channels, out_channels) = (num_hiddens, num_hiddens // 2)\n",
        "\n",
        "            else:\n",
        "                (in_channels, out_channels) = (num_hiddens // 2, x_channels)\n",
        "\n",
        "            # Add the ConvTranspose2d\n",
        "            upconv.add_module(\n",
        "                f\"up{upsampling_layer}\",\n",
        "                nn.ConvTranspose2d(in_channels = in_channels, out_channels = out_channels,\n",
        "                                   kernel_size = 4, stride = 2, padding = 1)\n",
        "            )\n",
        "            if upsampling_layer < num_upsampling_layers - 1:\n",
        "                upconv.add_module(f\"relu{upsampling_layer}\", nn.ReLU())\n",
        "\n",
        "        self.upconv = upconv\n",
        "\n",
        "    def forward(self, x):\n",
        "        h = self.conv(x)\n",
        "        h = self.residual_stack(h)\n",
        "        x_recon = self.upconv(h)\n",
        "        return x_recon"
      ]
    },
    {
      "cell_type": "code",
      "execution_count": 16,
      "metadata": {
        "colab": {
          "base_uri": "https://localhost:8080/"
        },
        "id": "Is8wPlC_4m57",
        "outputId": "0d487f5e-9ba2-44c6-cfd4-f710fc2ebacf"
      },
      "outputs": [
        {
          "data": {
            "text/plain": [
              "torch.Size([5, 1, 28, 28])"
            ]
          },
          "execution_count": 16,
          "metadata": {},
          "output_type": "execute_result"
        }
      ],
      "source": [
        "# Test the Decoder class by running this cell\n",
        "\n",
        "# The input shape is (5, 5, 7, 7), the output shape should be (5, 1, 28, 28).\n",
        "\n",
        "temp = torch.randn(5, 5, 7, 7)\n",
        "temp = Decoder(embedding_dim = 5,\n",
        "               num_hiddens = 10,\n",
        "               num_upsampling_layers = 2,\n",
        "               num_residual_layers = 2,\n",
        "               num_residual_hiddens = 5,\n",
        "               x_channels = 1\n",
        "               )(temp)\n",
        "temp.shape"
      ]
    },
    {
      "cell_type": "markdown",
      "metadata": {
        "id": "fpuHJJhGVqR_"
      },
      "source": [
        "The `VQVAE` class wraps it all together: `Encoder`, `VectorQuantize` layer, `Decoder`.\n",
        "* The `forward` will be called at training time. It attempts to reconstruct its input (auto-encoding). It relies on a call to the `quantize` routine.\n",
        "* At inference time, we will call the `encode` and `decode` routines instead, which respectively let us obtain the (integer) image tokens, and reconstruct an image from input tokens.<br>\n",
        "\n",
        "Fill the missing parts (more details provided in the code)."
      ]
    },
    {
      "cell_type": "markdown",
      "metadata": {
        "id": "0XyEEDlQirl2"
      },
      "source": [
        "The main calls to interact with the `VectorQuantize` layer (say, an instance `vq`) are:\n",
        "* `z_quantized, encoding_indices, commitment_loss = vq(z)`, where `z` are D-dimensional embeddings output by an encoder, that are compared to `K` D-dimensional codes in a codebook\n",
        "* `z_quantized = vq.get_output_from_indices(encoding_indices)` in case you start from a grid of tokens and want to compute the corresponding quantized embeddings; the output format for this routine and this routine only is `(b, h, w, d)` instead of the `(b, d, h, w)` required by most layers (like convolutional layers), so that a rearrange will be needed afterwards."
      ]
    },
    {
      "cell_type": "code",
      "execution_count": 17,
      "metadata": {
        "id": "Nrpp4xK7rgRI"
      },
      "outputs": [],
      "source": [
        "class VQVAE(nn.Module):\n",
        "    def __init__(\n",
        "        self,\n",
        "        in_channels,              # number of input channels\n",
        "        num_hiddens,              # cf. Encoder and Decoder\n",
        "        num_downsampling_layers,  # if set to 2, downsample factor is 4\n",
        "        num_residual_layers,      # cf. Encoder and Decoder\n",
        "        num_residual_hiddens,     # cf. ResidualStack\n",
        "        embedding_dim,            # the length of a vector in the codebook (D)\n",
        "        codebook_size,            # the size of the codebook (K)\n",
        "        decay = 0.8,              # technical parameter (for EMA updates of the codebook), lower means the dictionary will change faster\n",
        "        commitment_weight = 1.,   # the weight of the commitment_loss compared to the reconstruction loss\n",
        "    ):\n",
        "        super().__init__()\n",
        "\n",
        "        # class Encoder()\n",
        "        self.encoder = Encoder(in_channels = in_channels, num_hiddens = num_hiddens, num_downsampling_layers = num_downsampling_layers,\n",
        "                               num_residual_layers = num_residual_layers, num_residual_hiddens = num_residual_hiddens)\n",
        "\n",
        "        # An additional Conv2d called right after the encoder to project from\n",
        "        # num_hidden channels to embedding_dim channels (so that embeddings\n",
        "        # can be compared to the codes in the codebook).\n",
        "        self.pre_vq_conv = nn.Conv2d(\n",
        "            in_channels=num_hiddens, out_channels=embedding_dim, kernel_size=1\n",
        "        )\n",
        "\n",
        "        # The quantization layer\n",
        "        self.vq = VectorQuantize(\n",
        "            dim = embedding_dim,\n",
        "            codebook_size = codebook_size,\n",
        "            decay = decay,\n",
        "            commitment_weight = commitment_weight,\n",
        "            accept_image_fmap = True  # overrides the default, which is to deal with 1D signals\n",
        "        )\n",
        "\n",
        "        # class Decoder()\n",
        "        self.decoder = Decoder(embedding_dim = embedding_dim, num_hiddens = num_hiddens, num_upsampling_layers = num_downsampling_layers,\n",
        "                               num_residual_layers = num_residual_layers, num_residual_hiddens = num_residual_hiddens, x_channels = in_channels)\n",
        "\n",
        "    def quantize(self, x):\n",
        "        '''\n",
        "        :args\n",
        "            x -> FloatTensor() - (b, c, H0, W0): the batch of input images\n",
        "        :return\n",
        "            z_quantized -> FloatTensor() - (b, D, h, w): the quantized embeddings\n",
        "            commitment_loss -> FloatTensor() - (b,): the commitment loss value for all samples in the minibatch. cf. VQ-VAE paper\n",
        "            encoding_indices -> LongTensor() - (b, h, w): the grid of (integer) tokens\n",
        "        '''\n",
        "\n",
        "        # Pass through encoder, then through pre_vq_conv\n",
        "        z = self.pre_vq_conv(self.encoder(x))\n",
        "\n",
        "        # Pass through the vector quantization layer\n",
        "        z_quantized, encoding_indices, commitment_loss = self.vq(z)    # outputs are (b, h, w, d), (b, h, w), (b)\n",
        "\n",
        "        return (z_quantized, commitment_loss, encoding_indices)\n",
        "\n",
        "    def forward(self, x):\n",
        "        # Encode and quantize\n",
        "        (z_quantized, commitment_loss, _) = self.quantize(x)\n",
        "\n",
        "        # Reconstruct by passing through the decoder z_quantized\n",
        "        x_rec = self.decoder(z_quantized)\n",
        "\n",
        "        return {\n",
        "            \"commitment_loss\": commitment_loss,\n",
        "            \"x_rec\": x_rec,\n",
        "        }\n",
        "\n",
        "    def encode(self, x):\n",
        "        z = self.pre_vq_conv(self.encoder(x))\n",
        "        z_quantized, encoding_indices, _ = self.vq(z)\n",
        "\n",
        "        return encoding_indices, z_quantized, z\n",
        "\n",
        "    def decode(self, code_indices):\n",
        "        # Generate z_quantized from code_indices (see hint in the text above this cell)\n",
        "        z_quantized = self.vq.get_output_from_indices(code_indices)\n",
        "        z_quantized = rearrange(z_quantized, 'b h w d -> b d h w')\n",
        "\n",
        "        return self.decoder(z_quantized)"
      ]
    },
    {
      "cell_type": "code",
      "execution_count": 18,
      "metadata": {
        "colab": {
          "base_uri": "https://localhost:8080/"
        },
        "id": "alxVTtvGkwhB",
        "outputId": "d612d533-ddff-4678-e123-85b08882b7d2"
      },
      "outputs": [
        {
          "name": "stdout",
          "output_type": "stream",
          "text": [
            "Reconstructed shape: torch.Size([2, 1, 28, 28])\n",
            "Tokens shape: torch.Size([2, 7, 7])\n",
            "Quantized embeddings shape: torch.Size([2, 5, 7, 7])\n",
            "Reconstructed shape: torch.Size([2, 1, 28, 28])\n"
          ]
        }
      ],
      "source": [
        "# Test the VQVAE class by running this cell\n",
        "\n",
        "temp = torch.randn(2, 1, 28, 28)\n",
        "vq_temp = VQVAE(\n",
        "    in_channels = 1,\n",
        "    num_hiddens = 10,\n",
        "    num_downsampling_layers = 2,\n",
        "    num_residual_layers = 2,\n",
        "    num_residual_hiddens = 5,\n",
        "    embedding_dim = 5,\n",
        "    codebook_size = 100,\n",
        "    decay = 0.9,\n",
        "    commitment_weight = 1.\n",
        ")\n",
        "\n",
        "temp_o = vq_temp(temp)\n",
        "print('Reconstructed shape: {}'.format(temp_o['x_rec'].shape)) # should be (2, 1, 28, 28)\n",
        "\n",
        "temp_tokens, temp_z_quantized, _ = vq_temp.encode(temp)\n",
        "print('Tokens shape: {}'.format(temp_tokens.shape)) # should be (2, 7, 7)\n",
        "print('Quantized embeddings shape: {}'.format(temp_z_quantized.shape)) # should be (2, 5, 7, 7)\n",
        "\n",
        "temp_o = vq_temp.decode(temp_tokens)\n",
        "print('Reconstructed shape: {}'.format(temp_o.shape)) # should be (2, 1, 28, 28)"
      ]
    },
    {
      "cell_type": "markdown",
      "metadata": {
        "id": "HTQ7erh1xbWI"
      },
      "source": [
        "## 2.2. Training the VQ-VAE"
      ]
    },
    {
      "cell_type": "code",
      "execution_count": 19,
      "metadata": {
        "colab": {
          "base_uri": "https://localhost:8080/"
        },
        "id": "PXq1SIZRxbWJ",
        "outputId": "7550635d-f656-4b2c-e635-2efa4d48011d"
      },
      "outputs": [
        {
          "name": "stdout",
          "output_type": "stream",
          "text": [
            "cuda:0\n"
          ]
        }
      ],
      "source": [
        "device = torch.device(\"cuda:0\" if torch.cuda.is_available() else \"cpu\")\n",
        "print(device)"
      ]
    },
    {
      "cell_type": "markdown",
      "metadata": {
        "id": "dXeiSYrgxbWJ"
      },
      "source": [
        "The training proceeds as usual. We instantiate a model, move it to the correct device, create an optimizer and write the training loop."
      ]
    },
    {
      "cell_type": "code",
      "execution_count": 20,
      "metadata": {
        "id": "UbKCt1Y9xbWJ"
      },
      "outputs": [],
      "source": [
        "# Parameters\n",
        "in_channels = 1\n",
        "num_hiddens = 64\n",
        "num_downsampling_layers = 2\n",
        "num_residual_layers = 2\n",
        "num_residual_hiddens = 32\n",
        "embedding_dim = 32\n",
        "codebook_size = 64\n",
        "\n",
        "learning_rate = 1e-4\n",
        "n_epoch = 1 # if running on GPU you can use more epochs"
      ]
    },
    {
      "cell_type": "code",
      "execution_count": 21,
      "metadata": {
        "id": "Mi4PR_BTxbWK"
      },
      "outputs": [],
      "source": [
        "# Model\n",
        "vqvae_model = VQVAE(in_channels = in_channels,\n",
        "                    num_hiddens = num_hiddens,\n",
        "                    num_downsampling_layers = num_downsampling_layers,\n",
        "                    num_residual_layers = num_residual_layers,\n",
        "                    num_residual_hiddens = num_residual_hiddens,\n",
        "                    embedding_dim = embedding_dim,\n",
        "                    codebook_size = codebook_size)"
      ]
    },
    {
      "cell_type": "code",
      "execution_count": 22,
      "metadata": {
        "id": "1N1yM4NA_kHJ"
      },
      "outputs": [],
      "source": [
        "vqvae_model = vqvae_model.to(device)"
      ]
    },
    {
      "cell_type": "code",
      "execution_count": 23,
      "metadata": {
        "id": "i418nwfLxbWK"
      },
      "outputs": [],
      "source": [
        "# Use the AdamW optimizer, set the correct learning rate and weight_decay to 1e-4\n",
        "optimizer = optim.AdamW(vqvae_model.parameters(), lr=learning_rate, weight_decay=1e-4)"
      ]
    },
    {
      "cell_type": "markdown",
      "metadata": {
        "id": "PiZSdS4TntVV"
      },
      "source": [
        "Let us write the training loop. We should use a reconstruction loss adapted to binary masks. Note that the decoder of VQVAE ends with a `Conv2d` rather than a `sigmoid`, which means that it outputs logits rather than probabilities. __Which reconstruction loss is suitable?__\n",
        "* `F.mse_loss`\n",
        "* `F.cross_entropy`\n",
        "* `F.binary_cross_entropy`\n",
        "* `F.binary_cross_entropy_with_logits`\n",
        "\n",
        "You can use `reduction=\"mean\"`."
      ]
    },
    {
      "cell_type": "markdown",
      "metadata": {},
      "source": [
        "**Answer**:\n",
        "The decoder outputs logits, not probabilities; therefore `F.binary_cross_entropy_with_logits` is suitable."
      ]
    },
    {
      "cell_type": "code",
      "execution_count": 24,
      "metadata": {
        "colab": {
          "base_uri": "https://localhost:8080/"
        },
        "id": "Pi8odIz9xbWK",
        "outputId": "156ed78f-c69f-49b4-8d46-6a9d5ce4fd51"
      },
      "outputs": [
        {
          "name": "stderr",
          "output_type": "stream",
          "text": [
            "Epoch 0: 100%|██████████| 938/938 [00:10<00:00, 86.54batch/s, loss=0.0801]"
          ]
        },
        {
          "name": "stdout",
          "output_type": "stream",
          "text": [
            "Epoch 0: Train Loss: 0.1781\n"
          ]
        },
        {
          "name": "stderr",
          "output_type": "stream",
          "text": [
            "\n"
          ]
        }
      ],
      "source": [
        "vqvae_model.train()\n",
        "\n",
        "for epoch in range(0,n_epoch):\n",
        "  train_loss=0.0\n",
        "\n",
        "  with tqdm(mnist_train_loader, unit=\"batch\") as tepoch:\n",
        "    for data, labels in tepoch:\n",
        "      tepoch.set_description(f\"Epoch {epoch}\")\n",
        "\n",
        "      # Put data on correct device, GPU or CPU\n",
        "      data = data.to(device)\n",
        "\n",
        "      # Pass the input data through the model\n",
        "      predict = vqvae_model(data)\n",
        "      x_hat = predict['x_rec']\n",
        "\n",
        "      # Compute the VQ-VAE loss\n",
        "      reconstruction_loss = F.binary_cross_entropy_with_logits(x_hat, data, reduction = 'mean')\n",
        "      commitment_loss = predict['commitment_loss'].mean()\n",
        "      loss = reconstruction_loss + commitment_loss\n",
        "\n",
        "      # Backpropagate\n",
        "      optimizer.zero_grad()\n",
        "      loss.backward()\n",
        "      optimizer.step()\n",
        "\n",
        "      # Aggregate the training loss for display at the end of the epoch\n",
        "      train_loss += loss.item()\n",
        "\n",
        "      # tqdm bar displays the loss\n",
        "      tepoch.set_postfix(loss=loss.item())\n",
        "\n",
        "  print('Epoch {}: Train Loss: {:.4f}'.format(epoch, train_loss/len(mnist_train_loader)))"
      ]
    },
    {
      "cell_type": "markdown",
      "metadata": {
        "id": "W3GBjoxfo8p6"
      },
      "source": [
        "Once you think the training goes in the right direction, hence your model is correct, you can actually __load an already trained VQVAE__ if you prefer. If your code is correct and if you kept the same model parameters, it should load without failure. Note that __if you want to use the already trained AE-MaskGIT model in the second part of the lab__ below, you __have to__ use this VQVAE that I provide you with."
      ]
    },
    {
      "cell_type": "code",
      "execution_count": 25,
      "metadata": {
        "colab": {
          "base_uri": "https://localhost:8080/"
        },
        "id": "Tn6MaAvFCyxT",
        "outputId": "6a5f8d7a-8468-460d-c251-74a0cb3600e5"
      },
      "outputs": [
        {
          "name": "stdout",
          "output_type": "stream",
          "text": [
            "WARNING: combining -O with -r or -p will mean that all downloaded content\n",
            "will be placed in the single file you specified.\n",
            "\n",
            "--2025-03-04 17:13:45--  https://drive.google.com/uc?export=download&id=1E5uK7xccsiOoaUpClNcd5vAdZAfmXtCd\n",
            "Resolving drive.google.com (drive.google.com)... 216.58.214.174, 2a00:1450:4007:80e::200e\n",
            "Connecting to drive.google.com (drive.google.com)|216.58.214.174|:443... connected.\n",
            "HTTP request sent, awaiting response... 303 See Other\n",
            "Location: https://drive.usercontent.google.com/download?id=1E5uK7xccsiOoaUpClNcd5vAdZAfmXtCd&export=download [following]\n",
            "--2025-03-04 17:13:45--  https://drive.usercontent.google.com/download?id=1E5uK7xccsiOoaUpClNcd5vAdZAfmXtCd&export=download\n",
            "Resolving drive.usercontent.google.com (drive.usercontent.google.com)... 142.250.179.97, 2a00:1450:4007:818::2001\n",
            "Connecting to drive.usercontent.google.com (drive.usercontent.google.com)|142.250.179.97|:443... connected.\n",
            "HTTP request sent, awaiting response... 200 OK\n",
            "Length: 855686 (836K) [application/octet-stream]\n",
            "Saving to: ‘weights_vqvae.pth’\n",
            "\n",
            "weights_vqvae.pth   100%[===================>] 835.63K  --.-KB/s    in 0.09s   \n",
            "\n",
            "2025-03-04 17:13:48 (9.03 MB/s) - ‘weights_vqvae.pth’ saved [855686/855686]\n",
            "\n",
            "FINISHED --2025-03-04 17:13:48--\n",
            "Total wall clock time: 3.0s\n",
            "Downloaded: 1 files, 836K in 0.09s (9.03 MB/s)\n"
          ]
        }
      ],
      "source": [
        "!wget --no-check-certificate -r 'https://drive.google.com/uc?export=download&id=1E5uK7xccsiOoaUpClNcd5vAdZAfmXtCd' -O weights_vqvae.pth"
      ]
    },
    {
      "cell_type": "code",
      "execution_count": 26,
      "metadata": {
        "colab": {
          "base_uri": "https://localhost:8080/"
        },
        "id": "aUqCbEg8DCV-",
        "outputId": "14f5b752-c6cc-4b30-d9a0-d467a77d48ec"
      },
      "outputs": [
        {
          "name": "stderr",
          "output_type": "stream",
          "text": [
            "/tmp/ipykernel_1618742/2985836569.py:1: FutureWarning: You are using `torch.load` with `weights_only=False` (the current default value), which uses the default pickle module implicitly. It is possible to construct malicious pickle data which will execute arbitrary code during unpickling (See https://github.com/pytorch/pytorch/blob/main/SECURITY.md#untrusted-models for more details). In a future release, the default value for `weights_only` will be flipped to `True`. This limits the functions that could be executed during unpickling. Arbitrary objects will no longer be allowed to be loaded via this mode unless they are explicitly allowlisted by the user via `torch.serialization.add_safe_globals`. We recommend you start setting `weights_only=True` for any use case where you don't have full control of the loaded file. Please open an issue on GitHub for any issues related to this experimental feature.\n",
            "  weights_dict = torch.load('weights_vqvae.pth')\n"
          ]
        }
      ],
      "source": [
        "weights_dict = torch.load('weights_vqvae.pth')"
      ]
    },
    {
      "cell_type": "code",
      "execution_count": 27,
      "metadata": {
        "id": "HDaCM-9XDc-3"
      },
      "outputs": [],
      "source": [
        "vqvae_model = VQVAE(in_channels = in_channels,\n",
        "                    num_hiddens = num_hiddens,\n",
        "                    num_downsampling_layers = num_downsampling_layers,\n",
        "                    num_residual_layers = num_residual_layers,\n",
        "                    num_residual_hiddens = num_residual_hiddens,\n",
        "                    embedding_dim = embedding_dim,\n",
        "                    codebook_size = codebook_size,\n",
        "                    decay = 0.95)"
      ]
    },
    {
      "cell_type": "code",
      "execution_count": 28,
      "metadata": {
        "colab": {
          "base_uri": "https://localhost:8080/"
        },
        "id": "nP9HY7-CDC1_",
        "outputId": "1d01f5f4-28fd-4569-f61a-8d8dc69e3923"
      },
      "outputs": [
        {
          "data": {
            "text/plain": [
              "<All keys matched successfully>"
            ]
          },
          "execution_count": 28,
          "metadata": {},
          "output_type": "execute_result"
        }
      ],
      "source": [
        "vqvae_model.load_state_dict(weights_dict)"
      ]
    },
    {
      "cell_type": "code",
      "execution_count": 29,
      "metadata": {
        "id": "YRQrf4jsDFDG"
      },
      "outputs": [],
      "source": [
        "vqvae_model = vqvae_model.to(device)"
      ]
    },
    {
      "cell_type": "markdown",
      "metadata": {
        "id": "hUtCqtuopkXR"
      },
      "source": [
        "Done, let's move to testing the model!"
      ]
    },
    {
      "cell_type": "markdown",
      "metadata": {
        "id": "tKQ2bU-_xbWK"
      },
      "source": [
        "## 2.3. Testing the VQ-VAE"
      ]
    },
    {
      "cell_type": "markdown",
      "metadata": {
        "id": "ZwczqCQVxbWK"
      },
      "source": [
        "We define functions for qualitative testing of the autoencoder model. We will reuse them throughout the lab."
      ]
    },
    {
      "cell_type": "code",
      "execution_count": 30,
      "metadata": {
        "id": "dIynOXfcxbWK"
      },
      "outputs": [],
      "source": [
        "def display_images(imgs):\n",
        "  '''\n",
        "  Display a batch of images (typically synthetic/generated images)\n",
        "  '''\n",
        "  r = 1\n",
        "  c = imgs.shape[0]\n",
        "  fig, axs = plt.subplots(r, c)\n",
        "  for j in range(c):\n",
        "    # black and white images\n",
        "    axs[j].imshow(imgs[j, 0,:,:].detach().cpu().numpy(), cmap='gray')\n",
        "    axs[j].axis('off')\n",
        "  plt.show()\n",
        "\n",
        "def display_ae_images(ae_model, test_imgs, device):\n",
        "  '''\n",
        "  Display a batch of input images along with their reconstructions by a given model\n",
        "    First row: input images\n",
        "    Second row: reconstructed images\n",
        "  '''\n",
        "\n",
        "  ae_model.eval()\n",
        "\n",
        "  # choose random images\n",
        "  n_images = 5\n",
        "  idx = np.random.randint(0, test_imgs.shape[0], n_images)\n",
        "  test_imgs = test_imgs[idx,:,:,:]\n",
        "\n",
        "  # get reconstructions\n",
        "  # Don't forget to pass the output of vq_vae through a sigmoid to get images!\n",
        "  output_imgs = torch.sigmoid(ae_model(test_imgs.to(device))['x_rec'])\n",
        "  output_imgs = output_imgs.detach().cpu().numpy()\n",
        "\n",
        "  r = 2\n",
        "  c = n_images\n",
        "  fig, axs = plt.subplots(r, c)\n",
        "  for j in range(c):\n",
        "    axs[0,j].imshow(test_imgs[j, 0,:,:], cmap='gray')\n",
        "    axs[0,j].axis('off')\n",
        "    axs[1,j].imshow(output_imgs[j, 0,:,:], cmap='gray')\n",
        "    axs[1,j].axis('off')\n",
        "  plt.show()"
      ]
    },
    {
      "cell_type": "markdown",
      "metadata": {
        "id": "egTZ-5PTxbWK"
      },
      "source": [
        "Let's see how well the autoencoder reconstructs images from the training set:"
      ]
    },
    {
      "cell_type": "code",
      "execution_count": 31,
      "metadata": {
        "colab": {
          "base_uri": "https://localhost:8080/",
          "height": 324
        },
        "id": "2vszQFBKxbWK",
        "outputId": "045e29fb-808c-4f51-ed1a-061ae37ad72e"
      },
      "outputs": [
        {
          "data": {
            "image/png": "[encoded data removed]",
            "text/plain": [
              "<Figure size 640x480 with 10 Axes>"
            ]
          },
          "metadata": {},
          "output_type": "display_data"
        }
      ],
      "source": [
        "# reconstructing training images\n",
        "train_imgs = next(iter(mnist_train_loader))[0]\n",
        "display_ae_images(vqvae_model, train_imgs, device)"
      ]
    },
    {
      "cell_type": "markdown",
      "metadata": {
        "id": "nuUZqnsPxbWL"
      },
      "source": [
        "What about images from the test set?"
      ]
    },
    {
      "cell_type": "code",
      "execution_count": 32,
      "metadata": {
        "colab": {
          "base_uri": "https://localhost:8080/",
          "height": 324
        },
        "id": "voeZ3wVDxbWL",
        "outputId": "a96ebdf4-20ce-429a-8f54-d96009266e85"
      },
      "outputs": [
        {
          "data": {
            "image/png": "[encoded data removed]",
            "text/plain": [
              "<Figure size 640x480 with 10 Axes>"
            ]
          },
          "metadata": {},
          "output_type": "display_data"
        }
      ],
      "source": [
        "# reconstructing test images\n",
        "test_imgs = next(iter(mnist_test_loader))[0]\n",
        "display_ae_images(vqvae_model, test_imgs, device)"
      ]
    },
    {
      "cell_type": "markdown",
      "metadata": {
        "id": "zFda9KgexbWL"
      },
      "source": [
        "There is no overfitting at work here apparently. We can quantify this by computing the reconstruction loss over the test dataset (below) and compare it to the reconstruction loss over the training dataset at the end of training (check the training cell above).<br>\n",
        "\n",
        "Note that the training loss included a commitment term, which you do not need to include here as we want to assess the reconstruction performance. Anywhere around 0.07 or better is quite good for our simple VQ-VAE!"
      ]
    },
    {
      "cell_type": "code",
      "execution_count": 33,
      "metadata": {
        "colab": {
          "base_uri": "https://localhost:8080/"
        },
        "id": "_mt-7LN_xbWL",
        "outputId": "db5d434f-9716-4d30-96bd-ba0b926cc0f7"
      },
      "outputs": [
        {
          "name": "stderr",
          "output_type": "stream",
          "text": [
            "100%|██████████| 157/157 [00:01<00:00, 136.20batch/s, loss=0.0657]"
          ]
        },
        {
          "name": "stdout",
          "output_type": "stream",
          "text": [
            "Test Loss: 0.0713\n"
          ]
        },
        {
          "name": "stderr",
          "output_type": "stream",
          "text": [
            "\n"
          ]
        }
      ],
      "source": [
        "vqvae_model.eval()\n",
        "test_loss=0.0\n",
        "\n",
        "n = 0\n",
        "with tqdm(mnist_test_loader, unit=\"batch\") as tepoch:\n",
        "  for data, labels in tepoch:\n",
        "    # Put the data on the correct device:\n",
        "    data = data.to(device)\n",
        "\n",
        "    # Pass the data through the model\n",
        "    predict = vqvae_model(data)\n",
        "    x_hat = predict['x_rec']\n",
        "\n",
        "    # Compute the AE loss\n",
        "    loss = F.binary_cross_entropy_with_logits(x_hat, data, reduction = 'mean')\n",
        "\n",
        "    # Compute the loss\n",
        "    test_loss += loss.item()\n",
        "\n",
        "    # tqdm bar displays the loss\n",
        "    tepoch.set_postfix(loss=loss.item())\n",
        "\n",
        "print('Test Loss: {:.4f}'.format(test_loss/len(mnist_test_loader)))"
      ]
    },
    {
      "cell_type": "markdown",
      "metadata": {
        "id": "dCF8nLEcUaWr"
      },
      "source": [
        "## 2.4. Generating images from the VQ-VAE the naive way!\n",
        "\n",
        "(or rather, failing at doing so!)<br>\n",
        "\n",
        "How do we use our VQ-VAE as a generative model? Unfortunately it does not come with a prior! (this is why, in the second part of the lab, we will build a prior on top of the tokenized representation) <br>\n",
        "\n",
        "We might have the naive idea that sampling uniformly at random the image tokens is good enough as a prior, and can be decoded into good-looking digits. Let's try it!"
      ]
    },
    {
      "cell_type": "code",
      "execution_count": 34,
      "metadata": {
        "id": "l6rPY7mVVbTJ"
      },
      "outputs": [],
      "source": [
        "def generate_images_naive(vq_vae, n_images=5):\n",
        "    output_tokens = torch.randint(high = vq_vae.vq.codebook_size, size = (n_images, 7, 7)).to(device)\n",
        "    x_hat = vqvae_model.decode(output_tokens)\n",
        "    return torch.sigmoid(x_hat)"
      ]
    },
    {
      "cell_type": "code",
      "execution_count": 35,
      "metadata": {
        "id": "PWa87NaXVbTL"
      },
      "outputs": [
        {
          "data": {
            "image/png": "[encoded data removed]",
            "text/plain": [
              "<Figure size 640x480 with 5 Axes>"
            ]
          },
          "metadata": {},
          "output_type": "display_data"
        }
      ],
      "source": [
        "imgs_generated = generate_images_naive(vqvae_model, n_images=5)\n",
        "display_images(imgs_generated)"
      ]
    },
    {
      "cell_type": "markdown",
      "metadata": {
        "id": "UfjFdVSgsbOj"
      },
      "source": [
        "This does not look too good :/ And indeed you will not make it work. We can scrap this idea and move to the second part of this lab."
      ]
    },
    {
      "cell_type": "markdown",
      "metadata": {
        "id": "HgvUhJPLIxdY"
      },
      "source": [
        "# 3. Tokenized MNIST dataset/dataloader"
      ]
    },
    {
      "cell_type": "markdown",
      "metadata": {
        "id": "OLUF-ABis5TJ"
      },
      "source": [
        "The MaskGIT-like model that we will build \\& train next processes tokenized representations. To avoid repeatedly recomputing these tokenized images from the original images on the fly in the training loop, let us build a dataset and dataloader for tokenized MNIST images, that directly stores once and for all and returns the tokenized representations. We will use this data loader in the MaskGIT training loop!"
      ]
    },
    {
      "cell_type": "code",
      "execution_count": 36,
      "metadata": {
        "id": "nHQVyhJjEe0R"
      },
      "outputs": [],
      "source": [
        "class tMNIST(object):\n",
        "    def __init__(self, vq_vae, mnist_loader, device):\n",
        "        vq_vae = vq_vae.to(device)\n",
        "        self.data = self.process(vq_vae, mnist_loader, device)\n",
        "\n",
        "    def __getitem__(self, i):\n",
        "        return self.data[i]\n",
        "\n",
        "    def process(self, vq_vae, mnist_loader, device):\n",
        "        vq_vae.eval()\n",
        "        codes = []\n",
        "\n",
        "        with tqdm(mnist_loader, unit=\"batch\") as tepoch:\n",
        "            for data, labels in tepoch:\n",
        "                # Put the data on the correct device:\n",
        "                data = data.to(device)\n",
        "\n",
        "                # Pass the data through the model\n",
        "                encoding_indices, _, _ = vq_vae.encode(data)\n",
        "                codes.append(encoding_indices.detach().clone().cpu().numpy())\n",
        "\n",
        "        return np.concatenate(codes, axis=0)\n",
        "\n",
        "    def __len__(self):\n",
        "        return np.shape(self.data)[0]"
      ]
    },
    {
      "cell_type": "code",
      "execution_count": 37,
      "metadata": {
        "colab": {
          "base_uri": "https://localhost:8080/"
        },
        "id": "TcdgQaaIHg90",
        "outputId": "a9ee50e5-e9b3-4768-d90d-009132cd990e"
      },
      "outputs": [
        {
          "name": "stderr",
          "output_type": "stream",
          "text": [
            "100%|██████████| 938/938 [00:05<00:00, 172.07batch/s]\n",
            "100%|██████████| 157/157 [00:00<00:00, 174.19batch/s]\n"
          ]
        }
      ],
      "source": [
        "# creating the tokenized MNIST datasets\n",
        "tmnist_trainset = tMNIST(vqvae_model, mnist_train_loader, device)\n",
        "tmnist_testset = tMNIST(vqvae_model, mnist_test_loader, device)"
      ]
    },
    {
      "cell_type": "code",
      "execution_count": 38,
      "metadata": {
        "id": "itfSmhTbH6WF"
      },
      "outputs": [],
      "source": [
        "# create reduced size datasets if you want\n",
        "max_tmnist_size = 10000\n",
        "tmnist_trainset_reduced = torch.utils.data.random_split(tmnist_trainset, [max_tmnist_size, len(tmnist_trainset)-max_tmnist_size])[0]\n",
        "\n",
        "max_tmnist_size = 1000\n",
        "tmnist_testset_reduced = torch.utils.data.random_split(tmnist_testset, [max_tmnist_size, len(tmnist_testset)-max_tmnist_size])[0]"
      ]
    },
    {
      "cell_type": "code",
      "execution_count": 39,
      "metadata": {
        "id": "1z4jhnyDuHab"
      },
      "outputs": [],
      "source": [
        "batch_size = 256"
      ]
    },
    {
      "cell_type": "code",
      "execution_count": 40,
      "metadata": {
        "id": "2ZQX6IeIH6WG"
      },
      "outputs": [],
      "source": [
        "# create tokenized MNIST dataloaders\n",
        "tmnist_train_loader = torch.utils.data.DataLoader(tmnist_trainset, batch_size=batch_size, shuffle=True, drop_last=False)\n",
        "tmnist_test_loader = torch.utils.data.DataLoader(tmnist_testset, batch_size=batch_size, shuffle=False, drop_last=False)"
      ]
    },
    {
      "cell_type": "code",
      "execution_count": 41,
      "metadata": {
        "colab": {
          "base_uri": "https://localhost:8080/"
        },
        "id": "6bWgTlgUH6WG",
        "outputId": "1ef1646a-81a4-44a5-a81b-e4fde1673248"
      },
      "outputs": [
        {
          "data": {
            "text/plain": [
              "(60000, 7, 7)"
            ]
          },
          "execution_count": 41,
          "metadata": {},
          "output_type": "execute_result"
        }
      ],
      "source": [
        "tmnist_trainset.data.shape"
      ]
    },
    {
      "cell_type": "markdown",
      "metadata": {
        "id": "kRrSOIFYEZo_"
      },
      "source": [
        "# 4. AE-MaskGIT"
      ]
    },
    {
      "cell_type": "markdown",
      "metadata": {
        "id": "UiFMm7buulTL"
      },
      "source": [
        "We are going to build our prior on top of the tokenized representations, as a modified __MaskGIT__ model. MaskGIT stands for 'Masked Generative Image Transformer' and only has generative capabilities. Our pretext task for this lab is autoencoding (we want to build a fancy VAE!), hence we will modify the MaskGIT model in a very naive way to give it autoencoding capabilities on top of its generative capabilities (more about that below)."
      ]
    },
    {
      "cell_type": "markdown",
      "metadata": {
        "id": "o24BxiZdvkRP"
      },
      "source": [
        "__How is a MaskGIT trained?__ A number of tokens from the input token grids are randomly masked (replaced by a [msk] token), and the transformer model is trained to predict all tokens from what it can see. Various amounts of masking are used during training, from masking everything to masking only a small portion. In our case, there are up to 7x7=49 tokens per MNIST sample that can be masked or not."
      ]
    },
    {
      "cell_type": "markdown",
      "metadata": {
        "id": "EyesqqO7wpYd"
      },
      "source": [
        "__How does MaskGIT generate images?__ We generate an image with valid tokens by iteratively predicting them from an image with some tokens set to the [msk] token, across multiple timesteps. We start from all tokens set to [msk] at timestep 0. Various schemes can be used, we can adjust : the amounts of tokens predicted at each time step, various strategies for which tokens to predict (highest confidence, or random choice, or ...), various strategies for which token to set it to (the most likely, or randomized according to the predicted probabilities, or...), etc."
      ]
    },
    {
      "cell_type": "markdown",
      "metadata": {
        "id": "CJfmWbYMyTLV"
      },
      "source": [
        "__How will we give MaskGIT autoencoding capabilities?__ We will add a number of 'code tokens' with values [cde] depending on the MNIST sample. These code tokens will be concatenated to the image tokens and be encouraged to incorporate as much information about the sample as possible to make the reconstruction more accurate, during training. In addition, we will add a `code_encoder` and a `code_decoder` (simple MLPs) to map these code tokens to and from the final vector latent representation of the sample (say, a vector with dimension 10).\n",
        "\n",
        "With this model, encoding the tokenized images will use a `CodeTransformer` to predict the code tokens, then the `code_encoder` to obtain the latent vector. Decoding the tokenized image representation of a sample from its latent vector will first involve the `code_decoder` to obtain the code token values, then a `MaskTransformer` which performs conditional generation of the image tokens, conditioned on the code tokens."
      ]
    },
    {
      "cell_type": "markdown",
      "metadata": {
        "id": "ebAccZah0SH8"
      },
      "source": [
        "__How do we generate new images with this modified AE-MaskGIT?__ We generate a latent vector from the prior N(0,Id), and we decode (do conditional generation of) the image tokens based on this latent vector as above."
      ]
    },
    {
      "cell_type": "markdown",
      "metadata": {
        "id": "GXnAgSh-1yK5"
      },
      "source": [
        "## 4.1 Building AE-MaskGIT"
      ]
    },
    {
      "cell_type": "markdown",
      "metadata": {
        "id": "PARkaUAd2aAI"
      },
      "source": [
        "The first classes, `PreNorm`, `FeedForward`, `Attention` and `TransformerEncoder`, are building blocks for `CodeTransformer` and `MaskTransformer`. I give them to you already completed because you have done enough of this in the past sessions! Take a look at `Attention`, which this time uses the optimized implementation as mentioned in the course."
      ]
    },
    {
      "cell_type": "code",
      "execution_count": 42,
      "metadata": {
        "id": "OFxfWS5kV0ee"
      },
      "outputs": [],
      "source": [
        "class PreNorm(nn.Module):\n",
        "\n",
        "    def __init__(self, dim, fn):\n",
        "        \"\"\" PreNorm module to apply layer normalization before a given function\n",
        "            :param:\n",
        "                dim  -> int: Dimension of the input\n",
        "                fn   -> nn.Module: The function to apply after layer normalization\n",
        "            \"\"\"\n",
        "        super().__init__()\n",
        "        self.norm = nn.LayerNorm(dim)\n",
        "        self.fn = fn\n",
        "\n",
        "    def forward(self, x, **kwargs):\n",
        "        \"\"\" Forward pass through the PreNorm module\n",
        "            :param:\n",
        "                x        -> torch.Tensor: Input tensor\n",
        "                **kwargs -> _ : Additional keyword arguments for the function\n",
        "            :return\n",
        "                torch.Tensor: Output of the function applied after layer normalization\n",
        "        \"\"\"\n",
        "        return self.fn(self.norm(x), **kwargs)"
      ]
    },
    {
      "cell_type": "code",
      "execution_count": 43,
      "metadata": {
        "id": "IcZ4yQjDXt6G"
      },
      "outputs": [],
      "source": [
        "class FeedForward(nn.Module):\n",
        "    def __init__(self, dim, hidden_dim, dropout=0.):\n",
        "        \"\"\" Initialize the Multi-Layer Perceptron (MLP).\n",
        "            :param:\n",
        "                dim        -> int : Dimension of the input\n",
        "                dim        -> int : Dimension of the hidden layer\n",
        "                dim        -> float : Dropout rate\n",
        "        \"\"\"\n",
        "        super().__init__()\n",
        "        self.net = nn.Sequential(\n",
        "            nn.Linear(dim, hidden_dim, bias=True),\n",
        "            nn.GELU(),\n",
        "            nn.Dropout(dropout),\n",
        "            nn.Linear(hidden_dim, dim, bias=True),\n",
        "            nn.Dropout(dropout)\n",
        "        )\n",
        "\n",
        "    def forward(self, x):\n",
        "        \"\"\" Forward pass through the MLP module.\n",
        "            :param:\n",
        "                x -> torch.Tensor: Input tensor\n",
        "            :return\n",
        "                torch.Tensor: Output of the function applied after layer\n",
        "        \"\"\"\n",
        "        return self.net(x)"
      ]
    },
    {
      "cell_type": "code",
      "execution_count": 44,
      "metadata": {
        "id": "DCCVbNw0Xyfl"
      },
      "outputs": [],
      "source": [
        "class Attention(nn.Module):\n",
        "    def __init__(self, embed_dim, num_heads, dropout=0.):\n",
        "        \"\"\" Initialize the Attention module.\n",
        "            :param:\n",
        "                embed_dim     -> int : Dimension of the embedding\n",
        "                num_heads     -> int : Number of heads\n",
        "                dropout       -> float : Dropout rate\n",
        "        \"\"\"\n",
        "        super(Attention, self).__init__()\n",
        "        self.dim = embed_dim\n",
        "        self.mha = nn.MultiheadAttention(embed_dim, num_heads=num_heads, dropout=dropout, batch_first=True, bias=True)\n",
        "\n",
        "    def forward(self, x):\n",
        "        \"\"\" Forward pass through the Attention module.\n",
        "            :param:\n",
        "                x -> torch.Tensor: Input tensor\n",
        "            :return\n",
        "                attention_value  -> torch.Tensor: Output the value of the attention\n",
        "                attention_weight -> torch.Tensor: Output the weight of the attention\n",
        "        \"\"\"\n",
        "        attention_value, attention_weight = self.mha(x, x, x)\n",
        "        return attention_value, attention_weight"
      ]
    },
    {
      "cell_type": "code",
      "execution_count": 45,
      "metadata": {
        "id": "QvtxwWxlYmGO"
      },
      "outputs": [],
      "source": [
        "class TransformerEncoder(nn.Module):\n",
        "    def __init__(self, dim, depth, heads, mlp_dim, mlp_dropout=0., attn_dropout=0.):\n",
        "        \"\"\" Initialize the Attention module.\n",
        "            :param:\n",
        "                dim       -> int : number of hidden dimension of attention\n",
        "                depth     -> int : number of layer for the transformer\n",
        "                heads     -> int : Number of heads\n",
        "                mlp_dim   -> int : number of hidden dimension for mlp\n",
        "                dropout   -> float : Dropout rate\n",
        "        \"\"\"\n",
        "        super().__init__()\n",
        "        self.layers = nn.ModuleList([])\n",
        "        for _ in range(depth):\n",
        "            self.layers.append(nn.ModuleList([\n",
        "                PreNorm(dim, Attention(dim, heads, dropout=attn_dropout)),\n",
        "                PreNorm(dim, FeedForward(dim, mlp_dim, dropout=mlp_dropout))\n",
        "            ]))\n",
        "\n",
        "    def forward(self, x):\n",
        "        \"\"\" Forward pass through the Attention module.\n",
        "            :param:\n",
        "                x -> torch.Tensor: Input tensor\n",
        "            :return\n",
        "                x -> torch.Tensor: Output of the Transformer\n",
        "                l_attn -> list(torch.Tensor): list of the attention\n",
        "        \"\"\"\n",
        "        l_attn = []\n",
        "        for attn, ff in self.layers:\n",
        "            attention_value, attention_weight = attn(x)\n",
        "            x = attention_value + x\n",
        "            x = ff(x) + x\n",
        "            l_attn.append(attention_weight)\n",
        "        return x, l_attn"
      ]
    },
    {
      "cell_type": "markdown",
      "metadata": {
        "id": "jPAgR_Cx3HKg"
      },
      "source": [
        "The `MaskTransformer` class is one of the key ingredients of MaskGIT, yet is quite succinct. It is responsible for predicting image tokens given the image tokens themselves (some of them masked), and the code tokens. The masking is done outside of this class, in `AEMaskGIT`."
      ]
    },
    {
      "cell_type": "code",
      "execution_count": 46,
      "metadata": {
        "id": "TGMzfP7cbM2G"
      },
      "outputs": [],
      "source": [
        "class MaskTransformer(nn.Module):\n",
        "    def __init__(self, n_patches, n_code_tokens=1, embedding_dim=128, codebook_size=65, depth=3, heads=4, mlp_dim=256, mlp_dropout=0.1, attn_dropout=0.):\n",
        "        \"\"\" Initialize the Transformer model.\n",
        "            :param:\n",
        "                n_patches      -> int:     Number of input/output visual patch tokens\n",
        "                n_code_tokens  -> int:     Number of additional code tokens (default: 1)\n",
        "                embedding_dim  -> int:     Hidden dimension for the transformer (default: 128)\n",
        "                codebook_size  -> int:     Size of the codebook + 1 mask token (default: 65)\n",
        "                depth          -> int:     Depth of the transformer (default: 3)\n",
        "                heads          -> int:     Number of attention heads (default: 4)\n",
        "                mlp_dim        -> int:     MLP dimension (default: 256)\n",
        "                dropout        -> float:   Dropout rate (default: 0.1/0.)\n",
        "        \"\"\"\n",
        "\n",
        "        super().__init__()\n",
        "        self.n_code_tokens = n_code_tokens\n",
        "        self.n_patches = n_patches\n",
        "        self.codebook_size = codebook_size\n",
        "\n",
        "        # We need to map the token to token embeddings. Create a nn.Embedding object,\n",
        "        # with size the size of the codebook and the correct embedding dimension\n",
        "        self.tok_emb = nn.Embedding(codebook_size, embedding_dim)\n",
        "\n",
        "        # These positional embeddings are added to the embeddings (image+code)\n",
        "        # before passing them through the transformer\n",
        "        self.pos_emb = nn.init.trunc_normal_(nn.Parameter(torch.zeros(1, self.n_patches+self.n_code_tokens, embedding_dim)), 0., 0.02)\n",
        "\n",
        "        # Class TransformerEncoder(), with all params correctly set\n",
        "        self.transformer = TransformerEncoder(embedding_dim, depth, heads, mlp_dim, mlp_dropout, attn_dropout)\n",
        "\n",
        "        # Last layer after the Transformer block, to predict token logits\n",
        "        # For implementation convenience, we actually predict a logit for the\n",
        "        # [msk] token value, that we discard later on.\n",
        "        self.to_logits = nn.Linear(embedding_dim, self.codebook_size, bias=True)\n",
        "\n",
        "    def forward(self, img_token, code_token, return_attn=False):\n",
        "        \"\"\" Forward.\n",
        "            :param:\n",
        "                img_token      -> torch.LongTensor: bsize x 7 x 7, the encoded image tokens\n",
        "                code_token     -> torch.FloatTensor: bsize x n_code_tokens x hidden_dim, the code tokens\n",
        "                return_attn    -> Bool: return the attn for visualization\n",
        "            :return:\n",
        "                logit:         -> torch.FloatTensor: bsize x 7 x 7 x 65, the predicted logit\n",
        "                attn:          -> list(torch.FloatTensor): list of attention for visualization\n",
        "        \"\"\"\n",
        "        b, w, h = img_token.size()\n",
        "\n",
        "        # Compute token embeddings from integer tokens, and rearrange from (b, w, h, d)\n",
        "        # to (b, w*h, d)\n",
        "        img_tok_embeddings = self.tok_emb(img_token)\n",
        "        img_tok_embeddings = rearrange(img_tok_embeddings, 'b w h d -> b (w h) d')\n",
        "\n",
        "        # Concatenate code tokens at the end of the image token embeddings\n",
        "        tok_embeddings = torch.cat((img_tok_embeddings, code_token), dim = 1)\n",
        "\n",
        "        # Add position embeddings\n",
        "        x = tok_embeddings + self.pos_emb\n",
        "\n",
        "        # Pass the embeddings through the transformer\n",
        "        x, attn = self.transformer(x)\n",
        "\n",
        "        # Extract the transformed image token embeddings, and compute output logits\n",
        "        # for these tokens\n",
        "        logit = self.to_logits(x[:, :self.n_patches])\n",
        "\n",
        "        # Rearrange the logits from (b, w*h, d) to (b, w, h, d)\n",
        "        logit = rearrange(logit, 'b (w h) d -> b w h d', w=w, h=h)\n",
        "\n",
        "        if return_attn:  # return list of attention\n",
        "            return logit, attn\n",
        "\n",
        "        return logit"
      ]
    },
    {
      "cell_type": "markdown",
      "metadata": {
        "id": "baB33wIc5jOm"
      },
      "source": [
        "The next class is `CodeTransformer`. It is responsible for predicting a fixed number of code tokens from the input image tokens, for encoding purposes. __These code tokens are incorporated in the same manner as the [cls] token in ViT classification models__ i.e., they are concatenated at the end of the image token sequence and processed jointly by the transformer blocks. The code tokens are initialized via a learnable embedding (just like class tokens)."
      ]
    },
    {
      "cell_type": "code",
      "execution_count": 47,
      "metadata": {
        "id": "unSQc4XHh0zB"
      },
      "outputs": [],
      "source": [
        "class CodeTransformer(nn.Module):\n",
        "    def __init__(self, n_patches, n_code_tokens=1, code_dim=128, embedding_dim=128, codebook_size=64, depth=3, heads=4, mlp_dim=256, mlp_dropout=0.1, attn_dropout=0.):\n",
        "        \"\"\" Initialize the Transformer model.\n",
        "            :param:\n",
        "                n_patches      -> int:     Number of input/output visual patch tokens\n",
        "                n_code_tokens  -> int:     Number of additional code tokens (default: 1)\n",
        "                code_dim       -> int:     Dimension of the output codes (default: 128)\n",
        "                embedding_dim  -> int:     Dimension of the hidden embeddings (default: 128)\n",
        "                codebook_size  -> int:     Size of the codebook (default: 64)\n",
        "                depth          -> int:     Depth of the transformer (default: 3)\n",
        "                heads          -> int:     Number of attention heads (default: 4)\n",
        "                mlp_dim        -> int:     MLP dimension (default: 256)\n",
        "                dropout        -> float:   Dropout rate (default: 0.1/0.)\n",
        "        \"\"\"\n",
        "\n",
        "        super().__init__()\n",
        "        self.n_code_tokens = n_code_tokens\n",
        "        self.code_dim = code_dim\n",
        "        self.n_patches = n_patches\n",
        "        self.codebook_size = codebook_size\n",
        "\n",
        "        # The token embeddings. Each embedding is embedding_dim dimensional.\n",
        "        # There is one embedding per token in the codebook, plus one embedding per\n",
        "        # additional code token\n",
        "        self.tok_emb = nn.Embedding(codebook_size + n_code_tokens, embedding_dim)\n",
        "\n",
        "        # Positional embeddings to add to the image and code token embeddings.\n",
        "        self.pos_emb = nn.init.trunc_normal_(nn.Parameter(torch.zeros(1, self.n_patches+self.n_code_tokens, embedding_dim)), 0., 0.02)\n",
        "\n",
        "        # Class TransformerEncoder(), with all params correctly set\n",
        "        self.transformer = TransformerEncoder(dim=embedding_dim, depth=depth, heads=heads, mlp_dim=mlp_dim, mlp_dropout=mlp_dropout, attn_dropout=attn_dropout)\n",
        "\n",
        "        # Last layer after the Transformer block\n",
        "        # to cast the code tokens to the correct output dimension (code_dim)\n",
        "        self.linear_head = nn.Linear(embedding_dim, self.code_dim, bias=True)\n",
        "\n",
        "    def forward(self, img_token, return_attn=False):\n",
        "        \"\"\" Forward.\n",
        "            :param:\n",
        "                img_token      -> torch.LongTensor: bsize x 7 x 7, the encoded image tokens\n",
        "                return_attn    -> Bool: return the attn for visualization\n",
        "            :return:\n",
        "                codes:         -> torch.FloatTensor: bsize x n_code_tokens x code_dim, the predicted codes for the samples\n",
        "                attn:          -> list(torch.FloatTensor): list of attention for visualization\n",
        "        \"\"\"\n",
        "        b, w, h = img_token.size()\n",
        "\n",
        "        # Indices of the additional code tokens in the codebook\n",
        "        code_token = torch.arange(self.n_code_tokens, device=img_token.device) + self.codebook_size\n",
        "\n",
        "        # Repeat across minibatch dimension\n",
        "        code_token = repeat(code_token, 'n -> b n', b=b)\n",
        "\n",
        "        # Concatenate code tokens to the image tokens (after the image tokens)\n",
        "        input = torch.cat([rearrange(img_token, 'b w h -> b (w h)'), code_token], -1)\n",
        "\n",
        "        # Convert from integer tokens to token embeddings\n",
        "        tok_embeddings = self.tok_emb(input)\n",
        "\n",
        "        # Add position embedding\n",
        "        x = tok_embeddings + self.pos_emb\n",
        "\n",
        "        # Transformer forward pass\n",
        "        x, attn = self.transformer(x)\n",
        "\n",
        "        # Compute the final output (discard image tokens, only pass the code tokens through the linear head)\n",
        "        codes = self.linear_head(x[:, -self.n_code_tokens:])\n",
        "\n",
        "        # Return\n",
        "        if return_attn:  # return list of attention\n",
        "            return codes, attn\n",
        "\n",
        "        return codes"
      ]
    },
    {
      "cell_type": "markdown",
      "metadata": {
        "id": "NhLSHI-fjSpI"
      },
      "source": [
        "The last class is the main wrapper class, `AEMaskGIT`, which implements most of the high-level routines for training, auto-encoding, encoding, decoding, and tokenized image generation. Fill the missing parts."
      ]
    },
    {
      "cell_type": "code",
      "execution_count": 48,
      "metadata": {
        "id": "iFirZXdJqhJA"
      },
      "outputs": [],
      "source": [
        "class AEMaskGIT(nn.Module):\n",
        "    def __init__(self, mask_transformer, code_transformer, latent_dim=10, n_code_tokens=1, code_dim=128, codebook_size=64, mlp_dim=128, decoding_steps=8):\n",
        "        super().__init__()\n",
        "\n",
        "        # Parameters\n",
        "        self.latent_dim = latent_dim\n",
        "        self.n_code_tokens = n_code_tokens\n",
        "        self.code_dim = code_dim\n",
        "        self.codebook_size = codebook_size\n",
        "        self.steps = decoding_steps\n",
        "\n",
        "        # MaskTransformer and CodeTransformer instances\n",
        "        self.mask_transformer = mask_transformer # useful to predict the masked tokens\n",
        "        self.code_transformer = code_transformer # useful to \"encode\" a tokenized image into a set of code tokens\n",
        "            # The code tokens will further be processed by self.code_encoder to\n",
        "            # transform them into a latent vector (or rather a Gaussian distribution of latent vectors, like in VAEs)\n",
        "\n",
        "        # To transform code tokens into variational posterior distributions of latent vectors\n",
        "        # q(z|x)\n",
        "        self.code_encoder = nn.Sequential(\n",
        "            nn.Linear(code_dim*n_code_tokens, mlp_dim),\n",
        "            nn.Tanh(),\n",
        "            nn.Linear(mlp_dim, latent_dim*2)\n",
        "        )\n",
        "\n",
        "        # To go from a latent vector back to code tokens\n",
        "        self.code_decoder = nn.Sequential(\n",
        "            nn.Linear(latent_dim, mlp_dim),\n",
        "            nn.Tanh(),\n",
        "            nn.Linear(mlp_dim, code_dim*n_code_tokens)\n",
        "        )\n",
        "\n",
        "    def schedule(self, r, mode=\"cosine\"):\n",
        "        '''\n",
        "        Controls the masking ratio. During training r is uniformly sampled.\n",
        "        During testing r = t/T, with T the number of steps.\n",
        "        We pass r through a potentially nonlinear function to obtain the masking\n",
        "        ratio.\n",
        "\n",
        "        :param\n",
        "            r   -> torch.FloatTensor(): *, the input ratio\n",
        "        :return\n",
        "            mask_ratio -> torch.FloatTensor(): *, the ratio of tokens to mask\n",
        "        '''\n",
        "\n",
        "        if mode==\"linear\":\n",
        "            mask_ratio = 1-r\n",
        "        elif \"pow\" in mode:\n",
        "            exponent = float(mode.replace(\"pow\", \"\"))\n",
        "            mask_ratio = 1. - r**exponent\n",
        "        elif mode==\"cosine\":\n",
        "            mask_ratio = torch.cos(r * np.pi * 0.5)\n",
        "        elif mode==\"arccos\":\n",
        "            mask_ratio = torch.arccos(r) / (np.pi * 0.5)\n",
        "\n",
        "        return mask_ratio\n",
        "\n",
        "    def get_masked_tokens(self, img_tokens, mode=\"cosine\"):\n",
        "        '''\n",
        "        Replace the image tokens by *mask_token_id* according the the *mode* scheduler\n",
        "\n",
        "           :param\n",
        "              img_tokens    -> torch.LongTensor(): bsize * 7 * 7, the unmasked image tokens\n",
        "           :return\n",
        "              masked_tokens -> torch.LongTensor(): bsize * 7 * 7, the masked version of the tokens\n",
        "              mask          -> torch.LongTensor(): bsize * 7 * 7, the binary mask of the mask\n",
        "        '''\n",
        "\n",
        "        # Uniformly sample the \"time step\" as a continuous value between 0 and 1\n",
        "        # for each sample (tokenized image) in the minibatch\n",
        "        r = torch.rand(img_tokens.size(0), device = img_tokens.device)\n",
        "\n",
        "        # Transform the time step into a masking ratio\n",
        "        # Hint: self.schedule\n",
        "        mask_ratio = self.schedule(r, mode)\n",
        "\n",
        "        # Initialize the output partially masked tokens by cloning the input tokens\n",
        "        masked_tokens = img_tokens.detach().clone()\n",
        "\n",
        "        # Sample the amount of tokens + localizations to mask\n",
        "        mask = torch.rand(size=img_tokens.size()).to(img_tokens.device) < mask_ratio.view(img_tokens.size(0), 1, 1)\n",
        "\n",
        "        # Replace the tokens to mask with the [msk] token (= self.codebook_size)\n",
        "        mask_token_id = self.codebook_size\n",
        "        masked_tokens[mask] = torch.full_like(masked_tokens[mask], mask_token_id)\n",
        "\n",
        "        return masked_tokens, mask\n",
        "\n",
        "    def encode(self, x):\n",
        "        '''\n",
        "        Maps from tokenized images to latent vector posterior distribution\n",
        "        q(z|x)=N(mu,sigma).\n",
        "\n",
        "        :args:\n",
        "            x -> LongTensor(), b x 7 x 7: the tokenized images\n",
        "        :return:\n",
        "            mu -> FloatTensor(), b x latent_dim: the means of the q(z|x)'s\n",
        "            lsigma -> FloatTensor(), b x latent_dim: the log st.d. of the q(z|x)'s\n",
        "        '''\n",
        "\n",
        "        # Compute the code tokens from the image tokens\n",
        "        # Hint: self.code_transformer\n",
        "        codes = self.code_transformer(x)\n",
        "\n",
        "        # Map from code tokens to latent mu and lsigma\n",
        "        z = rearrange(codes, 'b c d -> b (c d)')\n",
        "        z = self.code_encoder(z)\n",
        "\n",
        "        z = rearrange(z, 'b (d t) -> b d t', t=2)\n",
        "        mu = z[:,:,0]\n",
        "        lsigma = z[:,:,1]\n",
        "\n",
        "        return mu, lsigma\n",
        "\n",
        "    def reparameterize(self, mu, lsigma, deterministic=False):\n",
        "        \"\"\"\n",
        "        Samples from a normal distribution using the reparameterization trick.\n",
        "\n",
        "        :param\n",
        "            mu            -> torch.FloatTensor(): b x latent_dim, mean of the normal distribution.\n",
        "            lsigma        -> torch.FloatTensor(): b x latent_dim, diagonal st.d. of the normal distribution\n",
        "            deterministic -> bool, see return doc\n",
        "        :return, either a sample from qzx (deterministic=False), or just the\n",
        "            mean of qzx (deterministic=True). The former is useful at training\n",
        "            time. The latter is useful at inference time as the mean is usually\n",
        "            used for reconstruction, rather than a sample.\n",
        "        \"\"\"\n",
        "        if deterministic is False:\n",
        "            # Implements the reparametrization trick:\n",
        "            std = torch.exp(lsigma)\n",
        "            eps = torch.randn_like(std)\n",
        "            return mu + eps * std\n",
        "        else:\n",
        "            return mu\n",
        "\n",
        "    def decode_train(self, z, img_tokens):\n",
        "        '''\n",
        "        This is the main decoding routine at training time.\n",
        "        The input should be partially masked tokenized images and their latent codes.\n",
        "        The output is the predicted logits for all (masked and non-masked) tokens.\n",
        "\n",
        "        :args\n",
        "            z -> FloatTensor(), b x latent_dim: the latent encodings for all tokenized images\n",
        "            img_tokens -> LongTensor(), b x 7 x 7: the (partially masked) tokenized images\n",
        "        '''\n",
        "\n",
        "        # Map from latent vectors z to code tokens\n",
        "        # Hint: self.code_decoder\n",
        "        # The output should be of shape (b, self.n_code_tokens, d)\n",
        "        z = self.code_decoder(z)\n",
        "        code_tokens = rearrange(z, 'b (c d) -> b c d', c=self.n_code_tokens)\n",
        "\n",
        "        # Predict the output logits from input image tokens and code tokens\n",
        "        # Hint: self.mask_transformer\n",
        "        logits = self.mask_transformer(img_tokens, code_tokens)\n",
        "\n",
        "        # Output\n",
        "        return logits[:,:,:,:self.codebook_size] # drop the last logit (of the mask token)\n",
        "\n",
        "    def forward(self, x, mode=\"cosine\", deterministic=False):\n",
        "        \"\"\"\n",
        "        This is the main call at training time. It attempts to encode input tokenized\n",
        "        images into a latent vector, then reconstruct the input tokens from partially\n",
        "        masked tokens and from the latent vector.\n",
        "\n",
        "        From the outputs of this routine, the reconstruction loss in token space as\n",
        "        well as the KL divergence penalty can be computed (see below section 4.2)\n",
        "\n",
        "        :param\n",
        "            x       -> torch.LongTensor(): b x 7 x 7, the image tokens\n",
        "        :return\n",
        "            logits  -> torch.FloatTensor(): b x 7 x 7 x codebook_size, the logits for each code indice at each location\n",
        "            mu      -> torch.FloatTensor(): b x latent_dim, the latent code mean for each image\n",
        "            lsigma  -> torch.FloatTensor(): b x latent_dim, the latent code std for each image\n",
        "            mask    -> torch.BoolTensor(): b x 7 x 7, the mask telling which tokens are masked\n",
        "        \"\"\"\n",
        "\n",
        "        # Encode x\n",
        "        mu, lsigma = self.encode(x)\n",
        "\n",
        "        # Sample from q(z|x)=N(z;mu,sigma)\n",
        "        # Hint: self.reparameterize\n",
        "        z = self.reparameterize(mu, lsigma, deterministic)\n",
        "\n",
        "        # Mask some of the tokens in x\n",
        "        # Hint: self.get_masked_tokens\n",
        "        masked_tokens, mask = self.get_masked_tokens(x, mode)\n",
        "\n",
        "        # Predict logits of the masked (and non-masked) tokens\n",
        "        # Hint: self.decode_train\n",
        "        logits = self.decode_train(z, masked_tokens)\n",
        "\n",
        "        # Output\n",
        "        return logits, mu, lsigma, mask\n",
        "\n",
        "    def decode_test(self, z, mode=\"cosine\", temperature=1., randomize=\"warm_up\", deterministic=False):\n",
        "        '''\n",
        "        This is the main decoding routine at test/inference time.\n",
        "        It decodes a tokenized image from a latent vector z.\n",
        "\n",
        "        Starting from all masked tokens, it iteratively attempts to predict the\n",
        "        masked tokens in several iterations. At each iteration, only a subset of the\n",
        "        predicted tokens is kept, typically the ones with the highest confidence\n",
        "        if randomized=\"none\" or deterministic=True.\n",
        "        The tokens which are kept can alternatively be chosen randomly\n",
        "        (deterministic = False, randomize=\"warm_up\" or \"random\")\n",
        "\n",
        "        The number of predicted tokens retained at each iteration is controlled by\n",
        "        the time step, by self.schedule and by the mode argument.\n",
        "\n",
        "        The value for the predicted tokens is obtained from the predicted logits,\n",
        "        either as the logit argmax (deterministic = True), or by sampling from\n",
        "        the probability distribution defined by the logits (independently at each\n",
        "        location).\n",
        "\n",
        "        :args:\n",
        "            z -> FloatTensor(), b x latent_dim: the latent vectors\n",
        "        :return:\n",
        "            img_tokens -> LongTensor(), b x 7 x 7: the decoded tokenized images\n",
        "        '''\n",
        "\n",
        "        # Decode latent vectors into a set of code tokens\n",
        "        z = self.code_decoder(z)\n",
        "        code_tokens = rearrange(z, 'b (c d) -> b c d', c=self.n_code_tokens)\n",
        "\n",
        "        # Useful values\n",
        "        b = z.shape[0]\n",
        "        n_patches = self.code_transformer.n_patches\n",
        "        w = int(np.sqrt(n_patches))\n",
        "        mask_token_id = self.codebook_size\n",
        "\n",
        "        # Initialize to all masked tokens\n",
        "        img_tokens = torch.full((b, w, w), mask_token_id, device=z.device)\n",
        "        mask = torch.ones((b, w, w), device=z.device)\n",
        "\n",
        "        for t in np.arange(self.steps):\n",
        "            # Convert integer time step to continuous value in (0,1]\n",
        "            r = (t+1) / self.steps # the first step is already done with all masked, so we don't start at r=0\n",
        "\n",
        "            # Compute the masking ratio and the number of tokens to keep masked\n",
        "            mask_ratio = self.schedule(torch.Tensor([r]), mode)\n",
        "            mask_len = np.maximum(0,np.floor(mask_ratio.item()*n_patches).astype(int))\n",
        "\n",
        "            # Predict logits for all tokens, from the current code and image tokens\n",
        "            logits = self.mask_transformer(img_tokens.clone(), code_tokens)\n",
        "            logits = logits[:,:,:,:self.codebook_size] # drop the last logit (of the mask token)\n",
        "\n",
        "            if deterministic is True:\n",
        "                # Predict the token with maximum probability\n",
        "                conf, pred_tokens = torch.max(logits, dim=-1)\n",
        "            else:\n",
        "                # Sample the token from the softmax prediction\n",
        "                prob = F.softmax(logits * temperature, dim=-1)\n",
        "                distri = torch.distributions.Categorical(probs=prob)\n",
        "                pred_tokens = distri.sample()\n",
        "\n",
        "                # The confidence is either the probability of the chosen token,\n",
        "                # or a random value if randomized\n",
        "                conf = torch.gather(prob, 3, pred_tokens.unsqueeze(-1))\n",
        "                if randomize == \"warm_up\":  # choose random sample for the 2 first steps`\n",
        "                    conf = torch.rand_like(conf) if t < 2 else conf\n",
        "                elif randomize == \"random\": # choose random prediction at each step\n",
        "                    conf = torch.rand_like(conf)\n",
        "                elif randomize == \"none\":   # no randomization\n",
        "                    conf = conf\n",
        "                conf = conf.squeeze(-1)\n",
        "\n",
        "            # Mask the mask_len lowest confidence tokens\n",
        "            #   a. Compute the cut off under which to mask\n",
        "            sorted_confidence, _ = torch.sort(rearrange(conf, 'b w h -> b (w h)'), dim=-1)\n",
        "            indices = repeat(torch.Tensor([mask_len]).long().to(device), '1 -> b 1', b=b)\n",
        "            cut_off = torch.take_along_dim(sorted_confidence, indices, dim=-1) # Obtains cut off threshold given the mask lengths.\n",
        "            #   b. Mask below the cut off, i.e. tokens with lower confidence\n",
        "            mask = (conf <= cut_off.view(b, 1, 1))\n",
        "            #   c. Compute the output with correctly masked tokens\n",
        "            img_tokens = pred_tokens # initialize to predicted tokens\n",
        "            if t != (self.steps-1):\n",
        "                img_tokens[mask] = mask_token_id # mask tokens to mask\n",
        "\n",
        "        return img_tokens\n",
        "\n",
        "    def sample_pz(self, N, r=None):\n",
        "        '''\n",
        "        Samples from p_NCP(z)=N(z; 0,1)r(z) if r is provided, otherwise from\n",
        "        p(z)=N(z;0,1).\n",
        "\n",
        "        This routine is used to generate samples (see generate_samples).\n",
        "        '''\n",
        "\n",
        "        if r is None:\n",
        "            samples_pz = torch.randn(N, self.latent_dim, device=self.code_encoder[0].weight.device)\n",
        "        else:\n",
        "            samples_pz = self.sir(N, r)\n",
        "\n",
        "        return samples_pz\n",
        "\n",
        "    def sir(self, N, r, n_candidates=100):\n",
        "        '''\n",
        "        Sampling-Importance-Resampling routine to sample from p_NCP(z) \\propto p(z)r(z)\n",
        "        Complete this when you reach part 5 (detailed explanation provided there).\n",
        "\n",
        "        :args:\n",
        "            N -> int: the number of samples to generate\n",
        "            r -> instance of class r: the correction factor in p_NCP(z)\n",
        "            n_candidates -> the number of candidate samples from which to obtain a single sample\n",
        "\n",
        "        :return:\n",
        "            z -> FloatTensor(), shape (N, self.latent_dim): the samples from p_NCP(z)\n",
        "        '''\n",
        "\n",
        "        # Sample from N(0,1) a tensor of shape (N, n_candidates, self.latent_dim)\n",
        "        # hint: you can set the device to self.code_encoder[0].weight.device\n",
        "        z = torch.randn(N, n_candidates, self.latent_dim, device = self.code_encoder[0].weight.device)\n",
        "\n",
        "        # Compute the weights r(z)\n",
        "        r_z = r(z)\n",
        "\n",
        "        # Sample 1 index (between 0 and n_candidates) per row with probability\n",
        "        # proportional to the row r_z\n",
        "        indices = torch.multinomial(r_z, num_samples=1)\n",
        "\n",
        "        # Extract, for each of the N rows, the vector corresponding to the sampled candidate index\n",
        "        # Hint: torch.take_along_dim\n",
        "        # Don't forget to squeeze the dimension of size 1 at the end to return a tensor of shape (N, self.latent_dim)\n",
        "        z = torch.take_along_dim(z, indices.unsqueeze(-1), dim = 1).squeeze(dim=1)\n",
        "\n",
        "        # Return the samples from p_NCP\n",
        "        return z\n",
        "\n",
        "    def generate_samples(self, samples_pz=None, N=None, mode=\"cosine\", temperature=1., randomize=\"warm_up\", deterministic=False, r=None):\n",
        "        '''\n",
        "        This is the main routine to generate a sample (a tokenized image) from the\n",
        "        MaskGIT model.\n",
        "        '''\n",
        "        if samples_pz is None:\n",
        "            if N is None:\n",
        "                return ValueError(\"samples_pz and N cannot be set to None at the same time. Specify one of the two.\")\n",
        "\n",
        "            # If samples z are not provided, we sample N samples either\n",
        "            # - from the prior p(z)=N(0,Id), using sample_pz\n",
        "            # - from the NCP prior p_NCP(z)=p(z)r(z), using sample_pz (see part 5 of the lab)\n",
        "            samples_pz = self.sample_pz(N, r)\n",
        "\n",
        "        # Decode the z's to obtain samples in token space\n",
        "        generations = self.decode_test(samples_pz, mode = mode, temperature = temperature, randomize = randomize, deterministic = deterministic)\n",
        "        return generations\n"
      ]
    },
    {
      "cell_type": "markdown",
      "metadata": {
        "id": "Kz3e9M6vcXVz"
      },
      "source": [
        "## 4.2. Training Losses"
      ]
    },
    {
      "cell_type": "markdown",
      "metadata": {
        "id": "l1Q8AIV-cez6"
      },
      "source": [
        "In terms of losses, our AE-MaskGIT will be quite similar to a standard VAE model with:\n",
        "* a reconstruction loss: note that AE-MaskGIT effectively does multiclass classification (per token), as it is trained to predict the correct token; so the loss will be based on the cross entropy\n",
        "* a KL divergence penalty between $q(z|x)=N(z;\\mu,\\sigma)$ and $p(z)=N(z;0,1)$ as in a standard VAE\n",
        "\n",
        "We wrap these two losses within a `BetaVAELoss` class."
      ]
    },
    {
      "cell_type": "code",
      "execution_count": 49,
      "metadata": {
        "id": "CWrQbhOnbv7y"
      },
      "outputs": [],
      "source": [
        "def reconstruction_loss(reconstructions, data):\n",
        "    \"\"\"\n",
        "    Calculates the reconstruction loss for a batch of data. I.e. negative\n",
        "    log likelihood.\n",
        "\n",
        "    Parameters\n",
        "    ----------\n",
        "    data : torch.Tensor\n",
        "        Input data (batch of image tokens). Shape : (B, H, W).\n",
        "\n",
        "    reconstructions : torch.Tensor\n",
        "        Reconstructed data (logits). Shape : (B, H, W, D).\n",
        "\n",
        "    Returns\n",
        "    -------\n",
        "    loss : torch.Tensor\n",
        "        Cross entropy, averaged over images in the batch but summed over\n",
        "        pixels.\n",
        "    \"\"\"\n",
        "    b, h, w, d = reconstructions.size()\n",
        "    logits = rearrange(reconstructions, 'b h w d -> b d h w')\n",
        "\n",
        "    # The pixel-wise loss is the cross-entropy, computed from\n",
        "    # reconstructions and data. It is summed over pixels and averaged across\n",
        "    # samples in the batch.\n",
        "    loss = F.cross_entropy(logits, data, reduction = 'sum') / b\n",
        "    loss = loss / b\n",
        "\n",
        "    return loss"
      ]
    },
    {
      "cell_type": "markdown",
      "metadata": {
        "id": "yIOMjQ7OyR9I"
      },
      "source": [
        "The KL divergence term is computed as per the regularization term in slide 45 i.e., for each data sample in the mini-batch:\n",
        "$$\\frac{1}{2}\\sum_{j=1}^D (\\mu_j^2 + \\sigma_j^2 - 1 - \\log{\\sigma_j^2})$$"
      ]
    },
    {
      "cell_type": "code",
      "execution_count": 50,
      "metadata": {
        "id": "pv2DR7M0yR9J"
      },
      "outputs": [],
      "source": [
        "def kl_normal_loss(mu, lsigma):\n",
        "    \"\"\"\n",
        "    Calculates the KL divergence between a normal distribution\n",
        "    with diagonal covariance and a unit normal distribution.\n",
        "\n",
        "    Parameters\n",
        "    ----------\n",
        "    mu : torch.Tensor\n",
        "        Mean of the normal distribution. Shape (batch_size, latent_dim) where\n",
        "        D is dimension of distribution.\n",
        "\n",
        "    lsigma : torch.Tensor\n",
        "        Diagonal log st.d. of the normal distribution. Shape (batch_size,\n",
        "        latent_dim)\n",
        "    \"\"\"\n",
        "    # To be consistent with the reconstruction loss, we take the mean over the\n",
        "    # minibatch (i.e., compute for each sample in the minibatch according to\n",
        "    # the equation above, then take the mean).\n",
        "    lvar = lsigma*2\n",
        "    latent_kl = 0.5 * torch.sum(mu**2 + torch.exp(lvar) - 1 - lvar, dim = 1).mean()\n",
        "    return latent_kl"
      ]
    },
    {
      "cell_type": "markdown",
      "metadata": {
        "id": "186BASpoyR9K"
      },
      "source": [
        "The `BetaVAELoss` puts it all together."
      ]
    },
    {
      "cell_type": "code",
      "execution_count": 51,
      "metadata": {
        "id": "Cjm___fDyR9L"
      },
      "outputs": [],
      "source": [
        "class BetaVAELoss(object):\n",
        "    \"\"\"\n",
        "    Compute the Beta-VAE loss\n",
        "\n",
        "    :params\n",
        "        beta: (scalar) the weight assigned to the regularization term\n",
        "    :return\n",
        "        loss: the VAE autodifferentiable loss\n",
        "    \"\"\"\n",
        "\n",
        "    def __init__(self, beta):\n",
        "        self.beta = beta\n",
        "\n",
        "    def __call__(self, reconstructions, data, mu, lsigma):\n",
        "\n",
        "        # Reconstruction loss\n",
        "        rec_loss = reconstruction_loss(reconstructions, data)\n",
        "\n",
        "        # KL loss\n",
        "        kl_loss = kl_normal_loss(mu, lsigma)\n",
        "\n",
        "        # Total loss of beta-VAE\n",
        "        loss = rec_loss + self.beta * kl_loss\n",
        "\n",
        "        return loss"
      ]
    },
    {
      "cell_type": "markdown",
      "metadata": {
        "id": "fDiaYopYzSCH"
      },
      "source": [
        "## 4.3. Training the AE MaskGIT model"
      ]
    },
    {
      "cell_type": "code",
      "execution_count": 52,
      "metadata": {
        "colab": {
          "base_uri": "https://localhost:8080/"
        },
        "id": "ft_3txj0bZjO",
        "outputId": "6d234757-a473-4b10-91a5-3f6e88ac7b4a"
      },
      "outputs": [
        {
          "name": "stdout",
          "output_type": "stream",
          "text": [
            "cuda:0\n"
          ]
        }
      ],
      "source": [
        "device = torch.device(\"cuda:0\" if torch.cuda.is_available() else \"cpu\")\n",
        "print(device)"
      ]
    },
    {
      "cell_type": "markdown",
      "metadata": {
        "id": "01mbSBu1tVpC"
      },
      "source": [
        "The training proceeds as usual. I suggest you leave these parameters unchanged for compatibility with the pretrained AE-MaskGIT model that I provide later on, but you can also experiment."
      ]
    },
    {
      "cell_type": "code",
      "execution_count": 53,
      "metadata": {
        "id": "NyZcTZP3a_kc"
      },
      "outputs": [],
      "source": [
        "# Parameters of AE MaskGIT\n",
        "latent_dim = 10\n",
        "n_code_tokens = 7\n",
        "code_dim = 128\n",
        "codebook_size = 64\n",
        "mlp_hidden_dim = 128\n",
        "decoding_steps = 8"
      ]
    },
    {
      "cell_type": "code",
      "execution_count": 54,
      "metadata": {
        "id": "oB3QvhgO0jYs"
      },
      "outputs": [],
      "source": [
        "# Parameters of MaskTransformer\n",
        "n_patches = 7*7\n",
        "embedding_dim = 128\n",
        "augm_codebook_size = codebook_size+1\n",
        "m_depth = 3\n",
        "m_heads = 4\n",
        "mlp_dim = 256\n",
        "mlp_dropout = 0.1"
      ]
    },
    {
      "cell_type": "code",
      "execution_count": 55,
      "metadata": {
        "id": "6sKHkJBM0m7B"
      },
      "outputs": [],
      "source": [
        "# Parameters of CodeTransformer\n",
        "code_dim = 128\n",
        "c_depth = 3\n",
        "c_heads = 4"
      ]
    },
    {
      "cell_type": "code",
      "execution_count": 56,
      "metadata": {
        "id": "1viDxPQ5z3A9"
      },
      "outputs": [],
      "source": [
        "mask_transformer = MaskTransformer(n_patches=n_patches,\n",
        "                                   n_code_tokens=n_code_tokens,\n",
        "                                   embedding_dim=embedding_dim,\n",
        "                                   codebook_size=augm_codebook_size,\n",
        "                                   depth=m_depth,\n",
        "                                   heads=m_heads,\n",
        "                                   mlp_dim=mlp_dim,\n",
        "                                   mlp_dropout=mlp_dropout)"
      ]
    },
    {
      "cell_type": "code",
      "execution_count": 57,
      "metadata": {
        "id": "_2wvVN5O3g_W"
      },
      "outputs": [],
      "source": [
        "code_transformer = CodeTransformer(n_patches=n_patches,\n",
        "                                   n_code_tokens=n_code_tokens,\n",
        "                                   code_dim=code_dim,\n",
        "                                   embedding_dim=embedding_dim,\n",
        "                                   codebook_size=codebook_size,\n",
        "                                   depth=c_depth,\n",
        "                                   heads=c_heads,\n",
        "                                   mlp_dim=mlp_dim,\n",
        "                                   mlp_dropout=mlp_dropout)"
      ]
    },
    {
      "cell_type": "code",
      "execution_count": 58,
      "metadata": {
        "id": "5x_ZhPPK39FU"
      },
      "outputs": [],
      "source": [
        "ae_maskgit = AEMaskGIT(mask_transformer=mask_transformer,\n",
        "                       code_transformer=code_transformer,\n",
        "                       latent_dim=latent_dim,\n",
        "                       n_code_tokens=n_code_tokens,\n",
        "                       code_dim=code_dim,\n",
        "                       codebook_size=codebook_size,\n",
        "                       mlp_dim=mlp_hidden_dim,\n",
        "                       decoding_steps=decoding_steps)"
      ]
    },
    {
      "cell_type": "code",
      "execution_count": 59,
      "metadata": {
        "id": "xXIZK65V4iY1"
      },
      "outputs": [],
      "source": [
        "ae_maskgit = ae_maskgit.to(device)"
      ]
    },
    {
      "cell_type": "code",
      "execution_count": 60,
      "metadata": {
        "id": "C-z9KiSzz3A-"
      },
      "outputs": [],
      "source": [
        "vae_loss = BetaVAELoss(beta=1e-1)"
      ]
    },
    {
      "cell_type": "code",
      "execution_count": 61,
      "metadata": {
        "id": "X0FIYNuj0t1Q"
      },
      "outputs": [],
      "source": [
        "learning_rate = 1e-3\n",
        "n_epoch = 1 # if running on GPU you can use more epochs"
      ]
    },
    {
      "cell_type": "code",
      "execution_count": 62,
      "metadata": {
        "id": "LVHbow-Cz3A-"
      },
      "outputs": [],
      "source": [
        "optimizer = torch.optim.AdamW(ae_maskgit.parameters(), lr=learning_rate, weight_decay=1e-4)"
      ]
    },
    {
      "cell_type": "markdown",
      "metadata": {
        "id": "owpkz_0aouVU"
      },
      "source": [
        "Note that the loss is stochastic (the amount of tokens masked is random), this means the loss at each iteration is even less likely to decrease monotonically (but there should be a downward trend)."
      ]
    },
    {
      "cell_type": "code",
      "execution_count": 63,
      "metadata": {
        "colab": {
          "base_uri": "https://localhost:8080/"
        },
        "id": "2Xfmp063z3A_",
        "outputId": "f9c1e0fc-0b90-4ec5-ea84-c1993b81c448"
      },
      "outputs": [
        {
          "name": "stderr",
          "output_type": "stream",
          "text": [
            "Epoch 0: 100%|██████████| 235/235 [00:06<00:00, 37.71batch/s, loss=0.793]"
          ]
        },
        {
          "name": "stdout",
          "output_type": "stream",
          "text": [
            "Epoch 0: Train Loss: 0.3699\n"
          ]
        },
        {
          "name": "stderr",
          "output_type": "stream",
          "text": [
            "\n"
          ]
        }
      ],
      "source": [
        "ae_maskgit.train()\n",
        "\n",
        "for epoch in range(0,n_epoch):\n",
        "  train_loss=0.0\n",
        "\n",
        "  with tqdm(tmnist_train_loader, unit=\"batch\") as tepoch:\n",
        "    for data in tepoch:\n",
        "      tepoch.set_description(f\"Epoch {epoch}\")\n",
        "\n",
        "      # Put data on correct device, GPU or CPU\n",
        "      x = data.to(device)\n",
        "\n",
        "      # Pass the input data through the model\n",
        "      # You can use mode=\"linear\" (and deterministic=False) for instance\n",
        "      logits, mu, lsigma, _ = ae_maskgit(x, mode=\"linear\", deterministic=False)\n",
        "\n",
        "      # Compute the beta-VAE loss\n",
        "      loss = vae_loss(logits, x, mu, lsigma)\n",
        "\n",
        "      # Backpropagate\n",
        "      optimizer.zero_grad()\n",
        "      loss.backward()\n",
        "      optimizer.step()\n",
        "\n",
        "      # Aggregate the training loss for display at the end of the epoch\n",
        "      train_loss += loss.item()\n",
        "\n",
        "      # tqdm bar displays the loss\n",
        "      tepoch.set_postfix(loss=loss.item())\n",
        "\n",
        "  print('Epoch {}: Train Loss: {:.4f}'.format(epoch, train_loss/len(tmnist_train_loader)))"
      ]
    },
    {
      "cell_type": "markdown",
      "metadata": {
        "id": "n1NrHAwP_rbP"
      },
      "source": [
        "### Checking for overfitting\n",
        "\n",
        "We will simply compute the reconstruction loss over the tMNIST test dataset"
      ]
    },
    {
      "cell_type": "code",
      "execution_count": 64,
      "metadata": {
        "colab": {
          "base_uri": "https://localhost:8080/"
        },
        "id": "ULzQZ2dQ_1me",
        "outputId": "2b4dbe58-979c-49b3-e0a1-e14d4b4eaaf6"
      },
      "outputs": [
        {
          "name": "stderr",
          "output_type": "stream",
          "text": [
            "100%|██████████| 40/40 [00:00<00:00, 102.84batch/s, loss=5.46] \n"
          ]
        },
        {
          "name": "stdout",
          "output_type": "stream",
          "text": [
            "Test Loss: 0.4675\n"
          ]
        }
      ],
      "source": [
        "ae_maskgit.eval()\n",
        "test_loss=0.0\n",
        "\n",
        "with tqdm(tmnist_test_loader, unit=\"batch\") as tepoch:\n",
        "  for data in tepoch:\n",
        "    # Put the data on the correct device:\n",
        "    x = data.to(device)\n",
        "\n",
        "    # Pass the input data through the model\n",
        "    # You can use mode=\"linear\" and deterministic=True for instance\n",
        "    logits, mu, lsigma, _ = ae_maskgit(x, mode = \"linear\", deterministic = True)\n",
        "\n",
        "    # Compute the reconstruction loss\n",
        "    loss = reconstruction_loss(logits, x)\n",
        "\n",
        "    # Compute the loss\n",
        "    test_loss += loss.item()\n",
        "\n",
        "    # tqdm bar displays the loss\n",
        "    tepoch.set_postfix(loss=loss.item())\n",
        "\n",
        "print('Test Loss: {:.4f}'.format(test_loss/len(tmnist_test_loader)))"
      ]
    },
    {
      "cell_type": "markdown",
      "metadata": {
        "id": "cpocFvv9uVfz"
      },
      "source": [
        "### Loading the pretrained model instead"
      ]
    },
    {
      "cell_type": "markdown",
      "metadata": {
        "id": "uG_xfOi3s8bQ"
      },
      "source": [
        "If you reached this, it's probably that the training went in the right direction, hence your model is correct. Then you can actually __load an already trained AE-MaskGIT__ if you prefer. If your code is correct and if you kept the same model parameters, it should load without failure."
      ]
    },
    {
      "cell_type": "code",
      "execution_count": 65,
      "metadata": {
        "colab": {
          "base_uri": "https://localhost:8080/"
        },
        "id": "KQSaNIDMUKda",
        "outputId": "5ca87470-f8df-4d86-89ef-e96a6527bc93"
      },
      "outputs": [
        {
          "name": "stdout",
          "output_type": "stream",
          "text": [
            "WARNING: combining -O with -r or -p will mean that all downloaded content\n",
            "will be placed in the single file you specified.\n",
            "\n",
            "--2025-03-04 17:14:03--  https://drive.google.com/uc?export=download&id=1VbungY0rdQV-K1mZlNA5-8fIC3-qMxSW\n",
            "Resolving drive.google.com (drive.google.com)... 216.58.214.174, 2a00:1450:4007:80e::200e\n",
            "Connecting to drive.google.com (drive.google.com)|216.58.214.174|:443... connected.\n",
            "HTTP request sent, awaiting response... 303 See Other\n",
            "Location: https://drive.usercontent.google.com/download?id=1VbungY0rdQV-K1mZlNA5-8fIC3-qMxSW&export=download [following]\n",
            "--2025-03-04 17:14:03--  https://drive.usercontent.google.com/download?id=1VbungY0rdQV-K1mZlNA5-8fIC3-qMxSW&export=download\n",
            "Resolving drive.usercontent.google.com (drive.usercontent.google.com)... 142.250.179.97, 2a00:1450:4007:818::2001\n",
            "Connecting to drive.usercontent.google.com (drive.usercontent.google.com)|142.250.179.97|:443... connected.\n",
            "HTTP request sent, awaiting response... 200 OK\n",
            "Length: 4380410 (4.2M) [application/octet-stream]\n",
            "Saving to: ‘weights_aemaskgit.pth’\n",
            "\n",
            "weights_aemaskgit.p 100%[===================>]   4.18M  --.-KB/s    in 0.09s   \n",
            "\n",
            "2025-03-04 17:14:05 (45.5 MB/s) - ‘weights_aemaskgit.pth’ saved [4380410/4380410]\n",
            "\n",
            "FINISHED --2025-03-04 17:14:05--\n",
            "Total wall clock time: 2.7s\n",
            "Downloaded: 1 files, 4.2M in 0.09s (45.5 MB/s)\n"
          ]
        }
      ],
      "source": [
        "!wget --no-check-certificate -r 'https://drive.google.com/uc?export=download&id=1VbungY0rdQV-K1mZlNA5-8fIC3-qMxSW' -O weights_aemaskgit.pth"
      ]
    },
    {
      "cell_type": "code",
      "execution_count": 66,
      "metadata": {
        "colab": {
          "base_uri": "https://localhost:8080/"
        },
        "id": "ucwnQVsBUKda",
        "outputId": "33b42dfc-b6d2-45e4-ee2b-63edcb0a69a7"
      },
      "outputs": [
        {
          "name": "stderr",
          "output_type": "stream",
          "text": [
            "/tmp/ipykernel_1618742/3071722890.py:1: FutureWarning: You are using `torch.load` with `weights_only=False` (the current default value), which uses the default pickle module implicitly. It is possible to construct malicious pickle data which will execute arbitrary code during unpickling (See https://github.com/pytorch/pytorch/blob/main/SECURITY.md#untrusted-models for more details). In a future release, the default value for `weights_only` will be flipped to `True`. This limits the functions that could be executed during unpickling. Arbitrary objects will no longer be allowed to be loaded via this mode unless they are explicitly allowlisted by the user via `torch.serialization.add_safe_globals`. We recommend you start setting `weights_only=True` for any use case where you don't have full control of the loaded file. Please open an issue on GitHub for any issues related to this experimental feature.\n",
            "  weights_dict = torch.load('weights_aemaskgit.pth')\n"
          ]
        }
      ],
      "source": [
        "weights_dict = torch.load('weights_aemaskgit.pth')"
      ]
    },
    {
      "cell_type": "code",
      "execution_count": 67,
      "metadata": {
        "id": "_EY0VrtNUxKC"
      },
      "outputs": [],
      "source": [
        "mask_transformer = MaskTransformer(n_patches=n_patches,\n",
        "                                   n_code_tokens=n_code_tokens,\n",
        "                                   embedding_dim=embedding_dim,\n",
        "                                   codebook_size=augm_codebook_size,\n",
        "                                   depth=m_depth,\n",
        "                                   heads=m_heads,\n",
        "                                   mlp_dim=mlp_dim,\n",
        "                                   mlp_dropout=mlp_dropout)"
      ]
    },
    {
      "cell_type": "code",
      "execution_count": 68,
      "metadata": {
        "id": "-gfzExteUxKD"
      },
      "outputs": [],
      "source": [
        "code_transformer = CodeTransformer(n_patches=n_patches,\n",
        "                                   n_code_tokens=n_code_tokens,\n",
        "                                   code_dim=code_dim,\n",
        "                                   embedding_dim=embedding_dim,\n",
        "                                   codebook_size=codebook_size,\n",
        "                                   depth=c_depth,\n",
        "                                   heads=c_heads,\n",
        "                                   mlp_dim=mlp_dim,\n",
        "                                   mlp_dropout=mlp_dropout)"
      ]
    },
    {
      "cell_type": "code",
      "execution_count": 69,
      "metadata": {
        "id": "7-Lf58ZbUxKD"
      },
      "outputs": [],
      "source": [
        "ae_maskgit = AEMaskGIT(mask_transformer=mask_transformer,\n",
        "                       code_transformer=code_transformer,\n",
        "                       latent_dim=latent_dim,\n",
        "                       n_code_tokens=n_code_tokens,\n",
        "                       code_dim=code_dim,\n",
        "                       codebook_size=codebook_size,\n",
        "                       mlp_dim=mlp_hidden_dim,\n",
        "                       decoding_steps=decoding_steps)"
      ]
    },
    {
      "cell_type": "code",
      "execution_count": 70,
      "metadata": {
        "colab": {
          "base_uri": "https://localhost:8080/"
        },
        "id": "ep6I9SLXUKdb",
        "outputId": "dccdda57-690c-4cdf-b6d8-5d97ced3b161"
      },
      "outputs": [
        {
          "data": {
            "text/plain": [
              "<All keys matched successfully>"
            ]
          },
          "execution_count": 70,
          "metadata": {},
          "output_type": "execute_result"
        }
      ],
      "source": [
        "ae_maskgit.load_state_dict(weights_dict)"
      ]
    },
    {
      "cell_type": "code",
      "execution_count": 71,
      "metadata": {
        "id": "eWj3GDOquzRB"
      },
      "outputs": [],
      "source": [
        "ae_maskgit = ae_maskgit.to(device)"
      ]
    },
    {
      "cell_type": "markdown",
      "metadata": {
        "id": "HXmKq33Q6Q9W"
      },
      "source": [
        "## 4.4. Testing AE-MaskGIT"
      ]
    },
    {
      "cell_type": "markdown",
      "metadata": {
        "id": "LTSR1pHKvQjx"
      },
      "source": [
        "### Encoding - One-Step-Decoding"
      ]
    },
    {
      "cell_type": "markdown",
      "metadata": {
        "id": "NKqtYUPEvWil"
      },
      "source": [
        "We will first test AE-MaskGIT in a set-up similar to the training, meaning that we will encode random MNIST images, then learn to __decode them from partially masked image tokens__ (where the masking amount is chosen randomly, similar to training)."
      ]
    },
    {
      "cell_type": "code",
      "execution_count": 72,
      "metadata": {
        "id": "tFGFz4wI6eyK"
      },
      "outputs": [],
      "source": [
        "def display_ae1_images(vq_vae, ae_maskgit, test_imgs, device):\n",
        "  '''\n",
        "  Display a batch of input images along with their one-step reconstructions\n",
        "  (after partial token masking)\n",
        "    First row: input images\n",
        "    Second row: reconstructed images\n",
        "  '''\n",
        "\n",
        "  ae_maskgit.eval()\n",
        "\n",
        "  n_images = 5\n",
        "  idx = np.random.randint(0, test_imgs.shape[0], n_images)\n",
        "  test_imgs = test_imgs[idx,:,:,:]\n",
        "\n",
        "  # encode images\n",
        "  img_tokens, _, _ = vq_vae.encode(test_imgs.to(device))\n",
        "\n",
        "  # do a forward pass through ae_maskgit to compute the latent representation, to\n",
        "  # mask tokens and to reconstruct from partially masked tokens\n",
        "  output_logits, _, _, _ = ae_maskgit(img_tokens, mode = \"linear\", deterministic = True)\n",
        "  output_tokens = torch.argmax(output_logits, dim=-1)\n",
        "\n",
        "  # decode images from tokens\n",
        "  # Don't forget to pass the output of vq_vae through a sigmoid to get images!\n",
        "  output_imgs = vq_vae.decode(output_tokens)\n",
        "  output_imgs = torch.sigmoid(output_imgs).detach().cpu().numpy()\n",
        "\n",
        "  # print\n",
        "  r = 2\n",
        "  c = n_images\n",
        "  fig, axs = plt.subplots(r, c)\n",
        "  for j in range(c):\n",
        "    axs[0,j].imshow(test_imgs[j, 0,:,:], cmap='gray')\n",
        "    axs[0,j].axis('off')\n",
        "    axs[1,j].imshow(output_imgs[j, 0,:,:], cmap='gray')\n",
        "    axs[1,j].axis('off')\n",
        "  plt.show()"
      ]
    },
    {
      "cell_type": "code",
      "execution_count": 73,
      "metadata": {
        "colab": {
          "base_uri": "https://localhost:8080/",
          "height": 324
        },
        "id": "f-V0SKKw9Xyr",
        "outputId": "9fddbb2c-2fff-4099-cfce-951e4d04e59f"
      },
      "outputs": [
        {
          "data": {
            "image/png": "[encoded data removed]",
            "text/plain": [
              "<Figure size 640x480 with 10 Axes>"
            ]
          },
          "metadata": {},
          "output_type": "display_data"
        }
      ],
      "source": [
        "# reconstructing test images\n",
        "test_imgs = next(iter(mnist_test_loader))[0]\n",
        "display_ae1_images(vqvae_model, ae_maskgit, test_imgs, device)"
      ]
    },
    {
      "cell_type": "markdown",
      "metadata": {
        "id": "XpmrEOBKwEtF"
      },
      "source": [
        "It is reasonably good at the task (we could quantify this if we wanted)."
      ]
    },
    {
      "cell_type": "markdown",
      "metadata": {
        "id": "fpXxiaEO9rnU"
      },
      "source": [
        "### Encoding - full decoding capabilities"
      ]
    },
    {
      "cell_type": "markdown",
      "metadata": {
        "id": "wrw2YndgwTKT"
      },
      "source": [
        "We will now test the __full encoding - decoding capabilities__ of the framework, by encoding images to a latent vector and reconstructing them purely from this latent vector. In other words, we start from __all masked image tokens__ and we do multi-step image generation conditioned on the latent vector."
      ]
    },
    {
      "cell_type": "code",
      "execution_count": 74,
      "metadata": {
        "id": "dye8zpIQ-Das"
      },
      "outputs": [],
      "source": [
        "def display_aef_images(vq_vae, ae_maskgit, test_imgs, device):\n",
        "  '''\n",
        "  Display a batch of input images along with their full reconstructions\n",
        "  purely from the latent code\n",
        "    First row: input images\n",
        "    Second row: reconstructed images\n",
        "  '''\n",
        "\n",
        "  ae_maskgit.eval()\n",
        "\n",
        "  n_images = 5\n",
        "  idx = np.random.randint(0, test_imgs.shape[0], n_images)\n",
        "  test_imgs = test_imgs[idx,:,:,:]\n",
        "\n",
        "  # encode images to tokens\n",
        "  img_tokens, _, _ = vq_vae.encode(test_imgs.to(device))\n",
        "\n",
        "  # encode tokens to latent vector\n",
        "  mu, _ = ae_maskgit.encode(img_tokens)\n",
        "\n",
        "  # reconstruct tokens entirely from the latent vector mu\n",
        "  # I suggest you set deterministic=True\n",
        "  output_tokens = ae_maskgit.decode_test(mu, mode = \"cosine\", deterministic = True)\n",
        "\n",
        "  # decode images from tokens\n",
        "  # Don't forget to pass the output of vq_vae through a sigmoid to get images!\n",
        "  output_imgs = vq_vae.decode(output_tokens)\n",
        "  output_imgs = torch.sigmoid(output_imgs).detach().cpu().numpy()\n",
        "\n",
        "  # print\n",
        "  r = 2\n",
        "  c = n_images\n",
        "  fig, axs = plt.subplots(r, c)\n",
        "  for j in range(c):\n",
        "    axs[0,j].imshow(test_imgs[j, 0,:,:], cmap='gray')\n",
        "    axs[0,j].axis('off')\n",
        "    axs[1,j].imshow(output_imgs[j, 0,:,:], cmap='gray')\n",
        "    axs[1,j].axis('off')\n",
        "  plt.show()"
      ]
    },
    {
      "cell_type": "code",
      "execution_count": 75,
      "metadata": {
        "colab": {
          "base_uri": "https://localhost:8080/",
          "height": 324
        },
        "id": "RQkN0VRF-Dat",
        "outputId": "ebad8509-0eb6-4a30-e916-a08973f34961"
      },
      "outputs": [
        {
          "data": {
            "image/png": "[encoded data removed]",
            "text/plain": [
              "<Figure size 640x480 with 10 Axes>"
            ]
          },
          "metadata": {},
          "output_type": "display_data"
        }
      ],
      "source": [
        "# reconstructing test images\n",
        "ae_maskgit.steps = 20\n",
        "test_imgs = next(iter(mnist_test_loader))[0]\n",
        "display_aef_images(vqvae_model, ae_maskgit, test_imgs, device)\n",
        "ae_maskgit.steps = decoding_steps"
      ]
    },
    {
      "cell_type": "markdown",
      "metadata": {
        "id": "qrzgTQ1hwyMB"
      },
      "source": [
        "The model is decent at this. We can quantify this below. It does not reconstruct perfectly the digits (the autoencoding mechanism is a bit naive + it is a very small transformer), but compared to a vanilla VAE there is little blurring in the reconstructions. The reconstructions are semantically correct but there are a few perceptual mistakes."
      ]
    },
    {
      "cell_type": "markdown",
      "metadata": {
        "id": "C6C3BFuKAaaJ"
      },
      "source": [
        "### Compute quantitative reconstruction metrics\n",
        "\n",
        "We will compute the binary cross entropy in image space."
      ]
    },
    {
      "cell_type": "code",
      "execution_count": 76,
      "metadata": {
        "colab": {
          "base_uri": "https://localhost:8080/"
        },
        "id": "5awb6Nl8Akj5",
        "outputId": "c5f2f67f-3b0c-4c82-f6cc-71a971a9e1f4"
      },
      "outputs": [
        {
          "name": "stderr",
          "output_type": "stream",
          "text": [
            "100%|██████████| 157/157 [00:04<00:00, 38.78batch/s, loss=0.118] "
          ]
        },
        {
          "name": "stdout",
          "output_type": "stream",
          "text": [
            "Test Loss: 0.1232\n"
          ]
        },
        {
          "name": "stderr",
          "output_type": "stream",
          "text": [
            "\n"
          ]
        }
      ],
      "source": [
        "ae_maskgit.eval()\n",
        "vqvae_model.eval()\n",
        "test_loss=0.0\n",
        "\n",
        "ae_maskgit.steps = 8\n",
        "\n",
        "with tqdm(mnist_test_loader, unit=\"batch\") as tepoch:\n",
        "  for data, labels in tepoch:\n",
        "    # Put the data on the correct device:\n",
        "    x = data.to(device)\n",
        "\n",
        "    # encode images to tokens\n",
        "    img_tokens, _, _ = vqvae_model.encode(x)\n",
        "\n",
        "    # encode tokens to latent vector\n",
        "    mu, _ = ae_maskgit.encode(img_tokens)\n",
        "\n",
        "    # decode latent vector to tokens\n",
        "    output_tokens = ae_maskgit.decode_test(mu, mode=\"linear\", temperature=1., deterministic=True)\n",
        "\n",
        "    # decode images from tokens\n",
        "    x_hat = vqvae_model.decode(output_tokens)\n",
        "\n",
        "    # Compute the reconstruction loss\n",
        "    # Hint: x_hat contains logits!\n",
        "    loss = F.binary_cross_entropy_with_logits(x_hat, x, reduction=\"mean\")\n",
        "\n",
        "    # Compute the loss\n",
        "    test_loss += loss.item()\n",
        "\n",
        "    # tqdm bar displays the loss\n",
        "    tepoch.set_postfix(loss=loss.item())\n",
        "\n",
        "print('Test Loss: {:.4f}'.format(test_loss/len(mnist_test_loader)))\n",
        "\n",
        "ae_maskgit.steps = decoding_steps"
      ]
    },
    {
      "cell_type": "markdown",
      "metadata": {
        "id": "L9DOAAFCyFGC"
      },
      "source": [
        "You can directly compare this number (0.1231 if you have the same model and code as I do) to the one we had obtained when simply autoencoding through the VQ-VAE part, which was 0.0713. The fact that the reconstructed digits are not blurry, but that there are a few perceptual reconstruction errors means that this binary cross-entropy metric is naturally a bit higher than it could be."
      ]
    },
    {
      "cell_type": "markdown",
      "metadata": {
        "id": "o7rF3lXzBr7Q"
      },
      "source": [
        "## 4.5. Generative capabilities of AE-MaskGIT"
      ]
    },
    {
      "cell_type": "markdown",
      "metadata": {
        "id": "XYz1Pbbcyi4S"
      },
      "source": [
        "We have not yet tried to generate images from AE-MaskGIT (we've only done auto-encoding so far). To __generate images__, we should generate a latent vector from the prior $p(z)=N(z;0,1)$, then predict tokens from this latent vector (this part is done via `ae_maskgit.generate_samples()`) then decode the tokens back to image space (this part is done via `vqvae_model.decode()`)."
      ]
    },
    {
      "cell_type": "code",
      "execution_count": 77,
      "metadata": {
        "id": "lvrE4nBWB01n"
      },
      "outputs": [],
      "source": [
        "def generate_images_aemaskgit(vq_vae, ae_maskgit, n_images=5):\n",
        "    output_tokens = ae_maskgit.generate_samples(N=n_images, mode=\"cosine\", temperature=10., randomize=\"warm_up\", deterministic=True, r=None)\n",
        "    x_hat = vqvae_model.decode(output_tokens)\n",
        "    return torch.sigmoid(x_hat)"
      ]
    },
    {
      "cell_type": "markdown",
      "metadata": {
        "id": "dhTA8AStB01m"
      },
      "source": [
        "Now, generate some images. You can rerun the cell several times for more variety. (I am optionally increasing the number of decoding steps in AE-MaskGIT, to potentially improve the quality of samples)"
      ]
    },
    {
      "cell_type": "code",
      "execution_count": 78,
      "metadata": {
        "id": "tgnzxSY7B01o"
      },
      "outputs": [
        {
          "data": {
            "image/png": "[encoded data removed]",
            "text/plain": [
              "<Figure size 640x480 with 5 Axes>"
            ]
          },
          "metadata": {},
          "output_type": "display_data"
        }
      ],
      "source": [
        "ae_maskgit.steps = 20\n",
        "\n",
        "imgs_generated = generate_images_aemaskgit(vqvae_model, ae_maskgit)\n",
        "display_images(imgs_generated)\n",
        "\n",
        "ae_maskgit.steps = decoding_steps"
      ]
    },
    {
      "cell_type": "markdown",
      "metadata": {
        "id": "Jh_z6uPUzeE3"
      },
      "source": [
        "__What do you think of these samples?__ Some are good, some are not so good. Let's try next to improve the quality of generated samples without fundamentally changing our model!"
      ]
    },
    {
      "cell_type": "markdown",
      "metadata": {},
      "source": [
        "**Answer**: Some samples indeed look good, while others are very rough, with thick lines, sometimes missing lines (such as with the 9), sometimes lines in the wrong place (before last image)."
      ]
    },
    {
      "cell_type": "markdown",
      "metadata": {
        "id": "x9OQy7WX4NJg"
      },
      "source": [
        "# 5. Generating better samples via Noise Contrastive Priors!"
      ]
    },
    {
      "cell_type": "markdown",
      "metadata": {
        "id": "o2ypK6Mp07l0"
      },
      "source": [
        "In the course, we have seen that a common issue of VAE-like models is the prior hole problem i.e., the __discrepancy between the prior and the aggregate posterior__ $p(z)$ and $q(z)$. We can try to fix that with the NCP-VAE strategy described in the course, which attempts to modify the prior after training the model $\\tilde{p}(z)\\propto p(z)r(z)$ to make it match the aggregate posterior $q(z)$ more closely.<br>\n",
        "\n",
        "The closed-form solution of minimizing $KL(q(z)||\\tilde{p}(z))$ w.r.t. $r$ yields $r(z):= q(z)/p(z)$, a quantity which can be estimated by the likelihood ratio trick. Specifically, we will train a discriminator network `D` (a small MLP) to discriminate samples from $q(z)$ (class 1) from samples from $p(z)=N(0,1)$ (class 0). After training the model, the logit `D(z)` output by the neural network is an estimate of $\\log{q(z)/p(z)}$, so that $r(z)=\\exp{D(z)}$.<br>\n",
        "\n",
        "All that is left to do is to be able to sample from $\\tilde{p}(z)\\propto p(z)r(z)$. We will use sampling-importance-resampling, which proposes to\n",
        "1.   sample from $p(z)$ `n_candidates` samples `z_i`\n",
        "2.   compute `w_i=r(z_i)`\n",
        "3.   sample an index `i` among the `n_candidates` with probability proportional to `w_i`\n",
        "\n",
        "These three steps give us an approximate sample from $\\tilde{p}(z)$.\n",
        "\n",
        "\n",
        "\n"
      ]
    },
    {
      "cell_type": "markdown",
      "metadata": {
        "id": "4KXUfjH33kFa"
      },
      "source": [
        "We set out to implement this next!"
      ]
    },
    {
      "cell_type": "markdown",
      "metadata": {
        "id": "oUNkX04k31px"
      },
      "source": [
        "## 5.1. Generating a dataset of samples from $q(z)$"
      ]
    },
    {
      "cell_type": "markdown",
      "metadata": {
        "id": "rt_kgE433_WS"
      },
      "source": [
        "The samples from $q(z)$ needed to train `D` are obtained by sampling randomly an image from MNIST trainset and computing the corresponding latent vector. Instead of doing it on the fly at each training iteration, which is fairly costly, we will precompute all the latent vectors in the `cMNIST` dataset, like we did previously with `tMNIST`."
      ]
    },
    {
      "cell_type": "code",
      "execution_count": 79,
      "metadata": {
        "id": "DJY4_Wd76TX-"
      },
      "outputs": [],
      "source": [
        "class cMNIST(object):\n",
        "    def __init__(self, ae_maskgit, tmnist_loader, device):\n",
        "        ae_maskgit = ae_maskgit.to(device)\n",
        "        self.data = self.process(ae_maskgit, tmnist_loader, device)\n",
        "\n",
        "    def __getitem__(self, i):\n",
        "        return self.data[i]\n",
        "\n",
        "    def process(self, ae_maskgit, tmnist_loader, device):\n",
        "        ae_maskgit.eval()\n",
        "        latents = []\n",
        "\n",
        "        with tqdm(tmnist_loader, unit=\"batch\") as tepoch:\n",
        "            for data in tepoch:\n",
        "                # Put the data on the correct device:\n",
        "                data = data.to(device)\n",
        "\n",
        "                # Pass the data through the model\n",
        "                mu, _ = ae_maskgit.encode(data)\n",
        "                latents.append(mu.detach().clone().cpu().numpy())\n",
        "\n",
        "        return np.concatenate(latents, axis=0)\n",
        "\n",
        "    def __len__(self):\n",
        "        return np.shape(self.data)[0]"
      ]
    },
    {
      "cell_type": "code",
      "execution_count": 80,
      "metadata": {
        "colab": {
          "base_uri": "https://localhost:8080/"
        },
        "id": "dKbGqlbZ6TYA",
        "outputId": "4eddad04-a5a0-44cc-bc98-cd97c244799f"
      },
      "outputs": [
        {
          "name": "stderr",
          "output_type": "stream",
          "text": [
            "100%|██████████| 235/235 [00:01<00:00, 209.59batch/s]\n",
            "100%|██████████| 40/40 [00:00<00:00, 205.01batch/s]\n"
          ]
        }
      ],
      "source": [
        "cmnist_trainset = cMNIST(ae_maskgit, tmnist_train_loader, device)\n",
        "cmnist_testset = cMNIST(ae_maskgit, tmnist_test_loader, device)"
      ]
    },
    {
      "cell_type": "code",
      "execution_count": 81,
      "metadata": {
        "id": "QhdN8Dww6TYB"
      },
      "outputs": [],
      "source": [
        "batch_size = 256\n",
        "\n",
        "cmnist_train_loader = torch.utils.data.DataLoader(cmnist_trainset, batch_size=batch_size, shuffle=True, drop_last=False)\n",
        "cmnist_test_loader = torch.utils.data.DataLoader(cmnist_testset, batch_size=batch_size, shuffle=False, drop_last=False)"
      ]
    },
    {
      "cell_type": "code",
      "execution_count": 82,
      "metadata": {
        "colab": {
          "base_uri": "https://localhost:8080/"
        },
        "id": "ZVtra1A76TYC",
        "outputId": "d7ee93b0-8e9e-455d-bf56-9b2ebcaa9c7b"
      },
      "outputs": [
        {
          "data": {
            "text/plain": [
              "(60000, 10)"
            ]
          },
          "execution_count": 82,
          "metadata": {},
          "output_type": "execute_result"
        }
      ],
      "source": [
        "cmnist_trainset.data.shape"
      ]
    },
    {
      "cell_type": "markdown",
      "metadata": {
        "id": "Ac7y-4v14nkF"
      },
      "source": [
        "## 5.2. Building and training D"
      ]
    },
    {
      "cell_type": "markdown",
      "metadata": {
        "id": "bB7ppo7V50mj"
      },
      "source": [
        "We will use as loss the `binary_cross_entropy_with_logits`, assigning the target for samples from $q$ as 1 and the target for samples from $p$ as 0."
      ]
    },
    {
      "cell_type": "code",
      "execution_count": 83,
      "metadata": {
        "execution": {
          "iopub.execute_input": "2024-05-10T19:10:45.770550Z",
          "iopub.status.busy": "2024-05-10T19:10:45.770193Z",
          "iopub.status.idle": "2024-05-10T19:10:45.776515Z",
          "shell.execute_reply": "2024-05-10T19:10:45.774989Z",
          "shell.execute_reply.started": "2024-05-10T19:10:45.770522Z"
        },
        "id": "uSEH1JtfaZ0U",
        "trusted": true
      },
      "outputs": [],
      "source": [
        "def discriminator_loss(D, z_q, z_p):\n",
        "    y_f = D(z_q)\n",
        "    y_r = D(z_p)\n",
        "\n",
        "    loss = 0.5 * (F.binary_cross_entropy_with_logits(y_f, torch.ones_like(y_f)) + F.binary_cross_entropy_with_logits(y_r, torch.zeros_like(y_r)))\n",
        "\n",
        "    return loss"
      ]
    },
    {
      "cell_type": "markdown",
      "metadata": {
        "id": "7XVN-T6S4zDN"
      },
      "source": [
        "The `discriminator_model` maps from a latent code of dimension `latent_dim` to a single logit (-> probability to be a sample from $q(z)$).<br>\n",
        "\n",
        "Build a model with:\n",
        "1.   A linear layer that maps to a vector of size 128\n",
        "2.   An ELU nonlinearity\n",
        "3.   A LayerNorm\n",
        "4.   A linear layer with 128 output neurons\n",
        "5.   An ELU nonlinearity\n",
        "6.   A LayerNorm\n",
        "7.   A linear layer that produces the output\n",
        "\n"
      ]
    },
    {
      "cell_type": "code",
      "execution_count": 84,
      "metadata": {
        "id": "nf8H5E027Myl"
      },
      "outputs": [],
      "source": [
        "discriminator_model = nn.Sequential(nn.Linear(latent_dim, 128),\n",
        "                                    nn.ELU(),\n",
        "                                    nn.LayerNorm(128),\n",
        "                                    nn.Linear(128, 128),\n",
        "                                    nn.ELU(),\n",
        "                                    nn.LayerNorm(128),\n",
        "                                    nn.Linear(128, 1))"
      ]
    },
    {
      "cell_type": "code",
      "execution_count": 85,
      "metadata": {
        "id": "-N1jpRh5RyJ_"
      },
      "outputs": [],
      "source": [
        "discriminator_model = discriminator_model.to(device)"
      ]
    },
    {
      "cell_type": "markdown",
      "metadata": {
        "id": "pUMsnxk36Nn2"
      },
      "source": [
        "Let's train the model."
      ]
    },
    {
      "cell_type": "code",
      "execution_count": 86,
      "metadata": {
        "id": "e9ke9V7Z8fN-"
      },
      "outputs": [],
      "source": [
        "n_epoch_d = 10\n",
        "learning_rate_d = 1e-3\n",
        "optimizer_d = optim.AdamW(discriminator_model.parameters(), lr=learning_rate_d, weight_decay=1e-4)"
      ]
    },
    {
      "cell_type": "code",
      "execution_count": 87,
      "metadata": {
        "id": "dLP-6fYo83A5"
      },
      "outputs": [
        {
          "name": "stderr",
          "output_type": "stream",
          "text": [
            "Epoch 0: 100%|██████████| 235/235 [00:00<00:00, 303.88batch/s, losses=0.613]\n"
          ]
        },
        {
          "name": "stdout",
          "output_type": "stream",
          "text": [
            "Epoch 0: Discriminator Loss: 0.6481\n"
          ]
        },
        {
          "name": "stderr",
          "output_type": "stream",
          "text": [
            "Epoch 1: 100%|██████████| 235/235 [00:00<00:00, 314.38batch/s, losses=0.578]\n"
          ]
        },
        {
          "name": "stdout",
          "output_type": "stream",
          "text": [
            "Epoch 1: Discriminator Loss: 0.5985\n"
          ]
        },
        {
          "name": "stderr",
          "output_type": "stream",
          "text": [
            "Epoch 2: 100%|██████████| 235/235 [00:00<00:00, 307.26batch/s, losses=0.535]\n"
          ]
        },
        {
          "name": "stdout",
          "output_type": "stream",
          "text": [
            "Epoch 2: Discriminator Loss: 0.5540\n"
          ]
        },
        {
          "name": "stderr",
          "output_type": "stream",
          "text": [
            "Epoch 3: 100%|██████████| 235/235 [00:00<00:00, 300.71batch/s, losses=0.476]\n"
          ]
        },
        {
          "name": "stdout",
          "output_type": "stream",
          "text": [
            "Epoch 3: Discriminator Loss: 0.5204\n"
          ]
        },
        {
          "name": "stderr",
          "output_type": "stream",
          "text": [
            "Epoch 4: 100%|██████████| 235/235 [00:00<00:00, 304.24batch/s, losses=0.509]\n"
          ]
        },
        {
          "name": "stdout",
          "output_type": "stream",
          "text": [
            "Epoch 4: Discriminator Loss: 0.4992\n"
          ]
        },
        {
          "name": "stderr",
          "output_type": "stream",
          "text": [
            "Epoch 5: 100%|██████████| 235/235 [00:00<00:00, 314.18batch/s, losses=0.471]\n"
          ]
        },
        {
          "name": "stdout",
          "output_type": "stream",
          "text": [
            "Epoch 5: Discriminator Loss: 0.4822\n"
          ]
        },
        {
          "name": "stderr",
          "output_type": "stream",
          "text": [
            "Epoch 6: 100%|██████████| 235/235 [00:00<00:00, 305.81batch/s, losses=0.48] \n"
          ]
        },
        {
          "name": "stdout",
          "output_type": "stream",
          "text": [
            "Epoch 6: Discriminator Loss: 0.4715\n"
          ]
        },
        {
          "name": "stderr",
          "output_type": "stream",
          "text": [
            "Epoch 7: 100%|██████████| 235/235 [00:00<00:00, 308.69batch/s, losses=0.447]\n"
          ]
        },
        {
          "name": "stdout",
          "output_type": "stream",
          "text": [
            "Epoch 7: Discriminator Loss: 0.4636\n"
          ]
        },
        {
          "name": "stderr",
          "output_type": "stream",
          "text": [
            "Epoch 8: 100%|██████████| 235/235 [00:00<00:00, 303.73batch/s, losses=0.47] \n"
          ]
        },
        {
          "name": "stdout",
          "output_type": "stream",
          "text": [
            "Epoch 8: Discriminator Loss: 0.4549\n"
          ]
        },
        {
          "name": "stderr",
          "output_type": "stream",
          "text": [
            "Epoch 9: 100%|██████████| 235/235 [00:00<00:00, 312.96batch/s, losses=0.393]"
          ]
        },
        {
          "name": "stdout",
          "output_type": "stream",
          "text": [
            "Epoch 9: Discriminator Loss: 0.4462\n"
          ]
        },
        {
          "name": "stderr",
          "output_type": "stream",
          "text": [
            "\n"
          ]
        }
      ],
      "source": [
        "discriminator_model.train()\n",
        "\n",
        "for epoch in range(0,n_epoch_d):\n",
        "  train_loss=0.0\n",
        "\n",
        "  with tqdm(cmnist_train_loader, unit=\"batch\") as tepoch:\n",
        "    for data in tepoch:\n",
        "      tepoch.set_description(f\"Epoch {epoch}\")\n",
        "\n",
        "      # Put data on correct device, GPU or CPU\n",
        "      z_q = data.to(device)\n",
        "\n",
        "      # Generate z_p from p(z)\n",
        "      z_p = ae_maskgit.sample_pz(z_q.size(0))\n",
        "\n",
        "      # Compute the discriminator loss\n",
        "      loss = discriminator_loss(discriminator_model, z_q, z_p)\n",
        "\n",
        "      # Backpropagate\n",
        "      optimizer_d.zero_grad()\n",
        "      loss.backward()\n",
        "      optimizer_d.step()\n",
        "\n",
        "      # Aggregate the training loss for display at the end of the epoch\n",
        "      train_loss += loss.item()\n",
        "\n",
        "      # tqdm bar displays the loss\n",
        "      tepoch.set_postfix(losses=loss.item())\n",
        "\n",
        "  print('Epoch {}: Discriminator Loss: {:.4f}'.format(epoch, train_loss/len(cmnist_train_loader)))"
      ]
    },
    {
      "cell_type": "markdown",
      "metadata": {
        "id": "9l2IsLYg6fVc"
      },
      "source": [
        "If it has trained properly, you can load a pretrained discriminator model instead if you want (that is only valid for the pretrained AE-MaskGIT model!)"
      ]
    },
    {
      "cell_type": "code",
      "execution_count": 88,
      "metadata": {
        "colab": {
          "base_uri": "https://localhost:8080/"
        },
        "id": "QpoGWBqfRy75",
        "outputId": "81b96468-6de8-4798-ccb0-11d04e077b8e"
      },
      "outputs": [
        {
          "name": "stdout",
          "output_type": "stream",
          "text": [
            "WARNING: combining -O with -r or -p will mean that all downloaded content\n",
            "will be placed in the single file you specified.\n",
            "\n",
            "--2025-03-04 17:14:19--  https://drive.google.com/uc?export=download&id=1kCFZXzW3uMaVjUIBTfa8yNJ79PgLj95Y\n",
            "Resolving drive.google.com (drive.google.com)... 216.58.214.174, 2a00:1450:4007:80e::200e\n",
            "Connecting to drive.google.com (drive.google.com)|216.58.214.174|:443... connected.\n",
            "HTTP request sent, awaiting response... 303 See Other\n",
            "Location: https://drive.usercontent.google.com/download?id=1kCFZXzW3uMaVjUIBTfa8yNJ79PgLj95Y&export=download [following]\n",
            "--2025-03-04 17:14:19--  https://drive.usercontent.google.com/download?id=1kCFZXzW3uMaVjUIBTfa8yNJ79PgLj95Y&export=download\n",
            "Resolving drive.usercontent.google.com (drive.usercontent.google.com)... 142.250.179.97, 2a00:1450:4007:818::2001\n",
            "Connecting to drive.usercontent.google.com (drive.usercontent.google.com)|142.250.179.97|:443... connected.\n",
            "HTTP request sent, awaiting response... 200 OK\n",
            "Length: 78210 (76K) [application/octet-stream]\n",
            "Saving to: ‘weights_discriminator.pth’\n",
            "\n",
            "weights_discriminat 100%[===================>]  76.38K  --.-KB/s    in 0.04s   \n",
            "\n",
            "2025-03-04 17:14:22 (1.72 MB/s) - ‘weights_discriminator.pth’ saved [78210/78210]\n",
            "\n",
            "FINISHED --2025-03-04 17:14:22--\n",
            "Total wall clock time: 2.5s\n",
            "Downloaded: 1 files, 76K in 0.04s (1.72 MB/s)\n"
          ]
        }
      ],
      "source": [
        "!wget --no-check-certificate -r 'https://drive.google.com/uc?export=download&id=1kCFZXzW3uMaVjUIBTfa8yNJ79PgLj95Y' -O weights_discriminator.pth"
      ]
    },
    {
      "cell_type": "code",
      "execution_count": 89,
      "metadata": {
        "colab": {
          "base_uri": "https://localhost:8080/"
        },
        "id": "OKTTzzCrRy77",
        "outputId": "df355ff5-e01e-4a6a-8b64-ca0a2b31fd8d"
      },
      "outputs": [
        {
          "name": "stderr",
          "output_type": "stream",
          "text": [
            "/tmp/ipykernel_1618742/3947124790.py:1: FutureWarning: You are using `torch.load` with `weights_only=False` (the current default value), which uses the default pickle module implicitly. It is possible to construct malicious pickle data which will execute arbitrary code during unpickling (See https://github.com/pytorch/pytorch/blob/main/SECURITY.md#untrusted-models for more details). In a future release, the default value for `weights_only` will be flipped to `True`. This limits the functions that could be executed during unpickling. Arbitrary objects will no longer be allowed to be loaded via this mode unless they are explicitly allowlisted by the user via `torch.serialization.add_safe_globals`. We recommend you start setting `weights_only=True` for any use case where you don't have full control of the loaded file. Please open an issue on GitHub for any issues related to this experimental feature.\n",
            "  weights_dict = torch.load('weights_discriminator.pth')\n"
          ]
        }
      ],
      "source": [
        "weights_dict = torch.load('weights_discriminator.pth')"
      ]
    },
    {
      "cell_type": "code",
      "execution_count": 90,
      "metadata": {
        "colab": {
          "base_uri": "https://localhost:8080/"
        },
        "id": "8s6ET1RvRyY5",
        "outputId": "1379dfbb-d123-48da-de86-79e08e274891"
      },
      "outputs": [
        {
          "data": {
            "text/plain": [
              "<All keys matched successfully>"
            ]
          },
          "execution_count": 90,
          "metadata": {},
          "output_type": "execute_result"
        }
      ],
      "source": [
        "discriminator_model.load_state_dict(weights_dict)"
      ]
    },
    {
      "cell_type": "code",
      "execution_count": 91,
      "metadata": {
        "id": "JoyQlnac7Ykw"
      },
      "outputs": [],
      "source": [
        "discriminator_model = discriminator_model.to(device)"
      ]
    },
    {
      "cell_type": "markdown",
      "metadata": {
        "id": "oJMOIOIk7A5W"
      },
      "source": [
        "## 5.3. Using the noise contrastive prior"
      ]
    },
    {
      "cell_type": "markdown",
      "metadata": {
        "id": "EF_nXXIo7FFm"
      },
      "source": [
        "We build a small class that stores the trained discriminator and computes $r(z)$ given $z$ when it is called."
      ]
    },
    {
      "cell_type": "code",
      "execution_count": 92,
      "metadata": {
        "execution": {
          "iopub.execute_input": "2024-05-10T19:10:45.972870Z",
          "iopub.status.busy": "2024-05-10T19:10:45.972049Z",
          "iopub.status.idle": "2024-05-10T19:10:45.977553Z",
          "shell.execute_reply": "2024-05-10T19:10:45.976481Z",
          "shell.execute_reply.started": "2024-05-10T19:10:45.972828Z"
        },
        "id": "DCbuhR91a9nw",
        "trusted": true
      },
      "outputs": [],
      "source": [
        "class r(object):\n",
        "    def __init__(self, discriminator):\n",
        "        self.D = discriminator\n",
        "    def __call__(self, z):\n",
        "        return torch.exp(self.D(z)).squeeze(-1)"
      ]
    },
    {
      "cell_type": "code",
      "execution_count": 93,
      "metadata": {
        "id": "ZvhUqhhmEPVE"
      },
      "outputs": [],
      "source": [
        "r_model = r(discriminator_model)"
      ]
    },
    {
      "cell_type": "markdown",
      "metadata": {
        "id": "UaHfhVx97Qxi"
      },
      "source": [
        "All that is left is to complete the routine `sir` in the `AEMaskGIT` class if you have not done so yet. It implements the sampling importance resampling.<br>\n",
        "\n",
        "After modifying the class `AEMaskGIT`, you may have to reinitialize the model for changes to be taken into account and to repopulate it with the pretrained weights. Then, you can run the cells below, which draw samples from the model using the NCP prior!"
      ]
    },
    {
      "cell_type": "code",
      "execution_count": 94,
      "metadata": {
        "id": "aoglBl_IDGDA"
      },
      "outputs": [],
      "source": [
        "def generate_images_aemaskgit(vq_vae, ae_maskgit, n_images=5, r=None):\n",
        "    output_tokens = ae_maskgit.generate_samples(N=n_images, mode=\"cosine\", temperature=10., randomize=\"warm_up\", deterministic=True, r=r)\n",
        "    x_hat = vqvae_model.decode(output_tokens)\n",
        "    return torch.sigmoid(x_hat)"
      ]
    },
    {
      "cell_type": "code",
      "execution_count": 95,
      "metadata": {
        "id": "aZPUnb7ODGDB"
      },
      "outputs": [
        {
          "data": {
            "image/png": "[encoded data removed]",
            "text/plain": [
              "<Figure size 640x480 with 5 Axes>"
            ]
          },
          "metadata": {},
          "output_type": "display_data"
        }
      ],
      "source": [
        "ae_maskgit.steps = 20\n",
        "\n",
        "imgs_generated = generate_images_aemaskgit(vqvae_model, ae_maskgit, n_images=5, r=r_model)\n",
        "display_images(imgs_generated)\n",
        "\n",
        "ae_maskgit.steps = decoding_steps"
      ]
    },
    {
      "cell_type": "markdown",
      "metadata": {
        "id": "DwbQtF_f78Y8"
      },
      "source": [
        "The samples should now be qualitatively much better on average! In the final part of this lab, where you have nothing to code, we will quantify this."
      ]
    },
    {
      "cell_type": "markdown",
      "metadata": {
        "id": "DAa8vdKuHHoZ"
      },
      "source": [
        "# 6. Evaluating the quality of generated samples"
      ]
    },
    {
      "cell_type": "code",
      "execution_count": 96,
      "metadata": {
        "colab": {
          "base_uri": "https://localhost:8080/"
        },
        "id": "EA_1GT9898zg",
        "outputId": "60a598a8-c808-4458-9641-6da54b17253e"
      },
      "outputs": [
        {
          "name": "stdout",
          "output_type": "stream",
          "text": [
            "cuda:0\n"
          ]
        }
      ],
      "source": [
        "device = torch.device(\"cuda:0\" if torch.cuda.is_available() else \"cpu\")\n",
        "print(device)"
      ]
    },
    {
      "cell_type": "markdown",
      "metadata": {
        "id": "jMKvIQkU8OxQ"
      },
      "source": [
        "The most widely accepted metric for evaluating the quality of generated images is the FID (Fréchet Inception Distance) which we have discussed in the course. You could implement it if you are interested, but we will opt for a simpler (and more naive) metric."
      ]
    },
    {
      "cell_type": "markdown",
      "metadata": {
        "id": "qQc2bS8b8jlj"
      },
      "source": [
        "We will train a digit classifier on real MNIST samples. As the task is fairly easy, we will reach close to 100% accuracy. We will assume for this reason that a good digit is an image that can be easily classified into one of the 10 digits: in other words, an image for which the maximum of the 10 output probabilities is close to 1.<br>\n",
        "\n",
        "We will hence __measure the generation quality__ as the average over generated images, of the maximum probability (computed separately for each generated image) $p_{i*}=\\max_{i=1\\dots 10} p_i$. The upper bound of the metric will be the test-time classification accuracy on real-digits, as fake digits will probably be harder to classify."
      ]
    },
    {
      "cell_type": "code",
      "execution_count": 97,
      "metadata": {
        "execution": {
          "iopub.execute_input": "2024-05-10T19:15:27.388070Z",
          "iopub.status.busy": "2024-05-10T19:15:27.387638Z",
          "iopub.status.idle": "2024-05-10T19:15:27.398972Z",
          "shell.execute_reply": "2024-05-10T19:15:27.398154Z",
          "shell.execute_reply.started": "2024-05-10T19:15:27.388034Z"
        },
        "id": "VXXULJEPHKoS",
        "trusted": true
      },
      "outputs": [],
      "source": [
        "nb_classes = 10\n",
        "nb_filters = 32\n",
        "kernel_size = (3, 3)\n",
        "pool_size = (2, 2)\n",
        "\n",
        "mnist_classification_model = torch.nn.Sequential(\n",
        "        torch.nn.Conv2d(1, 32, kernel_size=kernel_size, stride=2, padding=1),\n",
        "        torch.nn.ReLU(),\n",
        "        torch.nn.BatchNorm2d(32),\n",
        "        torch.nn.Conv2d(32, 64, kernel_size=kernel_size, stride=2, padding=1),\n",
        "        torch.nn.ReLU(),\n",
        "        torch.nn.BatchNorm2d(64),\n",
        "        torch.nn.Conv2d(64, 128, kernel_size=kernel_size, stride=2, padding=1),\n",
        "        torch.nn.ReLU(),\n",
        "        torch.nn.BatchNorm2d(128),\n",
        "        torch.nn.AvgPool2d(kernel_size=(4,4), stride=4),\n",
        "        torch.nn.Flatten(),\n",
        "        torch.nn.Linear(128, nb_classes)\n",
        "    )"
      ]
    },
    {
      "cell_type": "code",
      "execution_count": 98,
      "metadata": {
        "colab": {
          "base_uri": "https://localhost:8080/"
        },
        "id": "ZWI0QSawHa4F",
        "outputId": "464ab44d-d919-42fe-d22c-6f0c09057361"
      },
      "outputs": [
        {
          "name": "stdout",
          "output_type": "stream",
          "text": [
            "WARNING: combining -O with -r or -p will mean that all downloaded content\n",
            "will be placed in the single file you specified.\n",
            "\n",
            "--2025-03-04 17:14:22--  https://drive.google.com/uc?export=download&id=1s9naPzcS_uOzX4Hhn9LxWEew7okv2Xg6\n",
            "Resolving drive.google.com (drive.google.com)... 216.58.214.174, 2a00:1450:4007:80e::200e\n",
            "Connecting to drive.google.com (drive.google.com)|216.58.214.174|:443... connected.\n",
            "HTTP request sent, awaiting response... 303 See Other\n",
            "Location: https://drive.usercontent.google.com/download?id=1s9naPzcS_uOzX4Hhn9LxWEew7okv2Xg6&export=download [following]\n",
            "--2025-03-04 17:14:22--  https://drive.usercontent.google.com/download?id=1s9naPzcS_uOzX4Hhn9LxWEew7okv2Xg6&export=download\n",
            "Resolving drive.usercontent.google.com (drive.usercontent.google.com)... 142.250.179.97, 2a00:1450:4007:818::2001\n",
            "Connecting to drive.usercontent.google.com (drive.usercontent.google.com)|142.250.179.97|:443... connected.\n",
            "HTTP request sent, awaiting response... 200 OK\n",
            "Length: 386982 (378K) [application/octet-stream]\n",
            "Saving to: ‘weights_classif.pth’\n",
            "\n",
            "weights_classif.pth 100%[===================>] 377.91K  --.-KB/s    in 0.02s   \n",
            "\n",
            "2025-03-04 17:14:25 (18.2 MB/s) - ‘weights_classif.pth’ saved [386982/386982]\n",
            "\n",
            "FINISHED --2025-03-04 17:14:25--\n",
            "Total wall clock time: 2.5s\n",
            "Downloaded: 1 files, 378K in 0.02s (18.2 MB/s)\n"
          ]
        }
      ],
      "source": [
        "!wget --no-check-certificate -r 'https://drive.google.com/uc?export=download&id=1s9naPzcS_uOzX4Hhn9LxWEew7okv2Xg6' -O weights_classif.pth"
      ]
    },
    {
      "cell_type": "code",
      "execution_count": 99,
      "metadata": {
        "colab": {
          "base_uri": "https://localhost:8080/"
        },
        "id": "5NUuWXhaHa4H",
        "outputId": "7b6c0933-b2b7-45ed-c112-fce160c95c33"
      },
      "outputs": [
        {
          "name": "stderr",
          "output_type": "stream",
          "text": [
            "/tmp/ipykernel_1618742/4003910353.py:1: FutureWarning: You are using `torch.load` with `weights_only=False` (the current default value), which uses the default pickle module implicitly. It is possible to construct malicious pickle data which will execute arbitrary code during unpickling (See https://github.com/pytorch/pytorch/blob/main/SECURITY.md#untrusted-models for more details). In a future release, the default value for `weights_only` will be flipped to `True`. This limits the functions that could be executed during unpickling. Arbitrary objects will no longer be allowed to be loaded via this mode unless they are explicitly allowlisted by the user via `torch.serialization.add_safe_globals`. We recommend you start setting `weights_only=True` for any use case where you don't have full control of the loaded file. Please open an issue on GitHub for any issues related to this experimental feature.\n",
            "  weights_dict = torch.load('weights_classif.pth')\n"
          ]
        }
      ],
      "source": [
        "weights_dict = torch.load('weights_classif.pth')"
      ]
    },
    {
      "cell_type": "code",
      "execution_count": 100,
      "metadata": {
        "colab": {
          "base_uri": "https://localhost:8080/"
        },
        "execution": {
          "iopub.execute_input": "2024-05-10T19:15:27.657946Z",
          "iopub.status.busy": "2024-05-10T19:15:27.657658Z",
          "iopub.status.idle": "2024-05-10T19:15:27.698131Z",
          "shell.execute_reply": "2024-05-10T19:15:27.697341Z",
          "shell.execute_reply.started": "2024-05-10T19:15:27.657921Z"
        },
        "id": "aBn2nr7q2J9K",
        "outputId": "6837d96a-9543-4695-ddae-e99e13c7bc40",
        "trusted": true
      },
      "outputs": [
        {
          "data": {
            "text/plain": [
              "<All keys matched successfully>"
            ]
          },
          "execution_count": 100,
          "metadata": {},
          "output_type": "execute_result"
        }
      ],
      "source": [
        "mnist_classification_model.load_state_dict(weights_dict)"
      ]
    },
    {
      "cell_type": "code",
      "execution_count": 101,
      "metadata": {
        "execution": {
          "iopub.execute_input": "2024-05-10T19:15:28.179617Z",
          "iopub.status.busy": "2024-05-10T19:15:28.179026Z",
          "iopub.status.idle": "2024-05-10T19:15:28.185754Z",
          "shell.execute_reply": "2024-05-10T19:15:28.184801Z",
          "shell.execute_reply.started": "2024-05-10T19:15:28.179589Z"
        },
        "id": "kxUsWOFu2J9K",
        "trusted": true
      },
      "outputs": [],
      "source": [
        "mnist_classification_model = mnist_classification_model.to(device)"
      ]
    },
    {
      "cell_type": "markdown",
      "metadata": {
        "id": "_sUZONxw2bnt"
      },
      "source": [
        "Create a function to calculate accuracy, instead of loss"
      ]
    },
    {
      "cell_type": "code",
      "execution_count": 102,
      "metadata": {
        "execution": {
          "iopub.execute_input": "2024-05-10T19:15:37.094767Z",
          "iopub.status.busy": "2024-05-10T19:15:37.094394Z",
          "iopub.status.idle": "2024-05-10T19:15:37.099666Z",
          "shell.execute_reply": "2024-05-10T19:15:37.098590Z",
          "shell.execute_reply.started": "2024-05-10T19:15:37.094738Z"
        },
        "id": "u8-ECeUjHKoW",
        "trusted": true
      },
      "outputs": [],
      "source": [
        "def vector_to_class(x):\n",
        "  y = torch.argmax(F.softmax(x,dim=1),axis=1)\n",
        "  return y"
      ]
    },
    {
      "cell_type": "code",
      "execution_count": 103,
      "metadata": {
        "execution": {
          "iopub.execute_input": "2024-05-10T19:15:37.653830Z",
          "iopub.status.busy": "2024-05-10T19:15:37.653508Z",
          "iopub.status.idle": "2024-05-10T19:15:37.658636Z",
          "shell.execute_reply": "2024-05-10T19:15:37.657689Z",
          "shell.execute_reply.started": "2024-05-10T19:15:37.653804Z"
        },
        "id": "gPrdtzhjHKoW",
        "trusted": true
      },
      "outputs": [],
      "source": [
        "def cnn_accuracy(x_pred,x_label):\n",
        "  acc = (x_pred == x_label).sum()/(x_pred.shape[0])\n",
        "  return acc"
      ]
    },
    {
      "cell_type": "code",
      "execution_count": 104,
      "metadata": {
        "colab": {
          "base_uri": "https://localhost:8080/"
        },
        "execution": {
          "iopub.execute_input": "2024-05-10T19:15:41.443456Z",
          "iopub.status.busy": "2024-05-10T19:15:41.443095Z",
          "iopub.status.idle": "2024-05-10T19:15:42.770067Z",
          "shell.execute_reply": "2024-05-10T19:15:42.769212Z",
          "shell.execute_reply.started": "2024-05-10T19:15:41.443428Z"
        },
        "id": "WLSZM5xeHKoY",
        "outputId": "2f7ed7b0-67ec-4683-8383-ec7b543e531a",
        "trusted": true
      },
      "outputs": [
        {
          "name": "stderr",
          "output_type": "stream",
          "text": [
            "100%|██████████| 157/157 [00:00<00:00, 202.77batch/s]"
          ]
        },
        {
          "name": "stdout",
          "output_type": "stream",
          "text": [
            "\n",
            "Test Accuracy: 0.983\n"
          ]
        },
        {
          "name": "stderr",
          "output_type": "stream",
          "text": [
            "\n"
          ]
        }
      ],
      "source": [
        "mnist_classification_model.eval()\n",
        "\n",
        "all_predicted = []\n",
        "all_labels = []\n",
        "\n",
        "with tqdm(mnist_test_loader, unit=\"batch\") as tepoch:\n",
        "  for imgs, labels in tepoch:\n",
        "    all_labels.extend(labels.tolist())\n",
        "\n",
        "    imgs = imgs.to(device)\n",
        "    predict=mnist_classification_model(imgs)\n",
        "    all_predicted.extend(vector_to_class(predict).tolist())\n",
        "\n",
        "test_accuracy = cnn_accuracy(np.array(all_predicted),np.array(all_labels))\n",
        "\n",
        "print(\"\\nTest Accuracy:\", test_accuracy)"
      ]
    },
    {
      "cell_type": "markdown",
      "metadata": {
        "id": "5KdS_hrH-Gp_"
      },
      "source": [
        "0.983 will be our upper bound for the generative score. Let's code the __generative score__ as described above:"
      ]
    },
    {
      "cell_type": "code",
      "execution_count": 105,
      "metadata": {
        "execution": {
          "iopub.execute_input": "2024-05-10T19:45:07.970215Z",
          "iopub.status.busy": "2024-05-10T19:45:07.969516Z",
          "iopub.status.idle": "2024-05-10T19:45:07.975098Z",
          "shell.execute_reply": "2024-05-10T19:45:07.974128Z",
          "shell.execute_reply.started": "2024-05-10T19:45:07.970181Z"
        },
        "id": "livYeWrrH9of",
        "trusted": true
      },
      "outputs": [],
      "source": [
        "def generative_model_score(imgs_in,classification_model):\n",
        "  gen_score = torch.mean(torch.max(F.softmax(classification_model(imgs_in),dim=1),axis=1)[0])\n",
        "  return(gen_score)"
      ]
    },
    {
      "cell_type": "markdown",
      "metadata": {
        "id": "MjglYMX3H9og"
      },
      "source": [
        "Now, generate some images with and without the NCP prior, and evaluate these models (there still is some variability in the score even with 2000 images, don't hesitate to rerun the cell several times):"
      ]
    },
    {
      "cell_type": "code",
      "execution_count": 106,
      "metadata": {
        "colab": {
          "base_uri": "https://localhost:8080/"
        },
        "execution": {
          "iopub.execute_input": "2024-05-10T19:45:22.071263Z",
          "iopub.status.busy": "2024-05-10T19:45:22.070514Z",
          "iopub.status.idle": "2024-05-10T19:45:22.136975Z",
          "shell.execute_reply": "2024-05-10T19:45:22.136104Z",
          "shell.execute_reply.started": "2024-05-10T19:45:22.071232Z"
        },
        "id": "NNVM88woH9oh",
        "outputId": "e78ae8bc-ba72-479c-9338-7096cb718435",
        "trusted": true
      },
      "outputs": [
        {
          "name": "stdout",
          "output_type": "stream",
          "text": [
            "Upper bound: 0.983\n",
            "Score without NCP: 0.9278072714805603\n",
            "Score with NCP: 0.976379930973053\n"
          ]
        }
      ],
      "source": [
        "ae_maskgit.steps = 20\n",
        "imgs_model_NCP = generate_images_aemaskgit(vqvae_model, ae_maskgit, n_images=2000, r=r_model)\n",
        "imgs_model = generate_images_aemaskgit(vqvae_model, ae_maskgit, n_images=2000, r=None)\n",
        "ae_maskgit.steps = decoding_steps\n",
        "\n",
        "model_score_NCP = float(generative_model_score(imgs_model_NCP,mnist_classification_model))\n",
        "model_score = float(generative_model_score(imgs_model,mnist_classification_model))\n",
        "\n",
        "print('Upper bound: {}'.format(0.983))\n",
        "print('Score without NCP: {}'.format(model_score))\n",
        "print('Score with NCP: {}'.format(model_score_NCP))"
      ]
    },
    {
      "cell_type": "markdown",
      "metadata": {
        "id": "-fr6vOzv_pfh"
      },
      "source": [
        "The score of the model with NCP is pretty good (around 0.975-0.98). The goal for this lab was not to train the best possible model (as decent results can be achieved with simpler models), but rather to learn a range of techniques while training a decent model."
      ]
    },
    {
      "cell_type": "markdown",
      "metadata": {
        "id": "1uiSzJpaAlVC"
      },
      "source": [
        "__ps.__ Can you think of an __issue__ with the metric we used as a __generative score__, which would actually be more of an __issue for evaluating GAN models__?"
      ]
    },
    {
      "cell_type": "markdown",
      "metadata": {},
      "source": [
        "**Answer**:\n",
        "\n",
        "The generative score measures how good the generated images are based on the model we use to compute the logits. However, this assumes the model we use is good, and does not confidently classify images which are not good; it also does not take into account diversity (if the generated images are all good looking 1s, the score is high, though we may not be satisfied with the result)."
      ]
    },
    {
      "cell_type": "markdown",
      "metadata": {
        "id": "gyIB4jnzoL48"
      },
      "source": [
        "# References\n",
        "\n",
        "Part of this notebook was adapted from Michael Alcorn's (airalcorn2's) VQ-VAE pytorch implementation under the following [Apache-2.0 license](https://github.com/airalcorn2/vqvae-pytorch/tree/master?tab=Apache-2.0-1-ov-file#readme). Another part was loosely adapted from valeo.ai's MaskGIT implementation under the following [MIT license](https://github.com/valeoai/Maskgit-pytorch/tree/main)."
      ]
    }
  ],
  "metadata": {
    "colab": {
      "provenance": []
    },
    "kernelspec": {
      "display_name": "RecVis",
      "language": "python",
      "name": "python3"
    },
    "language_info": {
      "codemirror_mode": {
        "name": "ipython",
        "version": 3
      },
      "file_extension": ".py",
      "mimetype": "text/x-python",
      "name": "python",
      "nbconvert_exporter": "python",
      "pygments_lexer": "ipython3",
      "version": "3.11.9"
    }
  },
  "nbformat": 4,
  "nbformat_minor": 0
}
