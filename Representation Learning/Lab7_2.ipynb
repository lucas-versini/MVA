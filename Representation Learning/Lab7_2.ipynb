{
  "cells": [
    {
      "cell_type": "markdown",
      "metadata": {
        "id": "V016SrEOmWqN"
      },
      "source": [
        "# Lab: VAE - Image Reconstruction, Generation and Disentanglement in Pytorch\n",
        "\n",
        "**Student: Lucas Versini**\n",
        "\n",
        "For any remark or suggestion on this lab, please feel free to contact me at:\n",
        "\n",
        "- loic.lefolgoc@telecom-paris.fr\n",
        "\n",
        "### Objective:\n",
        "\n",
        "We are going to train a Variational Auto-Encoder (VAE), and compare different VAE models in terms of image generation, reconstruction and disentanglement. We will focus on the $\\beta$-VAE for this lab. We will work on a synthetic dataset: dSprites https://github.com/google-deepmind/dsprites-dataset.\n",
        "\n",
        "The lab will be implemented using the Pytorch environment : https://pytorch.org/.\n",
        "    \n",
        "### Your task:\n",
        "You need to add the missing parts in the code (generally marked by `...`) and answer several questions."
      ]
    },
    {
      "cell_type": "markdown",
      "metadata": {
        "id": "svVJfXqgmdSM"
      },
      "source": [
        "# Load packages"
      ]
    },
    {
      "cell_type": "code",
      "execution_count": 1,
      "metadata": {
        "id": "6amQFZQeB9pb"
      },
      "outputs": [],
      "source": [
        "%matplotlib inline\n",
        "import matplotlib.pyplot as plt\n",
        "import numpy as np\n",
        "\n",
        "import copy\n",
        "import os\n",
        "import subprocess\n",
        "\n",
        "import torch\n",
        "import torch.nn as nn\n",
        "import torch.nn.functional as F\n",
        "import torch.optim as optim\n",
        "import torchvision.transforms as transforms"
      ]
    },
    {
      "cell_type": "code",
      "execution_count": 2,
      "metadata": {
        "id": "kMoUQDn19rdV"
      },
      "outputs": [],
      "source": [
        "import sklearn.preprocessing, sklearn.metrics"
      ]
    },
    {
      "cell_type": "code",
      "execution_count": 3,
      "metadata": {
        "id": "kl_yFhz0COlD"
      },
      "outputs": [],
      "source": [
        "from tqdm import tqdm"
      ]
    },
    {
      "cell_type": "markdown",
      "metadata": {
        "id": "BRMnJ1SUofr-"
      },
      "source": [
        "# Load the dataset: dSprites\n",
        "\n",
        "We are going to train a VAE on a synthetic image dataset : dSprites. To quote the dataset description: dSprites is a dataset of 2D shapes procedurally generated from 6 ground truth independent latent factors. These factors are color, shape, scale, rotation, x and y positions of a sprite.\n",
        "\n",
        "All possible combinations of these latents are present exactly once, generating N = 737280 total images.\n",
        "\n",
        "Latent factor values:\n",
        "*   Color: white\n",
        "*   Shape: square, ellipse, heart\n",
        "*   Scale: 6 values linearly spaced in [0.5, 1]\n",
        "*   Orientation: 40 values in [0, 2 pi]\n",
        "*   Position X: 32 values in [0, 1]\n",
        "*   Position Y: 32 values in [0, 1]\n",
        "\n",
        "The shapes are represented as 64x64 binary images."
      ]
    },
    {
      "cell_type": "code",
      "execution_count": 4,
      "metadata": {
        "id": "Wtl7SjgoCSsI"
      },
      "outputs": [],
      "source": [
        "class DSprites(torch.utils.data.Dataset):\n",
        "    \"\"\"DSprites Dataset from [1].\n",
        "\n",
        "    Disentanglement test Sprites dataset.Procedurally generated 2D shapes, from 6\n",
        "    disentangled latent factors. This dataset uses 6 latents, controlling the color,\n",
        "    shape, scale, rotation and position of a sprite. All possible variations of\n",
        "    the latents are present. Ordering along dimension 1 is fixed and can be mapped\n",
        "    back to the exact latent values that generated that image.\n",
        "\n",
        "    Notes\n",
        "    -----\n",
        "    - Link : https://github.com/deepmind/dsprites-dataset/\n",
        "    - hard coded metadata because issue with python 3 loading of python 2\n",
        "\n",
        "    Parameters\n",
        "    ----------\n",
        "    root : string\n",
        "        Root directory of dataset.\n",
        "\n",
        "    References\n",
        "    ----------\n",
        "    [1] Higgins, I., Matthey, L., Pal, A., Burgess, C., Glorot, X., Botvinick,\n",
        "        M., ... & Lerchner, A. (2017). beta-vae: Learning basic visual concepts\n",
        "        with a constrained variational framework. In International Conference\n",
        "        on Learning Representations.\n",
        "\n",
        "    \"\"\"\n",
        "    urls = {\n",
        "        \"train\":\n",
        "        \"https://github.com/deepmind/dsprites-dataset/blob/master/dsprites_ndarray_co1sh3sc6or40x32y32_64x64.npz?raw=true\"\n",
        "    }\n",
        "    files = {\"train\": \"dsprite_train.npz\"}\n",
        "    lat_names = ('color', 'shape', 'scale', 'orientation', 'posX', 'posY')\n",
        "    lat_sizes = np.array([1, 3, 6, 40, 32, 32])\n",
        "    img_size = (1, 64, 64)\n",
        "    background_color = 0\n",
        "    lat_values = {\n",
        "        'posX':\n",
        "        np.array([\n",
        "            0., 0.03225806, 0.06451613, 0.09677419, 0.12903226, 0.16129032,\n",
        "            0.19354839, 0.22580645, 0.25806452, 0.29032258, 0.32258065,\n",
        "            0.35483871, 0.38709677, 0.41935484, 0.4516129, 0.48387097,\n",
        "            0.51612903, 0.5483871, 0.58064516, 0.61290323, 0.64516129,\n",
        "            0.67741935, 0.70967742, 0.74193548, 0.77419355, 0.80645161,\n",
        "            0.83870968, 0.87096774, 0.90322581, 0.93548387, 0.96774194, 1.\n",
        "        ]),\n",
        "        'posY':\n",
        "        np.array([\n",
        "            0., 0.03225806, 0.06451613, 0.09677419, 0.12903226, 0.16129032,\n",
        "            0.19354839, 0.22580645, 0.25806452, 0.29032258, 0.32258065,\n",
        "            0.35483871, 0.38709677, 0.41935484, 0.4516129, 0.48387097,\n",
        "            0.51612903, 0.5483871, 0.58064516, 0.61290323, 0.64516129,\n",
        "            0.67741935, 0.70967742, 0.74193548, 0.77419355, 0.80645161,\n",
        "            0.83870968, 0.87096774, 0.90322581, 0.93548387, 0.96774194, 1.\n",
        "        ]),\n",
        "        'scale':\n",
        "        np.array([0.5, 0.6, 0.7, 0.8, 0.9, 1.]),\n",
        "        'orientation':\n",
        "        np.array([\n",
        "            0., 0.16110732, 0.32221463, 0.48332195, 0.64442926, 0.80553658,\n",
        "            0.96664389, 1.12775121, 1.28885852, 1.44996584, 1.61107316,\n",
        "            1.77218047, 1.93328779, 2.0943951, 2.25550242, 2.41660973,\n",
        "            2.57771705, 2.73882436, 2.89993168, 3.061039, 3.22214631,\n",
        "            3.38325363, 3.54436094, 3.70546826, 3.86657557, 4.02768289,\n",
        "            4.1887902, 4.34989752, 4.51100484, 4.67211215, 4.83321947,\n",
        "            4.99432678, 5.1554341, 5.31654141, 5.47764873, 5.63875604,\n",
        "            5.79986336, 5.96097068, 6.12207799, 6.28318531\n",
        "        ]),\n",
        "        'shape':\n",
        "        np.array([1., 2., 3.]),\n",
        "        'color':\n",
        "        np.array([1.])\n",
        "    }\n",
        "\n",
        "    def __init__(self, root='data/dsprites/', factors_to_use=['shape', 'scale', 'orientation', 'posX', 'posY'], subset=1, **kwargs):\n",
        "        super().__init__()\n",
        "\n",
        "        self.root = root\n",
        "        self.train_data = os.path.join(root, type(self).files[\"train\"])\n",
        "        self.transforms = transforms.ToTensor()\n",
        "        self.subset = subset\n",
        "\n",
        "        if not os.path.isdir(root):\n",
        "          self.download()\n",
        "\n",
        "        dataset_zip = np.load(self.train_data)\n",
        "        self.imgs = dataset_zip['imgs']\n",
        "        self.lat_values = dataset_zip['latents_values']\n",
        "        self.lat_values = sklearn.preprocessing.minmax_scale(self.lat_values)\n",
        "        self.factors_to_use = factors_to_use\n",
        "        indices = []\n",
        "        for x in self.factors_to_use:\n",
        "            indices.append(np.where(np.array(self.lat_names)==x)[0][0])\n",
        "        self.lat_values = self.lat_values[:, indices]\n",
        "        self.lat_sizes = self.lat_sizes[indices]\n",
        "        self.lat_names = factors_to_use\n",
        "\n",
        "        if self.subset < 1:\n",
        "            n_samples = int(len(self.imgs) * self.subset)\n",
        "            subset = np.random.choice(len(self.imgs), n_samples, replace=False)\n",
        "            self.imgs = self.imgs[subset]\n",
        "            self.lat_values = self.lat_values[subset]\n",
        "\n",
        "    def download(self):\n",
        "        \"\"\"Download the dataset.\"\"\"\n",
        "        os.makedirs(self.root)\n",
        "        subprocess.check_call([\n",
        "            \"curl\", \"-L\",\n",
        "            type(self).urls[\"train\"], \"--output\", self.train_data\n",
        "        ])\n",
        "\n",
        "    def __len__(self):\n",
        "        return len(self.imgs)\n",
        "\n",
        "    def __getitem__(self, idx):\n",
        "        \"\"\"Get the image of `idx`\n",
        "        Return\n",
        "        ------\n",
        "        sample : torch.Tensor\n",
        "            Tensor in [0.,1.] of shape `img_size`.\n",
        "\n",
        "        lat_value : np.array\n",
        "            Array of length len(self.factors_to_use), that gives the value of each factor of variation that is included in self.factors_to_use.\n",
        "        \"\"\"\n",
        "        # stored image have binary and shape (H x W) so multiply by 255 to get pixel\n",
        "        # values + add dimension\n",
        "        sample = np.expand_dims(self.imgs[idx] * 255, axis=-1)\n",
        "\n",
        "        # ToTensor transforms numpy.ndarray (H x W x C) in the range\n",
        "        # [0, 255] to a torch.FloatTensor of shape (C x H x W) in the range [0.0, 1.0]\n",
        "        return self.transforms(sample), self.lat_values[idx]"
      ]
    },
    {
      "cell_type": "markdown",
      "metadata": {
        "id": "DI28k4efpq55"
      },
      "source": [
        "We are going to use a fraction of the total dataset (by default, 75%) as the training dataset. If you are running this notebook on colab with CPU only, you may want to lower the fraction (you can set it as low as 0.01). The results for your trained VAE will be of lower quality, but the training will be done faster.\n",
        "<br>Moreover, it will not really matter as we will provide/load models already trained for the second part of the lab."
      ]
    },
    {
      "cell_type": "code",
      "execution_count": 5,
      "metadata": {
        "id": "MKvhJQ7THoFj"
      },
      "outputs": [],
      "source": [
        "train_dataset = DSprites(subset=0.75)"
      ]
    },
    {
      "cell_type": "markdown",
      "metadata": {
        "id": "_FN2KY52rsQm"
      },
      "source": [
        "We are going to use another fraction of the total dataset as test data. For correctness, the test data points should be guaranteed not to belong to the training set, but it is not necessarily the case with the line of code below. It is done for simplicity and has no impact on the results."
      ]
    },
    {
      "cell_type": "code",
      "execution_count": 6,
      "metadata": {
        "id": "acnbcEesTNN_"
      },
      "outputs": [],
      "source": [
        "test_dataset = DSprites(subset=0.015)"
      ]
    },
    {
      "cell_type": "markdown",
      "metadata": {
        "id": "z7LQLdejsOd1"
      },
      "source": [
        "Let's visualize a few of the training images. There are three possible shapes (oval, heart, square), coming in a variety of sizes, positions and orientations:"
      ]
    },
    {
      "cell_type": "code",
      "execution_count": 7,
      "metadata": {
        "colab": {
          "base_uri": "https://localhost:8080/",
          "height": 527
        },
        "id": "2i5XpMyPIYNh",
        "outputId": "2c47cef9-e268-4402-ec17-6a4461a86f0f"
      },
      "outputs": [
        {
          "data": {
            "image/png": "[encoded data removed]",
            "text/plain": [
              "<Figure size 1200x600 with 15 Axes>"
            ]
          },
          "metadata": {},
          "output_type": "display_data"
        }
      ],
      "source": [
        "plt.figure(figsize=(12, 6))\n",
        "for idx in range(0,15):\n",
        "    plt.subplot(3, 5, idx+1)\n",
        "    rand_ind = np.random.randint(0,train_dataset.imgs.shape[0])\n",
        "    plt.imshow(train_dataset.imgs[rand_ind,:,:], cmap='gray')"
      ]
    },
    {
      "cell_type": "markdown",
      "metadata": {
        "id": "2qZQrWG5slsk"
      },
      "source": [
        "# Building the VAE backbone\n",
        "\n",
        "VAEs are probabilistic models, whose expressivity depends on a choice of backbone. Here we opt for a simple CNN that we are going to build step-by-step. First the encoder (inference network), then the decoder (the generative model), then the complete variational auto-encoder."
      ]
    },
    {
      "cell_type": "markdown",
      "metadata": {
        "id": "oQx-A4TztspE"
      },
      "source": [
        "Let's start with the `Encoder`, which maps a 64x64 image $x_n$ to a Gaussian distribution $q(z|x_n)\\triangleq \\mathcal{N}(z| \\mu_n, \\Sigma_n)$ parametrized by a mean $\\mu_n\\in \\mathbb{R}^D$ and a diagonal covariance $\\Sigma_n\\triangleq \\text{diag}(\\sigma_n^{(1)2},\\dots, \\sigma_n^{(D)2})$. The encoder predicts the $\\mu_n^{(j)}$ and $\\log{\\sigma_n^{(j)2}}$ *i.e.*, $D\\times 2$ values.\n",
        "\n"
      ]
    },
    {
      "cell_type": "markdown",
      "metadata": {
        "id": "nDg0xq21wOuZ"
      },
      "source": [
        "The `Encoder` consists of 4 `nn.Conv2d` layers with 32 output feature maps, 4x4 kernels, stride 2 and padding 1. This is followed by two linear layers. The first layer outputs 256 neurons. The second layer outputs Dx2 values.\n",
        "\n",
        "*Hint for coding the first linear layer: The feature maps output by the last convolutional layer have spatial dimension 4x4.*\n",
        "\n",
        "Between each layer (convolutional or linear), ReLu non-linearities are used. No non-linearity is used after the last linear layer as mean values and log-variances can be positive or negative."
      ]
    },
    {
      "cell_type": "code",
      "execution_count": 8,
      "metadata": {
        "id": "0e7-Y4aFuT9q"
      },
      "outputs": [],
      "source": [
        "class Encoder(nn.Module):\n",
        "\n",
        "    def __init__(self, latent_dim = 10):\n",
        "        r\"\"\"\n",
        "        Encoder of the model proposed in [1].\n",
        "        Expects images of size (1, 64, 64) as input\n",
        "\n",
        "        Parameters\n",
        "        ----------\n",
        "        latent_dim : int\n",
        "            Dimensionality of latent output.\n",
        "\n",
        "        References:\n",
        "            [1] Burgess, Christopher P., et al. \"Understanding disentangling in\n",
        "            $\\beta$-VAE.\" arXiv preprint arXiv:1804.03599 (2018).\n",
        "        \"\"\"\n",
        "        super(Encoder, self).__init__()\n",
        "\n",
        "        # Layer parameters\n",
        "        self.latent_dim = latent_dim\n",
        "\n",
        "        # Shape required to start transpose convs\n",
        "        self.reshape = (32, 4, 4)\n",
        "\n",
        "        # Convolutional layers\n",
        "        kernel_size = 4\n",
        "        stride = 2\n",
        "        padding = 1\n",
        "\n",
        "        self.conv1 = nn.Conv2d(1, 32, kernel_size, stride, padding)\n",
        "        self.conv2 = nn.Conv2d(32, 32, kernel_size, stride, padding)\n",
        "        self.conv3 = nn.Conv2d(32, 32, kernel_size, stride, padding)\n",
        "        self.conv4 = nn.Conv2d(32, 32, kernel_size, stride, padding)\n",
        "\n",
        "        # Fully connected layers\n",
        "        self.lin1 = nn.Linear(32 * 4 * 4, 256)\n",
        "        self.lin2 = nn.Linear(256, 2 * latent_dim)\n",
        "\n",
        "    def forward(self, x):\n",
        "        '''\n",
        "        Pass the input image mini-batch through conv, linear layers and\n",
        "        non-linearities to output a (B,D,2) tensor where B is the mini-batch\n",
        "        size and D the latent dimension.\n",
        "        '''\n",
        "        batch_size = x.size(0)\n",
        "\n",
        "        # Convolutional layers with ReLu activations\n",
        "        x = F.relu(self.conv1(x))\n",
        "        x = F.relu(self.conv2(x))\n",
        "        x = F.relu(self.conv3(x))\n",
        "        x = F.relu(self.conv4(x))\n",
        "\n",
        "        # Fully connected layer with ReLu activation\n",
        "        x = x.view(batch_size, -1)\n",
        "        x = F.relu(self.lin1(x))\n",
        "\n",
        "        # Fully connected layer for log variance and mean\n",
        "        x = self.lin2(x)\n",
        "\n",
        "        # The shape of the output tensor should be BxDx2, where B is the batch\n",
        "        # size, and D the latent dimension.\n",
        "        return x.view(batch_size, self.latent_dim, 2)"
      ]
    },
    {
      "cell_type": "markdown",
      "metadata": {
        "id": "8g8yetAyzEGK"
      },
      "source": [
        "Next, we turn to the `Decoder`. The `Decoder` is roughly the symmetric of the `Encoder`. It takes a latent code $z\\in \\mathbb{R}^D$ as input and outputs a 64x64 image that tells us, for each pixel, the probability that this pixel takes value 1 (rather than 0)."
      ]
    },
    {
      "cell_type": "markdown",
      "metadata": {
        "id": "4VjjOs8u0BY1"
      },
      "source": [
        "The `Decoder` consists of 2 linear layers, followed by 4 transposed convolution (`nn.ConvTranspose2d`) layers, with ReLu non-linearities in between each layer (linear or conv-transpose). The last conv-transpose layer is followed by a sigmoid non-linearity, as it must predict probabilities.\n",
        "\n",
        "The first linear layer outputs 256 neurons.\n",
        "\n",
        "The input feature maps for the first conv-transpose layer have shape 32x4x4.\n",
        "\n",
        "The conv-transpose layers use 4x4 kernels, stride 2, padding 1, and output 32 feature maps, except the last one, which outputs a single probability map."
      ]
    },
    {
      "cell_type": "code",
      "execution_count": 9,
      "metadata": {
        "id": "Nw1I0fnouF6e"
      },
      "outputs": [],
      "source": [
        "class Decoder(nn.Module):\n",
        "\n",
        "    def __init__(self, latent_dim=10):\n",
        "        r\"\"\"\n",
        "        Decoder of the model proposed in [1].\n",
        "        Provides images of size (1, 64, 64) as output.\n",
        "\n",
        "\n",
        "        Parameters\n",
        "        ----------\n",
        "        latent_dim : int\n",
        "            Dimensionality of latent output.\n",
        "\n",
        "        Model Architecture (transposed for decoder)\n",
        "        ------------\n",
        "        - 4 convolutional layers (each with 32 channels), (4 x 4 kernel), (stride of 2)\n",
        "        - 1 fully connected layer (256 units)\n",
        "        - Latent distribution:\n",
        "            - 1 fully connected layer of 20 units (log variance and mean for 10 Gaussians)\n",
        "\n",
        "        References:\n",
        "            [1] Burgess, Christopher P., et al. \"Understanding disentangling in\n",
        "            $\\beta$-VAE.\" arXiv preprint arXiv:1804.03599 (2018).\n",
        "        \"\"\"\n",
        "        super(Decoder, self).__init__()\n",
        "\n",
        "        # Shape required to start transpose convs\n",
        "        self.reshape = (32, 4, 4)\n",
        "\n",
        "        # Fully connected layers\n",
        "        self.lin1 = nn.Linear(latent_dim, 256)\n",
        "        self.lin2 = nn.Linear(256, 32 * 4 * 4)\n",
        "\n",
        "        # Convolutional layers\n",
        "        kernel_size = 4\n",
        "        stride = 2\n",
        "        padding = 1\n",
        "\n",
        "        self.convT1 = nn.ConvTranspose2d(32, 32, kernel_size, stride, padding)\n",
        "        self.convT2 = nn.ConvTranspose2d(32, 32, kernel_size, stride, padding)\n",
        "        self.convT3 = nn.ConvTranspose2d(32, 32, kernel_size, stride, padding)\n",
        "        self.convT4 = nn.ConvTranspose2d(32, 1, kernel_size, stride, padding)\n",
        "\n",
        "    def forward(self, z):\n",
        "        batch_size = z.size(0)\n",
        "\n",
        "        # Fully connected layers with ReLu activations\n",
        "        x = F.relu(self.lin1(z))\n",
        "        x = F.relu(self.lin2(x))\n",
        "\n",
        "        # Reshape\n",
        "        x = x.view(batch_size, *self.reshape)\n",
        "\n",
        "        # Convolutional layers with ReLu activations\n",
        "        x = F.relu(self.convT1(x))\n",
        "        x = F.relu(self.convT2(x))\n",
        "        x = F.relu(self.convT3(x))\n",
        "\n",
        "        # Final conv layer with sigmoid activation\n",
        "        x = torch.sigmoid(self.convT4(x))\n",
        "\n",
        "        return x"
      ]
    },
    {
      "cell_type": "markdown",
      "metadata": {
        "id": "xz2LzN-d1_81"
      },
      "source": [
        "The last building block is the `VAEModel`, which is a wrapper for the encoder-decoder architecture.\n",
        "\n",
        "The `forward` takes images `x` as input and performs image reconstruction (auto-encoding). To do so, it maps the images to a distribution in latent space (encoding), samples latent codes according to these distributions (reparametrization trick), then decodes the samples back to image space (decoding/reconstruction). It outputs a dictionary, with keys `stats_qzx` (the mean/log-var values in latent space), `samples_qzx` (the samples $z_n\\sim q(z|x_n)$), and `reconstructions` (probability maps).\n",
        "\n",
        "Other routines are implemented. `sample_pz` and `generate_samples` are used for image generation. `sample_pz` samples latent codes from the prior $\\mathcal{N}(0,I_D)$ and `generate_samples` decodes such samples."
      ]
    },
    {
      "cell_type": "code",
      "execution_count": 10,
      "metadata": {
        "id": "aXJDtmOVKvbB"
      },
      "outputs": [],
      "source": [
        "class VAEModel(nn.Module):\n",
        "    def __init__(self, latent_dim):\n",
        "        \"\"\"\n",
        "        Class which defines model and forward pass.\n",
        "\n",
        "        Parameters\n",
        "        ----------\n",
        "        latent_dim : int\n",
        "            Dimensionality of latent code.\n",
        "        \"\"\"\n",
        "        super(VAEModel, self).__init__()\n",
        "\n",
        "        self.latent_dim = latent_dim\n",
        "        self.encoder = Encoder(latent_dim)\n",
        "        self.decoder = Decoder(latent_dim)\n",
        "\n",
        "    def reparameterize(self, mean, logvar, mode='sample'):\n",
        "        \"\"\"\n",
        "        Samples from a normal distribution using the reparameterization trick.\n",
        "\n",
        "        Parameters\n",
        "        ----------\n",
        "        mean : torch.Tensor\n",
        "            Mean of the normal distribution. Shape (batch_size, latent_dim)\n",
        "\n",
        "        logvar : torch.Tensor\n",
        "            Diagonal log variance of the normal distribution. Shape (batch_size,\n",
        "            latent_dim)\n",
        "\n",
        "        mode : 'sample' or 'mean'\n",
        "            Returns either a sample from qzx or the mean of qzx. The former is\n",
        "            useful at training time. The latter is useful at inference time as\n",
        "            the mean is usually used for reconstruction, rather than a sample.\n",
        "        \"\"\"\n",
        "        if mode=='sample':\n",
        "            # Implements the reparametrization trick (slide 43):\n",
        "            std = torch.exp(0.5 * logvar)\n",
        "            eps = torch.randn_like(std)\n",
        "            return mean + eps * std\n",
        "        elif mode=='mean':\n",
        "            return mean\n",
        "        else:\n",
        "            return ValueError(\"Unknown mode: {mode}\".format(mode))\n",
        "\n",
        "    def forward(self, x, mode='sample'):\n",
        "        \"\"\"\n",
        "        Forward pass of model, used for training or reconstruction.\n",
        "\n",
        "        Parameters\n",
        "        ----------\n",
        "        x : torch.Tensor\n",
        "            Batch of data. Shape (batch_size, n_chan, height, width)\n",
        "\n",
        "        mode : 'sample' or 'mean'\n",
        "            Reconstructs from either a sample from qzx or the mean of qzx\n",
        "        \"\"\"\n",
        "\n",
        "        # stats_qzx is the output of the encoder\n",
        "        stats_qzx = self.encoder(x)\n",
        "\n",
        "        # Use the reparametrization trick to sample from q(z|x)\n",
        "        samples_qzx = self.reparameterize(*stats_qzx.unbind(-1), mode=mode)\n",
        "\n",
        "        # Decode the samples to image space\n",
        "        reconstructions = self.decoder(samples_qzx)\n",
        "\n",
        "        # Return everything:\n",
        "        return {\n",
        "            'reconstructions': reconstructions,\n",
        "            'stats_qzx': stats_qzx,\n",
        "            'samples_qzx': samples_qzx}\n",
        "\n",
        "    def sample_qzx(self, x):\n",
        "        \"\"\"\n",
        "        Returns a sample z from the latent distribution q(z|x).\n",
        "\n",
        "        Parameters\n",
        "        ----------\n",
        "        x : torch.Tensor\n",
        "            Batch of data. Shape (batch_size, n_chan, height, width)\n",
        "        \"\"\"\n",
        "        stats_qzx = self.encoder(x)\n",
        "        samples_qzx = self.reparameterize(*stats_qzx.unbind(-1))\n",
        "        return samples_qzx\n",
        "\n",
        "    def sample_pz(self, N):\n",
        "        samples_pz = torch.randn(N, self.latent_dim, device=self.encoder.conv1.weight.device)\n",
        "        return samples_pz\n",
        "\n",
        "    def generate_samples(self, samples_pz=None, N=None):\n",
        "        if samples_pz is None:\n",
        "            if N is None:\n",
        "                return ValueError(\"samples_pz and N cannot be set to None at the same time. Specify one of the two.\")\n",
        "\n",
        "            # If samples z are not provided, we sample N samples from the prior\n",
        "            # p(z)=N(0,Id), using sample_pz\n",
        "            samples_pz = self.sample_pz(N)\n",
        "\n",
        "        # Decode the z's to obtain samples in image space (here, probability\n",
        "        # maps which can later be sampled from or thresholded)\n",
        "        generations = self.decoder(samples_pz)\n",
        "        return {'generations': generations}"
      ]
    },
    {
      "cell_type": "markdown",
      "metadata": {
        "id": "KzxjU1JB7sgt"
      },
      "source": [
        "# Loss functions for the VAE\n",
        "\n",
        "The VAE relies on two losses: a reconstruction loss `reconstruction_loss` and a regularization term `kl_normal_loss` (KL divergence, here between $q(z|x_n)$ and $\\mathcal{N}(0,1)$). Together they give the formula on slide 45."
      ]
    },
    {
      "cell_type": "markdown",
      "metadata": {
        "id": "KIMjDF6M8_8R"
      },
      "source": [
        "The reconstruction loss translates a pixel-wise Bernoulli probabilistic model into a loss (`F.binary_cross_entropy`). It takes input images `data` and reconstructed probability maps `reconstructions` and computes the binary cross-entropy, from the two images."
      ]
    },
    {
      "cell_type": "code",
      "execution_count": 11,
      "metadata": {
        "id": "NEIg5eEW505M"
      },
      "outputs": [],
      "source": [
        "def reconstruction_loss(data, reconstructions):\n",
        "    \"\"\"\n",
        "    Calculates the per image reconstruction loss for a batch of data. I.e. negative\n",
        "    log likelihood.\n",
        "\n",
        "    Parameters\n",
        "    ----------\n",
        "    data : torch.Tensor\n",
        "        Input data (e.g. batch of images). Shape : (batch_size, 1,\n",
        "        height, width).\n",
        "\n",
        "    reconstructions : torch.Tensor\n",
        "        Reconstructed data. Shape : (batch_size, 1, height, width).\n",
        "\n",
        "    Returns\n",
        "    -------\n",
        "    loss : torch.Tensor\n",
        "        Cross entropy (i.e. averaged over images in the batch but summed over\n",
        "        pixel and channel)\n",
        "    \"\"\"\n",
        "    batch_size, n_chan, height, width = reconstructions.size()\n",
        "\n",
        "    # The pixel-wise loss is the binary cross-entropy, computed from\n",
        "    # reconstructions and data. It is summed over pixels and averaged across\n",
        "    # samples in the batch.\n",
        "    loss = F.binary_cross_entropy(reconstructions, data, reduction = 'sum') / batch_size\n",
        "\n",
        "    return loss"
      ]
    },
    {
      "cell_type": "markdown",
      "metadata": {
        "id": "MUsrzszm-Hnf"
      },
      "source": [
        "The KL divergence term is computed as per the regularization term in slide 45 i.e., for each data sample in the mini-batch:\n",
        "$$\\frac{1}{2}\\sum_{j=1}^D (\\mu_j^2 + \\sigma_j^2 - 1 - \\log{\\sigma_j^2})$$"
      ]
    },
    {
      "cell_type": "code",
      "execution_count": 12,
      "metadata": {
        "id": "-pc40PPM7adL"
      },
      "outputs": [],
      "source": [
        "def kl_normal_loss(mean, logvar, batch_mean=True, component_sum=True):\n",
        "    \"\"\"\n",
        "    Calculates the KL divergence between a normal distribution\n",
        "    with diagonal covariance and a unit normal distribution.\n",
        "\n",
        "    Parameters\n",
        "    ----------\n",
        "    mean : torch.Tensor\n",
        "        Mean of the normal distribution. Shape (batch_size, latent_dim) where\n",
        "        D is dimension of distribution.\n",
        "\n",
        "    logvar : torch.Tensor\n",
        "        Diagonal log variance of the normal distribution. Shape (batch_size,\n",
        "        latent_dim)\n",
        "\n",
        "    batch_mean: boolean\n",
        "        If false, returns a separate value for each data point, if true takes\n",
        "        the mean over data points\n",
        "\n",
        "    component_sum: boolean\n",
        "        If false, returns a separate value for each latent dimension, if true\n",
        "        takes the sum over latent dimensions\n",
        "    \"\"\"\n",
        "    # kl for each latent dimension and each q(z|x_n) for n in the batch i.e.,\n",
        "    # the summand of the above equation for each data sample\n",
        "    # Tensor of size (B, D) where B is the batch size and D the latent dim.\n",
        "    latent_kl = 0.5 * (mean**2 + torch.exp(logvar) - 1 - logvar)\n",
        "\n",
        "    if batch_mean:\n",
        "        latent_kl = latent_kl.mean(dim=0)\n",
        "\n",
        "    if component_sum:\n",
        "        latent_kl = latent_kl.sum(dim=-1)\n",
        "\n",
        "    return latent_kl"
      ]
    },
    {
      "cell_type": "markdown",
      "metadata": {
        "id": "WhJbXJ0y_8OI"
      },
      "source": [
        "The `BetaVAELoss` puts it all together as per slide 55."
      ]
    },
    {
      "cell_type": "code",
      "execution_count": 13,
      "metadata": {
        "id": "x_hr2EwiCRSv"
      },
      "outputs": [],
      "source": [
        "class BetaVAELoss(object):\n",
        "    \"\"\"\n",
        "    Compute the Beta-VAE loss as in [1]\n",
        "\n",
        "    Parameters\n",
        "    ----------\n",
        "    beta: (scalar) the weight assigned to the regularization term\n",
        "\n",
        "    References\n",
        "    ----------\n",
        "        [1] Burgess, Christopher P., et al. \"Understanding disentangling in\n",
        "        $\\beta$-VAE.\" arXiv preprint arXiv:1804.03599 (2018).\n",
        "    \"\"\"\n",
        "\n",
        "    def __init__(self, beta):\n",
        "        self.beta = beta\n",
        "\n",
        "    def __call__(self, data, reconstructions, stats_qzx):\n",
        "        stats_qzx = stats_qzx.unbind(-1)\n",
        "\n",
        "        # Reconstruction loss\n",
        "        rec_loss = reconstruction_loss(data, reconstructions)\n",
        "\n",
        "        # KL loss\n",
        "        kl_loss = kl_normal_loss(*stats_qzx)\n",
        "\n",
        "        # Total loss of beta-VAE\n",
        "        loss = rec_loss + self.beta * kl_loss\n",
        "\n",
        "        return loss"
      ]
    },
    {
      "cell_type": "markdown",
      "metadata": {
        "id": "Egfz04srAbDh"
      },
      "source": [
        "# Training the VAE model\n",
        "\n",
        "Everything is in place to train our VAE model on the dSprites training data. We use a latent space of dimension 10. We use the `BetaVAELoss`.\n",
        "\n",
        "You can train on CPU or GPU. The code makes sure that the model and data are automatically ported on GPU if it is available, otherwise the CPU will be used. Training on CPU is roughly 10-20x slower here."
      ]
    },
    {
      "cell_type": "code",
      "execution_count": 14,
      "metadata": {
        "id": "bOdRTeDAMJCO"
      },
      "outputs": [],
      "source": [
        "D = 10\n",
        "\n",
        "learning_rate = 1e-3\n",
        "batch_size = 64\n",
        "\n",
        "n_epoch = 10"
      ]
    },
    {
      "cell_type": "code",
      "execution_count": 15,
      "metadata": {
        "id": "xGN3jpxqOOwg"
      },
      "outputs": [
        {
          "name": "stdout",
          "output_type": "stream",
          "text": [
            "cuda:0\n"
          ]
        }
      ],
      "source": [
        "device = torch.device(\"cuda:0\" if torch.cuda.is_available() else \"cpu\")\n",
        "print(device)"
      ]
    },
    {
      "cell_type": "markdown",
      "metadata": {
        "id": "LIwqEY-1BDBC"
      },
      "source": [
        "Instantiate a VAE model (with random weights) and latent dimension `D`:"
      ]
    },
    {
      "cell_type": "code",
      "execution_count": 16,
      "metadata": {
        "id": "D5XnxIE1L1bI"
      },
      "outputs": [],
      "source": [
        "model = VAEModel(D)"
      ]
    },
    {
      "cell_type": "code",
      "execution_count": 17,
      "metadata": {
        "id": "deNFacaAOgBq"
      },
      "outputs": [],
      "source": [
        "model = model.to(device)"
      ]
    },
    {
      "cell_type": "markdown",
      "metadata": {
        "id": "y6b-HQynBZdd"
      },
      "source": [
        "We instantiate a data loader to use the training data, with mini-batch size given by `batch_size`."
      ]
    },
    {
      "cell_type": "code",
      "execution_count": 18,
      "metadata": {
        "id": "JERndNm5PV1X"
      },
      "outputs": [],
      "source": [
        "train_loader = torch.utils.data.DataLoader(train_dataset, batch_size = batch_size, shuffle = True)"
      ]
    },
    {
      "cell_type": "markdown",
      "metadata": {
        "id": "JU5QR5mNBrAG"
      },
      "source": [
        "Instantiate a `BetaVAELoss` object with value `beta=1.`:"
      ]
    },
    {
      "cell_type": "code",
      "execution_count": 19,
      "metadata": {
        "id": "fBVo5s-dQCBb"
      },
      "outputs": [],
      "source": [
        "vae_loss = BetaVAELoss(beta = 1.)"
      ]
    },
    {
      "cell_type": "markdown",
      "metadata": {
        "id": "y30cwm-JCKKF"
      },
      "source": [
        "We instantiate an optimizer `torch.optim.AdamW`, taking the `VAEModel` parameters as trainable parameters and with the `learning_rate` fixed above."
      ]
    },
    {
      "cell_type": "code",
      "execution_count": 20,
      "metadata": {
        "id": "GiqsBcP7KIT3"
      },
      "outputs": [],
      "source": [
        "optimizer = torch.optim.AdamW(model.parameters(), lr = learning_rate, weight_decay = 1e-4)"
      ]
    },
    {
      "cell_type": "markdown",
      "metadata": {
        "id": "rYXfYo_nCzdi"
      },
      "source": [
        "We can now start the training, putting it all together."
      ]
    },
    {
      "cell_type": "code",
      "execution_count": 21,
      "metadata": {
        "id": "gVYyIy7bQdyA"
      },
      "outputs": [
        {
          "name": "stderr",
          "output_type": "stream",
          "text": [
            "Epoch 0: 100%|██████████| 8640/8640 [00:56<00:00, 153.22batch/s, loss=90.5]\n"
          ]
        },
        {
          "name": "stdout",
          "output_type": "stream",
          "text": [
            "Epoch 0: Train Loss: 125.3454\n"
          ]
        },
        {
          "name": "stderr",
          "output_type": "stream",
          "text": [
            "Epoch 1: 100%|██████████| 8640/8640 [00:55<00:00, 156.95batch/s, loss=69.5]\n"
          ]
        },
        {
          "name": "stdout",
          "output_type": "stream",
          "text": [
            "Epoch 1: Train Loss: 74.5215\n"
          ]
        },
        {
          "name": "stderr",
          "output_type": "stream",
          "text": [
            "Epoch 2: 100%|██████████| 8640/8640 [00:54<00:00, 157.31batch/s, loss=59.4]\n"
          ]
        },
        {
          "name": "stdout",
          "output_type": "stream",
          "text": [
            "Epoch 2: Train Loss: 62.7863\n"
          ]
        },
        {
          "name": "stderr",
          "output_type": "stream",
          "text": [
            "Epoch 3: 100%|██████████| 8640/8640 [00:53<00:00, 162.37batch/s, loss=58.1]\n"
          ]
        },
        {
          "name": "stdout",
          "output_type": "stream",
          "text": [
            "Epoch 3: Train Loss: 57.5334\n"
          ]
        },
        {
          "name": "stderr",
          "output_type": "stream",
          "text": [
            "Epoch 4: 100%|██████████| 8640/8640 [00:53<00:00, 162.84batch/s, loss=49.4]\n"
          ]
        },
        {
          "name": "stdout",
          "output_type": "stream",
          "text": [
            "Epoch 4: Train Loss: 54.3927\n"
          ]
        },
        {
          "name": "stderr",
          "output_type": "stream",
          "text": [
            "Epoch 5: 100%|██████████| 8640/8640 [00:53<00:00, 160.99batch/s, loss=51]  \n"
          ]
        },
        {
          "name": "stdout",
          "output_type": "stream",
          "text": [
            "Epoch 5: Train Loss: 52.2442\n"
          ]
        },
        {
          "name": "stderr",
          "output_type": "stream",
          "text": [
            "Epoch 6: 100%|██████████| 8640/8640 [00:56<00:00, 153.47batch/s, loss=46.9]\n"
          ]
        },
        {
          "name": "stdout",
          "output_type": "stream",
          "text": [
            "Epoch 6: Train Loss: 50.5708\n"
          ]
        },
        {
          "name": "stderr",
          "output_type": "stream",
          "text": [
            "Epoch 7: 100%|██████████| 8640/8640 [00:55<00:00, 154.82batch/s, loss=47.5]\n"
          ]
        },
        {
          "name": "stdout",
          "output_type": "stream",
          "text": [
            "Epoch 7: Train Loss: 49.3008\n"
          ]
        },
        {
          "name": "stderr",
          "output_type": "stream",
          "text": [
            "Epoch 8: 100%|██████████| 8640/8640 [00:53<00:00, 160.39batch/s, loss=51.5]\n"
          ]
        },
        {
          "name": "stdout",
          "output_type": "stream",
          "text": [
            "Epoch 8: Train Loss: 48.2797\n"
          ]
        },
        {
          "name": "stderr",
          "output_type": "stream",
          "text": [
            "Epoch 9: 100%|██████████| 8640/8640 [00:55<00:00, 154.78batch/s, loss=46.9]"
          ]
        },
        {
          "name": "stdout",
          "output_type": "stream",
          "text": [
            "Epoch 9: Train Loss: 47.4287\n"
          ]
        },
        {
          "name": "stderr",
          "output_type": "stream",
          "text": [
            "\n"
          ]
        }
      ],
      "source": [
        "model.train()\n",
        "\n",
        "for epoch in range(0,n_epoch):\n",
        "  train_loss=0.0\n",
        "\n",
        "  with tqdm(train_loader, unit=\"batch\") as tepoch:\n",
        "    for data, factors in tepoch:\n",
        "      tepoch.set_description(f\"Epoch {epoch}\")\n",
        "\n",
        "      # Put data on correct device, GPU or CPU\n",
        "      data = data.to(device)\n",
        "\n",
        "      # Pass the input data through the model\n",
        "      predict = model(data)\n",
        "      reconstructions = predict['reconstructions']\n",
        "      stats_qzx = predict['stats_qzx']\n",
        "\n",
        "      # Compute the beta-VAE loss\n",
        "      loss = vae_loss(data, reconstructions, stats_qzx)\n",
        "\n",
        "      # Backpropagate\n",
        "      optimizer.zero_grad()\n",
        "      loss.backward()\n",
        "      optimizer.step()\n",
        "\n",
        "      # Aggregate the training loss for display at the end of the epoch\n",
        "      train_loss += loss.item()\n",
        "\n",
        "      # tqdm bar displays the loss\n",
        "      tepoch.set_postfix(loss=loss.item())\n",
        "\n",
        "  print('Epoch {}: Train Loss: {:.4f}'.format(epoch, train_loss/len(train_loader)))"
      ]
    },
    {
      "cell_type": "markdown",
      "metadata": {
        "id": "T5qIXavuDADR"
      },
      "source": [
        "# Testing the VAE model\n",
        "\n",
        "We can now test the performance of the VAE model in qualitative terms, both regarding image reconstruction and image generation."
      ]
    },
    {
      "cell_type": "code",
      "execution_count": 22,
      "metadata": {
        "id": "SIuyFQ-SSPgS"
      },
      "outputs": [],
      "source": [
        "test_loader = torch.utils.data.DataLoader(test_dataset, batch_size=64, shuffle=False)"
      ]
    },
    {
      "cell_type": "markdown",
      "metadata": {
        "id": "h1wx0zOiDtW8"
      },
      "source": [
        "We'll store the reconstructed images for all data samples in the test dataset in `test_reconstructions`:"
      ]
    },
    {
      "cell_type": "code",
      "execution_count": 23,
      "metadata": {
        "id": "LMT4RL5xDsZf"
      },
      "outputs": [],
      "source": [
        "test_reconstructions = np.zeros((len(test_dataset), 64, 64), dtype=np.uint)"
      ]
    },
    {
      "cell_type": "code",
      "execution_count": 24,
      "metadata": {
        "id": "daDmHGITTZdU"
      },
      "outputs": [
        {
          "name": "stderr",
          "output_type": "stream",
          "text": [
            "100%|██████████| 173/173 [00:00<00:00, 207.85batch/s, loss=43.7]"
          ]
        },
        {
          "name": "stdout",
          "output_type": "stream",
          "text": [
            "Test Loss: 42.9797\n"
          ]
        },
        {
          "name": "stderr",
          "output_type": "stream",
          "text": [
            "\n"
          ]
        }
      ],
      "source": [
        "model.eval()\n",
        "test_loss=0.0\n",
        "\n",
        "n = 0\n",
        "with tqdm(test_loader, unit=\"batch\") as tepoch:\n",
        "  for data, factors in tepoch:\n",
        "    # Put the data on the correct device:\n",
        "    data = data.to(device)\n",
        "\n",
        "    # Pass the data through the model\n",
        "    predict = model(data, mode='mean')\n",
        "    reconstructions = predict['reconstructions']\n",
        "    stats_qzx = predict['stats_qzx']\n",
        "\n",
        "    # Compute the beta-VAE loss\n",
        "    loss = vae_loss(data, reconstructions, stats_qzx)\n",
        "\n",
        "    # Store quantities of interest\n",
        "    # This time, we want to store reconstructed images obtained by thresholding\n",
        "    # the probability map reconstructions at value 0.5, then multiplying the\n",
        "    # resulting map by 255 to obtain an integer image taking value 0 or 255\n",
        "    # at every pixel.\n",
        "    # Using .detach().cpu().numpy(), the image will be stored as a np.array on\n",
        "    # CPU.\n",
        "    batch_size = stats_qzx.shape[0]\n",
        "    test_reconstructions[n:(n+batch_size), :, :] = (reconstructions[:, 0, :, :] > 0.5).detach().cpu().numpy().astype(np.uint8) * 255\n",
        "\n",
        "    # Compute the loss\n",
        "    test_loss += loss.item()\n",
        "\n",
        "    # tqdm bar displays the loss\n",
        "    tepoch.set_postfix(loss=loss.item())\n",
        "\n",
        "    # increment n to fill next parts of the arrays\n",
        "    n += stats_qzx.shape[0]\n",
        "\n",
        "print('Test Loss: {:.4f}'.format(test_loss/len(test_loader)))"
      ]
    },
    {
      "cell_type": "markdown",
      "metadata": {
        "id": "W_9izGifFJYc"
      },
      "source": [
        "We can now visualize the input test images side to side with their reconstructions, for a random subset of 8 images. We will evaluate the reconstruction performance quantitatively in the second part of the lab."
      ]
    },
    {
      "cell_type": "code",
      "execution_count": 25,
      "metadata": {
        "id": "CuTDU0ntXs2V"
      },
      "outputs": [
        {
          "data": {
            "image/png": "[encoded data removed]",
            "text/plain": [
              "<Figure size 1500x400 with 16 Axes>"
            ]
          },
          "metadata": {},
          "output_type": "display_data"
        }
      ],
      "source": [
        "plt.figure(figsize=(15, 4))\n",
        "for idx in range(0,8):\n",
        "    rand_ind = np.random.randint(0,len(test_dataset))\n",
        "\n",
        "    plt.subplot(2, 8, idx+1)\n",
        "    plt.imshow(test_dataset.imgs[rand_ind,:,:], cmap='gray')\n",
        "\n",
        "    plt.subplot(2, 8, 8+idx+1)\n",
        "    plt.imshow(test_reconstructions[rand_ind,:,:], cmap='gray')"
      ]
    },
    {
      "cell_type": "markdown",
      "metadata": {
        "id": "vAV8X3bZFWZg"
      },
      "source": [
        "Finally, we want to evaluate qualitatively the generative ability of the model. Synthetize 8 images using `generate_samples` from the `VAEModel` class.\n",
        "\n",
        "`generate_sample` actually generates probability maps. Again threshold them at probability 0.5, multiply by 255 to obtain integer images, and store them as a numpy array on CPU (in `generated_images`)."
      ]
    },
    {
      "cell_type": "code",
      "execution_count": 26,
      "metadata": {
        "id": "fcMl1aQNaXom"
      },
      "outputs": [],
      "source": [
        "# This should be an (8, 64, 64) np.array:\n",
        "generated_images = model.generate_samples(N=8)['generations'].detach().cpu().numpy()\n",
        "generated_images = (generated_images[:, 0, :, :] > 0.5).astype(np.uint8) * 255"
      ]
    },
    {
      "cell_type": "markdown",
      "metadata": {
        "id": "vOpr8CuJGS8d"
      },
      "source": [
        "We can visualize the generated images."
      ]
    },
    {
      "cell_type": "code",
      "execution_count": 27,
      "metadata": {
        "id": "vKPi9Fzja_xD"
      },
      "outputs": [
        {
          "data": {
            "image/png": "[encoded data removed]",
            "text/plain": [
              "<Figure size 1500x300 with 8 Axes>"
            ]
          },
          "metadata": {},
          "output_type": "display_data"
        }
      ],
      "source": [
        "plt.figure(figsize=(15, 3))\n",
        "for idx in range(0,8):\n",
        "    plt.subplot(1, 8, idx+1)\n",
        "    plt.imshow(generated_images[idx,:,:], cmap='gray')"
      ]
    },
    {
      "cell_type": "markdown",
      "metadata": {
        "id": "MGkfr22QIB4A"
      },
      "source": [
        "We can see visually that the generated images are far from perfect.\n",
        "\n",
        "To assign a quantitative score for the generative performance, we could use the FID score. This would involve\n",
        "* loading a pretrained InceptionV3 model,\n",
        "* passing a number (say, 1000) of real test images through the network and recording their embeddings,\n",
        "* similarly passing 1000 generated images through the network and recording their embeddings,\n",
        "* from the embeddings of the real test images (resp. generated images), computing statistics (mean + variance)\n",
        "* comparing the statistics of the real test images and of the generated images according to slide 54.\n",
        "\n",
        "Note that images have to be standardized according to the expected preprocessing of InceptionV3 before passing them through the network. In our case, InceptionV3 expects 3-channel color images in a certain range of values ([0,1]) and applies a rescaling (mean/std) to the images before inputting them to the network. This pipeline has to be respected."
      ]
    },
    {
      "cell_type": "markdown",
      "metadata": {
        "id": "h1HkOPHWIDHJ"
      },
      "source": [
        "We do not do it here. This is left as completely optional work (do not do it unless you have finished the rest of the lab!). **BONUS:** compute the FID score for your trained VAE model, using `len(test_dataset)` images to compute the statistics."
      ]
    },
    {
      "cell_type": "markdown",
      "metadata": {
        "id": "7TIAZ0VxIjvW"
      },
      "source": [
        "# Second part: comparing models\n",
        "\n",
        "We will now compare different $\\beta$-VAE models, obtained for different values of the hyperparameter $\\beta$, in terms of image reconstruction capability and disentanglement (and also visual quality of the generated images).\n",
        "\n",
        "We will also add to the comparison a model trained with an Annealed VAE similar to the framework presented in slide 63.\n",
        "\n",
        "(The models have been trained on 75% of the dSprites dataset, for roughly 10 epochs each.)"
      ]
    },
    {
      "cell_type": "code",
      "execution_count": 28,
      "metadata": {
        "id": "02BQ_PRuSqw0"
      },
      "outputs": [],
      "source": [
        "D = 10"
      ]
    },
    {
      "cell_type": "code",
      "execution_count": 29,
      "metadata": {
        "colab": {
          "base_uri": "https://localhost:8080/"
        },
        "id": "rHbwziT7Spup",
        "outputId": "aeb975da-6b28-4c9f-d601-b5957f87024e"
      },
      "outputs": [
        {
          "name": "stdout",
          "output_type": "stream",
          "text": [
            "cuda:0\n"
          ]
        }
      ],
      "source": [
        "device = torch.device(\"cuda:0\" if torch.cuda.is_available() else \"cpu\")\n",
        "print(device)"
      ]
    },
    {
      "cell_type": "markdown",
      "metadata": {
        "id": "5NH0HEzkHwt1"
      },
      "source": [
        "Loading model `model_001` for $\\beta := 10^{-2}$"
      ]
    },
    {
      "cell_type": "code",
      "execution_count": 30,
      "metadata": {
        "id": "HGH9TDBzHAnL"
      },
      "outputs": [
        {
          "name": "stdout",
          "output_type": "stream",
          "text": [
            "WARNING: combining -O with -r or -p will mean that all downloaded content\n",
            "will be placed in the single file you specified.\n",
            "\n",
            "--2025-03-04 17:07:32--  https://drive.google.com/uc?export=download&id=1bV9BhY7B_K3fuco5FvVlrqy3usrONJCF\n",
            "Resolving drive.google.com (drive.google.com)... 142.250.179.110, 2a00:1450:4007:818::200e\n",
            "Connecting to drive.google.com (drive.google.com)|142.250.179.110|:443... connected.\n",
            "HTTP request sent, awaiting response... 303 See Other\n",
            "Location: https://drive.usercontent.google.com/download?id=1bV9BhY7B_K3fuco5FvVlrqy3usrONJCF&export=download [following]\n",
            "--2025-03-04 17:07:33--  https://drive.usercontent.google.com/download?id=1bV9BhY7B_K3fuco5FvVlrqy3usrONJCF&export=download\n",
            "Resolving drive.usercontent.google.com (drive.usercontent.google.com)... 142.250.179.97, 2a00:1450:4007:818::2001\n",
            "Connecting to drive.usercontent.google.com (drive.usercontent.google.com)|142.250.179.97|:443... connected.\n",
            "HTTP request sent, awaiting response... 200 OK\n",
            "Length: 1489737 (1.4M) [application/octet-stream]\n",
            "Saving to: ‘weights_001.pth’\n",
            "\n",
            "weights_001.pth     100%[===================>]   1.42M  --.-KB/s    in 0.03s   \n",
            "\n",
            "2025-03-04 17:07:36 (43.1 MB/s) - ‘weights_001.pth’ saved [1489737/1489737]\n",
            "\n",
            "FINISHED --2025-03-04 17:07:36--\n",
            "Total wall clock time: 3.7s\n",
            "Downloaded: 1 files, 1.4M in 0.03s (43.1 MB/s)\n"
          ]
        },
        {
          "name": "stderr",
          "output_type": "stream",
          "text": [
            "/tmp/ipykernel_1615526/2506290978.py:4: FutureWarning: You are using `torch.load` with `weights_only=False` (the current default value), which uses the default pickle module implicitly. It is possible to construct malicious pickle data which will execute arbitrary code during unpickling (See https://github.com/pytorch/pytorch/blob/main/SECURITY.md#untrusted-models for more details). In a future release, the default value for `weights_only` will be flipped to `True`. This limits the functions that could be executed during unpickling. Arbitrary objects will no longer be allowed to be loaded via this mode unless they are explicitly allowlisted by the user via `torch.serialization.add_safe_globals`. We recommend you start setting `weights_only=True` for any use case where you don't have full control of the loaded file. Please open an issue on GitHub for any issues related to this experimental feature.\n",
            "  weights_dict = torch.load('weights_001.pth')\n"
          ]
        },
        {
          "data": {
            "text/plain": [
              "VAEModel(\n",
              "  (encoder): Encoder(\n",
              "    (conv1): Conv2d(1, 32, kernel_size=(4, 4), stride=(2, 2), padding=(1, 1))\n",
              "    (conv2): Conv2d(32, 32, kernel_size=(4, 4), stride=(2, 2), padding=(1, 1))\n",
              "    (conv3): Conv2d(32, 32, kernel_size=(4, 4), stride=(2, 2), padding=(1, 1))\n",
              "    (conv4): Conv2d(32, 32, kernel_size=(4, 4), stride=(2, 2), padding=(1, 1))\n",
              "    (lin1): Linear(in_features=512, out_features=256, bias=True)\n",
              "    (lin2): Linear(in_features=256, out_features=20, bias=True)\n",
              "  )\n",
              "  (decoder): Decoder(\n",
              "    (lin1): Linear(in_features=10, out_features=256, bias=True)\n",
              "    (lin2): Linear(in_features=256, out_features=512, bias=True)\n",
              "    (convT1): ConvTranspose2d(32, 32, kernel_size=(4, 4), stride=(2, 2), padding=(1, 1))\n",
              "    (convT2): ConvTranspose2d(32, 32, kernel_size=(4, 4), stride=(2, 2), padding=(1, 1))\n",
              "    (convT3): ConvTranspose2d(32, 32, kernel_size=(4, 4), stride=(2, 2), padding=(1, 1))\n",
              "    (convT4): ConvTranspose2d(32, 1, kernel_size=(4, 4), stride=(2, 2), padding=(1, 1))\n",
              "  )\n",
              ")"
            ]
          },
          "execution_count": 30,
          "metadata": {},
          "output_type": "execute_result"
        }
      ],
      "source": [
        "!wget --no-check-certificate -r 'https://drive.google.com/uc?export=download&id=1bV9BhY7B_K3fuco5FvVlrqy3usrONJCF' -O weights_001.pth\n",
        "\n",
        "if torch.cuda.is_available():\n",
        "  weights_dict = torch.load('weights_001.pth')\n",
        "else:\n",
        "  weights_dict = torch.load('weights_001.pth', map_location=torch.device('cpu'))\n",
        "\n",
        "model_001 = VAEModel(latent_dim=D)\n",
        "model_001.load_state_dict(weights_dict)\n",
        "model_001 = model_001.to(device)\n",
        "model_001.eval()"
      ]
    },
    {
      "cell_type": "markdown",
      "metadata": {
        "id": "kmjj_dKsIj8-"
      },
      "source": [
        "Loading model `model_01` for $\\beta := 10^{-1}$"
      ]
    },
    {
      "cell_type": "code",
      "execution_count": 31,
      "metadata": {
        "id": "iQKP3G7eJLDW"
      },
      "outputs": [
        {
          "name": "stdout",
          "output_type": "stream",
          "text": [
            "WARNING: combining -O with -r or -p will mean that all downloaded content\n",
            "will be placed in the single file you specified.\n",
            "\n",
            "--2025-03-04 17:07:36--  https://drive.google.com/uc?export=download&id=1tCozYj12l-WiZk-JB9GsqRm1YZ8VKprO\n",
            "Resolving drive.google.com (drive.google.com)... 142.250.179.110, 2a00:1450:4007:818::200e\n",
            "Connecting to drive.google.com (drive.google.com)|142.250.179.110|:443... connected.\n",
            "HTTP request sent, awaiting response... 303 See Other\n",
            "Location: https://drive.usercontent.google.com/download?id=1tCozYj12l-WiZk-JB9GsqRm1YZ8VKprO&export=download [following]\n",
            "--2025-03-04 17:07:36--  https://drive.usercontent.google.com/download?id=1tCozYj12l-WiZk-JB9GsqRm1YZ8VKprO&export=download\n",
            "Resolving drive.usercontent.google.com (drive.usercontent.google.com)... 142.250.179.97, 2a00:1450:4007:818::2001\n",
            "Connecting to drive.usercontent.google.com (drive.usercontent.google.com)|142.250.179.97|:443... connected.\n",
            "HTTP request sent, awaiting response... 200 OK\n",
            "Length: 1489737 (1.4M) [application/octet-stream]\n",
            "Saving to: ‘weights_01.pth’\n",
            "\n",
            "weights_01.pth      100%[===================>]   1.42M  --.-KB/s    in 0.05s   \n",
            "\n",
            "2025-03-04 17:07:40 (31.1 MB/s) - ‘weights_01.pth’ saved [1489737/1489737]\n",
            "\n",
            "FINISHED --2025-03-04 17:07:40--\n",
            "Total wall clock time: 3.8s\n",
            "Downloaded: 1 files, 1.4M in 0.05s (31.1 MB/s)\n"
          ]
        },
        {
          "name": "stderr",
          "output_type": "stream",
          "text": [
            "/tmp/ipykernel_1615526/2334563060.py:4: FutureWarning: You are using `torch.load` with `weights_only=False` (the current default value), which uses the default pickle module implicitly. It is possible to construct malicious pickle data which will execute arbitrary code during unpickling (See https://github.com/pytorch/pytorch/blob/main/SECURITY.md#untrusted-models for more details). In a future release, the default value for `weights_only` will be flipped to `True`. This limits the functions that could be executed during unpickling. Arbitrary objects will no longer be allowed to be loaded via this mode unless they are explicitly allowlisted by the user via `torch.serialization.add_safe_globals`. We recommend you start setting `weights_only=True` for any use case where you don't have full control of the loaded file. Please open an issue on GitHub for any issues related to this experimental feature.\n",
            "  weights_dict = torch.load('weights_01.pth')\n"
          ]
        },
        {
          "data": {
            "text/plain": [
              "VAEModel(\n",
              "  (encoder): Encoder(\n",
              "    (conv1): Conv2d(1, 32, kernel_size=(4, 4), stride=(2, 2), padding=(1, 1))\n",
              "    (conv2): Conv2d(32, 32, kernel_size=(4, 4), stride=(2, 2), padding=(1, 1))\n",
              "    (conv3): Conv2d(32, 32, kernel_size=(4, 4), stride=(2, 2), padding=(1, 1))\n",
              "    (conv4): Conv2d(32, 32, kernel_size=(4, 4), stride=(2, 2), padding=(1, 1))\n",
              "    (lin1): Linear(in_features=512, out_features=256, bias=True)\n",
              "    (lin2): Linear(in_features=256, out_features=20, bias=True)\n",
              "  )\n",
              "  (decoder): Decoder(\n",
              "    (lin1): Linear(in_features=10, out_features=256, bias=True)\n",
              "    (lin2): Linear(in_features=256, out_features=512, bias=True)\n",
              "    (convT1): ConvTranspose2d(32, 32, kernel_size=(4, 4), stride=(2, 2), padding=(1, 1))\n",
              "    (convT2): ConvTranspose2d(32, 32, kernel_size=(4, 4), stride=(2, 2), padding=(1, 1))\n",
              "    (convT3): ConvTranspose2d(32, 32, kernel_size=(4, 4), stride=(2, 2), padding=(1, 1))\n",
              "    (convT4): ConvTranspose2d(32, 1, kernel_size=(4, 4), stride=(2, 2), padding=(1, 1))\n",
              "  )\n",
              ")"
            ]
          },
          "execution_count": 31,
          "metadata": {},
          "output_type": "execute_result"
        }
      ],
      "source": [
        "!wget --no-check-certificate -r 'https://drive.google.com/uc?export=download&id=1tCozYj12l-WiZk-JB9GsqRm1YZ8VKprO' -O weights_01.pth\n",
        "\n",
        "if torch.cuda.is_available():\n",
        "  weights_dict = torch.load('weights_01.pth')\n",
        "else:\n",
        "  weights_dict = torch.load('weights_01.pth', map_location=torch.device('cpu'))\n",
        "\n",
        "model_01 = VAEModel(latent_dim=D)\n",
        "model_01.load_state_dict(weights_dict)\n",
        "model_01 = model_01.to(device)\n",
        "model_01.eval()"
      ]
    },
    {
      "cell_type": "markdown",
      "metadata": {
        "id": "jEQAwom_ImE7"
      },
      "source": [
        "Loading model `model_1` for $\\beta := 1.$"
      ]
    },
    {
      "cell_type": "code",
      "execution_count": 32,
      "metadata": {
        "id": "J6PnJGAZJY_S"
      },
      "outputs": [
        {
          "name": "stdout",
          "output_type": "stream",
          "text": [
            "WARNING: combining -O with -r or -p will mean that all downloaded content\n",
            "will be placed in the single file you specified.\n",
            "\n",
            "--2025-03-04 17:07:40--  https://drive.google.com/uc?export=download&id=1kBoLftBkhdEjNe-ObLmX-WjOrISJFerR\n",
            "Resolving drive.google.com (drive.google.com)... 142.250.179.110, 2a00:1450:4007:818::200e\n",
            "Connecting to drive.google.com (drive.google.com)|142.250.179.110|:443... connected.\n",
            "HTTP request sent, awaiting response... 303 See Other\n",
            "Location: https://drive.usercontent.google.com/download?id=1kBoLftBkhdEjNe-ObLmX-WjOrISJFerR&export=download [following]\n",
            "--2025-03-04 17:07:41--  https://drive.usercontent.google.com/download?id=1kBoLftBkhdEjNe-ObLmX-WjOrISJFerR&export=download\n",
            "Resolving drive.usercontent.google.com (drive.usercontent.google.com)... 142.250.179.97, 2a00:1450:4007:818::2001\n",
            "Connecting to drive.usercontent.google.com (drive.usercontent.google.com)|142.250.179.97|:443... connected.\n",
            "HTTP request sent, awaiting response... 200 OK\n",
            "Length: 1489711 (1.4M) [application/octet-stream]\n",
            "Saving to: ‘weights_1.pth’\n",
            "\n",
            "weights_1.pth       100%[===================>]   1.42M  --.-KB/s    in 0.03s   \n",
            "\n",
            "2025-03-04 17:07:44 (44.3 MB/s) - ‘weights_1.pth’ saved [1489711/1489711]\n",
            "\n",
            "FINISHED --2025-03-04 17:07:44--\n",
            "Total wall clock time: 3.2s\n",
            "Downloaded: 1 files, 1.4M in 0.03s (44.3 MB/s)\n"
          ]
        },
        {
          "name": "stderr",
          "output_type": "stream",
          "text": [
            "/tmp/ipykernel_1615526/811810230.py:4: FutureWarning: You are using `torch.load` with `weights_only=False` (the current default value), which uses the default pickle module implicitly. It is possible to construct malicious pickle data which will execute arbitrary code during unpickling (See https://github.com/pytorch/pytorch/blob/main/SECURITY.md#untrusted-models for more details). In a future release, the default value for `weights_only` will be flipped to `True`. This limits the functions that could be executed during unpickling. Arbitrary objects will no longer be allowed to be loaded via this mode unless they are explicitly allowlisted by the user via `torch.serialization.add_safe_globals`. We recommend you start setting `weights_only=True` for any use case where you don't have full control of the loaded file. Please open an issue on GitHub for any issues related to this experimental feature.\n",
            "  weights_dict = torch.load('weights_1.pth')\n"
          ]
        },
        {
          "data": {
            "text/plain": [
              "VAEModel(\n",
              "  (encoder): Encoder(\n",
              "    (conv1): Conv2d(1, 32, kernel_size=(4, 4), stride=(2, 2), padding=(1, 1))\n",
              "    (conv2): Conv2d(32, 32, kernel_size=(4, 4), stride=(2, 2), padding=(1, 1))\n",
              "    (conv3): Conv2d(32, 32, kernel_size=(4, 4), stride=(2, 2), padding=(1, 1))\n",
              "    (conv4): Conv2d(32, 32, kernel_size=(4, 4), stride=(2, 2), padding=(1, 1))\n",
              "    (lin1): Linear(in_features=512, out_features=256, bias=True)\n",
              "    (lin2): Linear(in_features=256, out_features=20, bias=True)\n",
              "  )\n",
              "  (decoder): Decoder(\n",
              "    (lin1): Linear(in_features=10, out_features=256, bias=True)\n",
              "    (lin2): Linear(in_features=256, out_features=512, bias=True)\n",
              "    (convT1): ConvTranspose2d(32, 32, kernel_size=(4, 4), stride=(2, 2), padding=(1, 1))\n",
              "    (convT2): ConvTranspose2d(32, 32, kernel_size=(4, 4), stride=(2, 2), padding=(1, 1))\n",
              "    (convT3): ConvTranspose2d(32, 32, kernel_size=(4, 4), stride=(2, 2), padding=(1, 1))\n",
              "    (convT4): ConvTranspose2d(32, 1, kernel_size=(4, 4), stride=(2, 2), padding=(1, 1))\n",
              "  )\n",
              ")"
            ]
          },
          "execution_count": 32,
          "metadata": {},
          "output_type": "execute_result"
        }
      ],
      "source": [
        "!wget --no-check-certificate -r 'https://drive.google.com/uc?export=download&id=1kBoLftBkhdEjNe-ObLmX-WjOrISJFerR' -O weights_1.pth\n",
        "\n",
        "if torch.cuda.is_available():\n",
        "  weights_dict = torch.load('weights_1.pth')\n",
        "else:\n",
        "  weights_dict = torch.load('weights_1.pth', map_location=torch.device('cpu'))\n",
        "\n",
        "model_1 = VAEModel(latent_dim=D)\n",
        "model_1.load_state_dict(weights_dict)\n",
        "model_1 = model_1.to(device)\n",
        "model_1.eval()"
      ]
    },
    {
      "cell_type": "markdown",
      "metadata": {
        "id": "hEvDeHDLU0Mb"
      },
      "source": [
        "Loading model `model_3` for $\\beta:=3$"
      ]
    },
    {
      "cell_type": "code",
      "execution_count": 33,
      "metadata": {
        "id": "b_GJLTyuUzWw"
      },
      "outputs": [
        {
          "name": "stdout",
          "output_type": "stream",
          "text": [
            "WARNING: combining -O with -r or -p will mean that all downloaded content\n",
            "will be placed in the single file you specified.\n",
            "\n",
            "--2025-03-04 17:07:44--  https://drive.google.com/uc?export=download&id=1q3cdDl46IiX2ZG416a0DGvKmwzjCDz9F\n",
            "Resolving drive.google.com (drive.google.com)... 142.250.179.110, 2a00:1450:4007:818::200e\n",
            "Connecting to drive.google.com (drive.google.com)|142.250.179.110|:443... connected.\n",
            "HTTP request sent, awaiting response... 303 See Other\n",
            "Location: https://drive.usercontent.google.com/download?id=1q3cdDl46IiX2ZG416a0DGvKmwzjCDz9F&export=download [following]\n",
            "--2025-03-04 17:07:44--  https://drive.usercontent.google.com/download?id=1q3cdDl46IiX2ZG416a0DGvKmwzjCDz9F&export=download\n",
            "Resolving drive.usercontent.google.com (drive.usercontent.google.com)... 142.250.179.97, 2a00:1450:4007:818::2001\n",
            "Connecting to drive.usercontent.google.com (drive.usercontent.google.com)|142.250.179.97|:443... connected.\n",
            "HTTP request sent, awaiting response... 200 OK\n",
            "Length: 1489737 (1.4M) [application/octet-stream]\n",
            "Saving to: ‘weights_3.pth’\n",
            "\n",
            "weights_3.pth       100%[===================>]   1.42M  --.-KB/s    in 0.05s   \n",
            "\n",
            "2025-03-04 17:07:47 (29.8 MB/s) - ‘weights_3.pth’ saved [1489737/1489737]\n",
            "\n",
            "FINISHED --2025-03-04 17:07:47--\n",
            "Total wall clock time: 3.7s\n",
            "Downloaded: 1 files, 1.4M in 0.05s (29.8 MB/s)\n"
          ]
        },
        {
          "name": "stderr",
          "output_type": "stream",
          "text": [
            "/tmp/ipykernel_1615526/3713738057.py:4: FutureWarning: You are using `torch.load` with `weights_only=False` (the current default value), which uses the default pickle module implicitly. It is possible to construct malicious pickle data which will execute arbitrary code during unpickling (See https://github.com/pytorch/pytorch/blob/main/SECURITY.md#untrusted-models for more details). In a future release, the default value for `weights_only` will be flipped to `True`. This limits the functions that could be executed during unpickling. Arbitrary objects will no longer be allowed to be loaded via this mode unless they are explicitly allowlisted by the user via `torch.serialization.add_safe_globals`. We recommend you start setting `weights_only=True` for any use case where you don't have full control of the loaded file. Please open an issue on GitHub for any issues related to this experimental feature.\n",
            "  weights_dict = torch.load('weights_3.pth')\n"
          ]
        },
        {
          "data": {
            "text/plain": [
              "VAEModel(\n",
              "  (encoder): Encoder(\n",
              "    (conv1): Conv2d(1, 32, kernel_size=(4, 4), stride=(2, 2), padding=(1, 1))\n",
              "    (conv2): Conv2d(32, 32, kernel_size=(4, 4), stride=(2, 2), padding=(1, 1))\n",
              "    (conv3): Conv2d(32, 32, kernel_size=(4, 4), stride=(2, 2), padding=(1, 1))\n",
              "    (conv4): Conv2d(32, 32, kernel_size=(4, 4), stride=(2, 2), padding=(1, 1))\n",
              "    (lin1): Linear(in_features=512, out_features=256, bias=True)\n",
              "    (lin2): Linear(in_features=256, out_features=20, bias=True)\n",
              "  )\n",
              "  (decoder): Decoder(\n",
              "    (lin1): Linear(in_features=10, out_features=256, bias=True)\n",
              "    (lin2): Linear(in_features=256, out_features=512, bias=True)\n",
              "    (convT1): ConvTranspose2d(32, 32, kernel_size=(4, 4), stride=(2, 2), padding=(1, 1))\n",
              "    (convT2): ConvTranspose2d(32, 32, kernel_size=(4, 4), stride=(2, 2), padding=(1, 1))\n",
              "    (convT3): ConvTranspose2d(32, 32, kernel_size=(4, 4), stride=(2, 2), padding=(1, 1))\n",
              "    (convT4): ConvTranspose2d(32, 1, kernel_size=(4, 4), stride=(2, 2), padding=(1, 1))\n",
              "  )\n",
              ")"
            ]
          },
          "execution_count": 33,
          "metadata": {},
          "output_type": "execute_result"
        }
      ],
      "source": [
        "!wget --no-check-certificate -r 'https://drive.google.com/uc?export=download&id=1q3cdDl46IiX2ZG416a0DGvKmwzjCDz9F' -O weights_3.pth\n",
        "\n",
        "if torch.cuda.is_available():\n",
        "  weights_dict = torch.load('weights_3.pth')\n",
        "else:\n",
        "  weights_dict = torch.load('weights_3.pth', map_location=torch.device('cpu'))\n",
        "\n",
        "model_3 = VAEModel(latent_dim=D)\n",
        "model_3.load_state_dict(weights_dict)\n",
        "model_3 = model_3.to(device)\n",
        "model_3.eval()"
      ]
    },
    {
      "cell_type": "markdown",
      "metadata": {
        "id": "HdlaNC2hIuZO"
      },
      "source": [
        "Loading model `model_10` for $\\beta := 10$"
      ]
    },
    {
      "cell_type": "code",
      "execution_count": 34,
      "metadata": {
        "id": "S_GKpID0J7Ki"
      },
      "outputs": [
        {
          "name": "stdout",
          "output_type": "stream",
          "text": [
            "WARNING: combining -O with -r or -p will mean that all downloaded content\n",
            "will be placed in the single file you specified.\n",
            "\n",
            "--2025-03-04 17:07:48--  https://drive.google.com/uc?export=download&id=1IljU8BHfedXHNHzrPCe4ERUDo_Tnxh3s\n",
            "Resolving drive.google.com (drive.google.com)... 142.250.179.110, 2a00:1450:4007:818::200e\n",
            "Connecting to drive.google.com (drive.google.com)|142.250.179.110|:443... connected.\n",
            "HTTP request sent, awaiting response... 303 See Other\n",
            "Location: https://drive.usercontent.google.com/download?id=1IljU8BHfedXHNHzrPCe4ERUDo_Tnxh3s&export=download [following]\n",
            "--2025-03-04 17:07:48--  https://drive.usercontent.google.com/download?id=1IljU8BHfedXHNHzrPCe4ERUDo_Tnxh3s&export=download\n",
            "Resolving drive.usercontent.google.com (drive.usercontent.google.com)... 142.250.179.97, 2a00:1450:4007:818::2001\n",
            "Connecting to drive.usercontent.google.com (drive.usercontent.google.com)|142.250.179.97|:443... connected.\n",
            "HTTP request sent, awaiting response... 200 OK\n",
            "Length: 1489711 (1.4M) [application/octet-stream]\n",
            "Saving to: ‘weights_10.pth’\n",
            "\n",
            "weights_10.pth      100%[===================>]   1.42M  --.-KB/s    in 0.02s   \n",
            "\n",
            "2025-03-04 17:07:51 (69.9 MB/s) - ‘weights_10.pth’ saved [1489711/1489711]\n",
            "\n",
            "FINISHED --2025-03-04 17:07:51--\n",
            "Total wall clock time: 3.8s\n",
            "Downloaded: 1 files, 1.4M in 0.02s (69.9 MB/s)\n"
          ]
        },
        {
          "name": "stderr",
          "output_type": "stream",
          "text": [
            "/tmp/ipykernel_1615526/1016282216.py:4: FutureWarning: You are using `torch.load` with `weights_only=False` (the current default value), which uses the default pickle module implicitly. It is possible to construct malicious pickle data which will execute arbitrary code during unpickling (See https://github.com/pytorch/pytorch/blob/main/SECURITY.md#untrusted-models for more details). In a future release, the default value for `weights_only` will be flipped to `True`. This limits the functions that could be executed during unpickling. Arbitrary objects will no longer be allowed to be loaded via this mode unless they are explicitly allowlisted by the user via `torch.serialization.add_safe_globals`. We recommend you start setting `weights_only=True` for any use case where you don't have full control of the loaded file. Please open an issue on GitHub for any issues related to this experimental feature.\n",
            "  weights_dict = torch.load('weights_10.pth')\n"
          ]
        },
        {
          "data": {
            "text/plain": [
              "VAEModel(\n",
              "  (encoder): Encoder(\n",
              "    (conv1): Conv2d(1, 32, kernel_size=(4, 4), stride=(2, 2), padding=(1, 1))\n",
              "    (conv2): Conv2d(32, 32, kernel_size=(4, 4), stride=(2, 2), padding=(1, 1))\n",
              "    (conv3): Conv2d(32, 32, kernel_size=(4, 4), stride=(2, 2), padding=(1, 1))\n",
              "    (conv4): Conv2d(32, 32, kernel_size=(4, 4), stride=(2, 2), padding=(1, 1))\n",
              "    (lin1): Linear(in_features=512, out_features=256, bias=True)\n",
              "    (lin2): Linear(in_features=256, out_features=20, bias=True)\n",
              "  )\n",
              "  (decoder): Decoder(\n",
              "    (lin1): Linear(in_features=10, out_features=256, bias=True)\n",
              "    (lin2): Linear(in_features=256, out_features=512, bias=True)\n",
              "    (convT1): ConvTranspose2d(32, 32, kernel_size=(4, 4), stride=(2, 2), padding=(1, 1))\n",
              "    (convT2): ConvTranspose2d(32, 32, kernel_size=(4, 4), stride=(2, 2), padding=(1, 1))\n",
              "    (convT3): ConvTranspose2d(32, 32, kernel_size=(4, 4), stride=(2, 2), padding=(1, 1))\n",
              "    (convT4): ConvTranspose2d(32, 1, kernel_size=(4, 4), stride=(2, 2), padding=(1, 1))\n",
              "  )\n",
              ")"
            ]
          },
          "execution_count": 34,
          "metadata": {},
          "output_type": "execute_result"
        }
      ],
      "source": [
        "!wget --no-check-certificate -r 'https://drive.google.com/uc?export=download&id=1IljU8BHfedXHNHzrPCe4ERUDo_Tnxh3s' -O weights_10.pth\n",
        "\n",
        "if torch.cuda.is_available():\n",
        "  weights_dict = torch.load('weights_10.pth')\n",
        "else:\n",
        "  weights_dict = torch.load('weights_10.pth', map_location=torch.device('cpu'))\n",
        "\n",
        "model_10 = VAEModel(latent_dim=D)\n",
        "model_10.load_state_dict(weights_dict)\n",
        "model_10 = model_10.to(device)\n",
        "model_10.eval()"
      ]
    },
    {
      "cell_type": "markdown",
      "metadata": {
        "id": "ECbcBdNaIw_a"
      },
      "source": [
        "Loading model `model_100` for $\\beta := 100$"
      ]
    },
    {
      "cell_type": "code",
      "execution_count": 35,
      "metadata": {
        "id": "c28j1jddKTUl"
      },
      "outputs": [
        {
          "name": "stdout",
          "output_type": "stream",
          "text": [
            "WARNING: combining -O with -r or -p will mean that all downloaded content\n",
            "will be placed in the single file you specified.\n",
            "\n",
            "--2025-03-04 17:07:52--  https://drive.google.com/uc?export=download&id=1K1SMnENlZwo5pv-Xlct8aqpX-06sK6ZL\n",
            "Resolving drive.google.com (drive.google.com)... 142.250.179.110, 2a00:1450:4007:818::200e\n",
            "Connecting to drive.google.com (drive.google.com)|142.250.179.110|:443... connected.\n",
            "HTTP request sent, awaiting response... 303 See Other\n",
            "Location: https://drive.usercontent.google.com/download?id=1K1SMnENlZwo5pv-Xlct8aqpX-06sK6ZL&export=download [following]\n",
            "--2025-03-04 17:07:52--  https://drive.usercontent.google.com/download?id=1K1SMnENlZwo5pv-Xlct8aqpX-06sK6ZL&export=download\n",
            "Resolving drive.usercontent.google.com (drive.usercontent.google.com)... 142.250.179.97, 2a00:1450:4007:818::2001\n",
            "Connecting to drive.usercontent.google.com (drive.usercontent.google.com)|142.250.179.97|:443... connected.\n",
            "HTTP request sent, awaiting response... 200 OK\n",
            "Length: 1489914 (1.4M) [application/octet-stream]\n",
            "Saving to: ‘weights_100.pth’\n",
            "\n",
            "weights_100.pth     100%[===================>]   1.42M  --.-KB/s    in 0.06s   \n",
            "\n",
            "2025-03-04 17:07:55 (24.4 MB/s) - ‘weights_100.pth’ saved [1489914/1489914]\n",
            "\n",
            "FINISHED --2025-03-04 17:07:55--\n",
            "Total wall clock time: 3.4s\n",
            "Downloaded: 1 files, 1.4M in 0.06s (24.4 MB/s)\n"
          ]
        },
        {
          "name": "stderr",
          "output_type": "stream",
          "text": [
            "/tmp/ipykernel_1615526/2228901934.py:4: FutureWarning: You are using `torch.load` with `weights_only=False` (the current default value), which uses the default pickle module implicitly. It is possible to construct malicious pickle data which will execute arbitrary code during unpickling (See https://github.com/pytorch/pytorch/blob/main/SECURITY.md#untrusted-models for more details). In a future release, the default value for `weights_only` will be flipped to `True`. This limits the functions that could be executed during unpickling. Arbitrary objects will no longer be allowed to be loaded via this mode unless they are explicitly allowlisted by the user via `torch.serialization.add_safe_globals`. We recommend you start setting `weights_only=True` for any use case where you don't have full control of the loaded file. Please open an issue on GitHub for any issues related to this experimental feature.\n",
            "  weights_dict = torch.load('weights_100.pth')\n"
          ]
        },
        {
          "data": {
            "text/plain": [
              "VAEModel(\n",
              "  (encoder): Encoder(\n",
              "    (conv1): Conv2d(1, 32, kernel_size=(4, 4), stride=(2, 2), padding=(1, 1))\n",
              "    (conv2): Conv2d(32, 32, kernel_size=(4, 4), stride=(2, 2), padding=(1, 1))\n",
              "    (conv3): Conv2d(32, 32, kernel_size=(4, 4), stride=(2, 2), padding=(1, 1))\n",
              "    (conv4): Conv2d(32, 32, kernel_size=(4, 4), stride=(2, 2), padding=(1, 1))\n",
              "    (lin1): Linear(in_features=512, out_features=256, bias=True)\n",
              "    (lin2): Linear(in_features=256, out_features=20, bias=True)\n",
              "  )\n",
              "  (decoder): Decoder(\n",
              "    (lin1): Linear(in_features=10, out_features=256, bias=True)\n",
              "    (lin2): Linear(in_features=256, out_features=512, bias=True)\n",
              "    (convT1): ConvTranspose2d(32, 32, kernel_size=(4, 4), stride=(2, 2), padding=(1, 1))\n",
              "    (convT2): ConvTranspose2d(32, 32, kernel_size=(4, 4), stride=(2, 2), padding=(1, 1))\n",
              "    (convT3): ConvTranspose2d(32, 32, kernel_size=(4, 4), stride=(2, 2), padding=(1, 1))\n",
              "    (convT4): ConvTranspose2d(32, 1, kernel_size=(4, 4), stride=(2, 2), padding=(1, 1))\n",
              "  )\n",
              ")"
            ]
          },
          "execution_count": 35,
          "metadata": {},
          "output_type": "execute_result"
        }
      ],
      "source": [
        "!wget --no-check-certificate -r 'https://drive.google.com/uc?export=download&id=1K1SMnENlZwo5pv-Xlct8aqpX-06sK6ZL' -O weights_100.pth\n",
        "\n",
        "if torch.cuda.is_available():\n",
        "  weights_dict = torch.load('weights_100.pth')\n",
        "else:\n",
        "  weights_dict = torch.load('weights_100.pth', map_location=torch.device('cpu'))\n",
        "\n",
        "model_100 = VAEModel(latent_dim=D)\n",
        "model_100.load_state_dict(weights_dict)\n",
        "model_100 = model_100.to(device)\n",
        "model_100.eval()"
      ]
    },
    {
      "cell_type": "markdown",
      "metadata": {
        "id": "FjrGQojiIzw9"
      },
      "source": [
        "Loading model `model_annealed` for $\\beta$ progressively annealed from $100$ to $10^{-2}$"
      ]
    },
    {
      "cell_type": "code",
      "execution_count": 37,
      "metadata": {
        "id": "sckll61aKi6R"
      },
      "outputs": [
        {
          "name": "stdout",
          "output_type": "stream",
          "text": [
            "WARNING: combining -O with -r or -p will mean that all downloaded content\n",
            "will be placed in the single file you specified.\n",
            "\n",
            "--2025-03-04 17:08:27--  https://drive.google.com/uc?export=download&id=174oYfjI-jRuwIkDuccgHLW7hUFZ2tMy3\n",
            "Resolving drive.google.com (drive.google.com)... 142.250.179.110, 2a00:1450:4007:818::200e\n",
            "Connecting to drive.google.com (drive.google.com)|142.250.179.110|:443... connected.\n",
            "HTTP request sent, awaiting response... 303 See Other\n",
            "Location: https://drive.usercontent.google.com/download?id=174oYfjI-jRuwIkDuccgHLW7hUFZ2tMy3&export=download [following]\n",
            "--2025-03-04 17:08:27--  https://drive.usercontent.google.com/download?id=174oYfjI-jRuwIkDuccgHLW7hUFZ2tMy3&export=download\n",
            "Resolving drive.usercontent.google.com (drive.usercontent.google.com)... 142.250.179.97, 2a00:1450:4007:818::2001\n",
            "Connecting to drive.usercontent.google.com (drive.usercontent.google.com)|142.250.179.97|:443... connected.\n",
            "HTTP request sent, awaiting response... 200 OK\n",
            "Length: 1490035 (1.4M) [application/octet-stream]\n",
            "Saving to: ‘weights_annealed.pth’\n",
            "\n",
            "weights_annealed.pt 100%[===================>]   1.42M  --.-KB/s    in 0.03s   \n",
            "\n",
            "2025-03-04 17:08:30 (44.1 MB/s) - ‘weights_annealed.pth’ saved [1490035/1490035]\n",
            "\n",
            "FINISHED --2025-03-04 17:08:30--\n",
            "Total wall clock time: 3.6s\n",
            "Downloaded: 1 files, 1.4M in 0.03s (44.1 MB/s)\n"
          ]
        },
        {
          "name": "stderr",
          "output_type": "stream",
          "text": [
            "/tmp/ipykernel_1615526/1338709773.py:4: FutureWarning: You are using `torch.load` with `weights_only=False` (the current default value), which uses the default pickle module implicitly. It is possible to construct malicious pickle data which will execute arbitrary code during unpickling (See https://github.com/pytorch/pytorch/blob/main/SECURITY.md#untrusted-models for more details). In a future release, the default value for `weights_only` will be flipped to `True`. This limits the functions that could be executed during unpickling. Arbitrary objects will no longer be allowed to be loaded via this mode unless they are explicitly allowlisted by the user via `torch.serialization.add_safe_globals`. We recommend you start setting `weights_only=True` for any use case where you don't have full control of the loaded file. Please open an issue on GitHub for any issues related to this experimental feature.\n",
            "  weights_dict = torch.load('weights_annealed.pth')\n"
          ]
        },
        {
          "data": {
            "text/plain": [
              "VAEModel(\n",
              "  (encoder): Encoder(\n",
              "    (conv1): Conv2d(1, 32, kernel_size=(4, 4), stride=(2, 2), padding=(1, 1))\n",
              "    (conv2): Conv2d(32, 32, kernel_size=(4, 4), stride=(2, 2), padding=(1, 1))\n",
              "    (conv3): Conv2d(32, 32, kernel_size=(4, 4), stride=(2, 2), padding=(1, 1))\n",
              "    (conv4): Conv2d(32, 32, kernel_size=(4, 4), stride=(2, 2), padding=(1, 1))\n",
              "    (lin1): Linear(in_features=512, out_features=256, bias=True)\n",
              "    (lin2): Linear(in_features=256, out_features=20, bias=True)\n",
              "  )\n",
              "  (decoder): Decoder(\n",
              "    (lin1): Linear(in_features=10, out_features=256, bias=True)\n",
              "    (lin2): Linear(in_features=256, out_features=512, bias=True)\n",
              "    (convT1): ConvTranspose2d(32, 32, kernel_size=(4, 4), stride=(2, 2), padding=(1, 1))\n",
              "    (convT2): ConvTranspose2d(32, 32, kernel_size=(4, 4), stride=(2, 2), padding=(1, 1))\n",
              "    (convT3): ConvTranspose2d(32, 32, kernel_size=(4, 4), stride=(2, 2), padding=(1, 1))\n",
              "    (convT4): ConvTranspose2d(32, 1, kernel_size=(4, 4), stride=(2, 2), padding=(1, 1))\n",
              "  )\n",
              ")"
            ]
          },
          "execution_count": 37,
          "metadata": {},
          "output_type": "execute_result"
        }
      ],
      "source": [
        "!wget --no-check-certificate -r 'https://drive.google.com/uc?export=download&id=174oYfjI-jRuwIkDuccgHLW7hUFZ2tMy3' -O weights_annealed.pth\n",
        "\n",
        "if torch.cuda.is_available():\n",
        "  weights_dict = torch.load('weights_annealed.pth')\n",
        "else:\n",
        "  weights_dict = torch.load('weights_annealed.pth', map_location=torch.device('cpu'))\n",
        "\n",
        "model_annealed = VAEModel(latent_dim=D)\n",
        "model_annealed.load_state_dict(weights_dict)\n",
        "model_annealed = model_annealed.to(device)\n",
        "model_annealed.eval()"
      ]
    },
    {
      "cell_type": "markdown",
      "metadata": {
        "id": "YVVwvukxnP2l"
      },
      "source": [
        "We are going to compute the predictions of all 7 loaded models on the test dataset. We store the reconstructed probability maps in `test_reconstructions_mean`, the thresholded images in `test_reconstructions_image`, the latent distributions (mean/log-var) corresponding to each sample in `test_stats_qzx`. We also record the corresponding ground truth factor values ('shape', 'scale', 'orientation', 'posX', 'posY') for each data sample, in `gt_factors`."
      ]
    },
    {
      "cell_type": "code",
      "execution_count": 38,
      "metadata": {
        "id": "iyLi6LkmP1Y6"
      },
      "outputs": [],
      "source": [
        "models = [model_001, model_01, model_1, model_3, model_10, model_100, model_annealed]\n",
        "model_descriptions = ['0.01', '0.1', '1', '3', '10', '100', 'ann.']"
      ]
    },
    {
      "cell_type": "code",
      "execution_count": 39,
      "metadata": {
        "id": "qFNz8zupK7IC"
      },
      "outputs": [],
      "source": [
        "test_loader = torch.utils.data.DataLoader(test_dataset, batch_size=64, shuffle=False)"
      ]
    },
    {
      "cell_type": "code",
      "execution_count": 40,
      "metadata": {
        "id": "H1swouGKLQvo"
      },
      "outputs": [],
      "source": [
        "test_reconstructions_mean = torch.zeros((7,len(test_dataset), 64, 64))\n",
        "test_reconstructions_image = np.zeros((7,len(test_dataset), 64, 64), dtype=np.uint)\n",
        "test_stats_qzx = torch.zeros(7,len(test_dataset), D, 2)\n",
        "gt_factors = torch.zeros(7, len(test_dataset), 5)"
      ]
    },
    {
      "cell_type": "code",
      "execution_count": 41,
      "metadata": {
        "id": "kEh-nmggK8AC"
      },
      "outputs": [
        {
          "name": "stderr",
          "output_type": "stream",
          "text": [
            "Model 𝛽=0.01: 100%|██████████| 173/173 [00:00<00:00, 177.89batch/s]\n",
            "Model 𝛽=0.1: 100%|██████████| 173/173 [00:00<00:00, 175.43batch/s]\n",
            "Model 𝛽=1: 100%|██████████| 173/173 [00:00<00:00, 173.54batch/s]\n",
            "Model 𝛽=3: 100%|██████████| 173/173 [00:00<00:00, 173.06batch/s]\n",
            "Model 𝛽=10: 100%|██████████| 173/173 [00:01<00:00, 169.25batch/s]\n",
            "Model 𝛽=100: 100%|██████████| 173/173 [00:01<00:00, 170.65batch/s]\n",
            "Model 𝛽=ann.: 100%|██████████| 173/173 [00:01<00:00, 172.75batch/s]\n"
          ]
        }
      ],
      "source": [
        "for i,model in enumerate(models):\n",
        "  n = 0\n",
        "  with tqdm(test_loader, unit=\"batch\") as tepoch:\n",
        "    for data, factors in tepoch:\n",
        "      tepoch.set_description(\"Model 𝛽={}\".format(model_descriptions[i]))\n",
        "\n",
        "      # Move data to GPU\n",
        "      data = data.to(device)\n",
        "\n",
        "      # Compute predictions\n",
        "      predict = model(data, mode='mean')\n",
        "      reconstructions = predict['reconstructions']\n",
        "      stats_qzx = predict['stats_qzx']\n",
        "\n",
        "      # Store quantities of interest\n",
        "      batch_size = stats_qzx.shape[0]\n",
        "      gt_factors[i,n:(n+batch_size),:] = factors\n",
        "      test_stats_qzx[i,n:(n+batch_size),:,:] = stats_qzx.detach()\n",
        "      test_reconstructions_mean[i,n:(n+batch_size), :, :] = reconstructions.detach().cpu().squeeze()\n",
        "      test_reconstructions_image[i,n:(n+batch_size), :, :] = (reconstructions[:, 0, :, :].detach().cpu().numpy() >= 0.5)*255\n",
        "\n",
        "      # increment n to fill next parts of the arrays\n",
        "      n += batch_size"
      ]
    },
    {
      "cell_type": "markdown",
      "metadata": {
        "id": "hjJwal_2oqHm"
      },
      "source": [
        "Next, we visualize both the reconstruction and generation performance of all 7 models. Each model occupies a single row (1st row: '0.01', 2nd row: '0.1', 3rd row: '1', 4th row: '3', 5th row: '10', 6th row: '100', 7th row: 'ann.').\n",
        "\n",
        "We randomly pick 3 images from the test set. For each model (each row), we display each original test image, their reconstruction, and a random generated image (unrelated to the test image). (That leads to 3x3=9 images per row).\n",
        "\n"
      ]
    },
    {
      "cell_type": "code",
      "execution_count": 42,
      "metadata": {
        "id": "_PdSaQU0K8b4"
      },
      "outputs": [
        {
          "data": {
            "image/png": "[encoded data removed]",
            "text/plain": [
              "<Figure size 2000x1800 with 63 Axes>"
            ]
          },
          "metadata": {},
          "output_type": "display_data"
        }
      ],
      "source": [
        "plt.figure(figsize=(20, 18))\n",
        "for img in range(0,3):\n",
        "    rand_ind = np.random.randint(0,len(test_dataset))\n",
        "\n",
        "    for mdl in range(0,7):\n",
        "        plt.subplot(7, 9, 9*mdl+3*img+1)\n",
        "        plt.imshow(test_dataset.imgs[rand_ind,:,:], cmap='gray')\n",
        "        plt.title(\"Original\")\n",
        "\n",
        "        plt.subplot(7, 9, 9*mdl+3*img+2)\n",
        "        plt.imshow(test_reconstructions_image[mdl,rand_ind,:,:], cmap='gray')\n",
        "        plt.title(\"Reconstruction\")\n",
        "\n",
        "        generated_image = (models[mdl].generate_samples(N=1)['generations'].detach().cpu().numpy().squeeze() >= 0.5) * 255\n",
        "        plt.subplot(7, 9, 9*mdl+3*img+3)\n",
        "        plt.imshow(generated_image, cmap='gray')\n",
        "        plt.title(\"Generation\")"
      ]
    },
    {
      "cell_type": "markdown",
      "metadata": {
        "id": "8FbxLepZrEkZ"
      },
      "source": [
        "**Questions:**\n",
        "1. Which models do you think show the best reconstructions? the best generations? The best compromise between both?\n",
        "\n",
        "2. How do you explain the 'empty' reconstructions for the model $\\beta=10^2$ (6th row)?\n",
        "\n",
        "3. How do you explain the particularly poor generated images for $\\beta=10^{-2}$, $\\beta=10^{-1}$ (1st and 2nd rows)?\n",
        "\n",
        "You can run the above cell several times to better inform your answers / avoid 'chance' outputs."
      ]
    },
    {
      "cell_type": "markdown",
      "metadata": {},
      "source": [
        "**Answers**:\n",
        "\n",
        "1. We see above that the models with a low value of $\\beta$ show rather good reconstructions. For larger $\\beta$, the squares tend to become circles for instance. This is logical, since the loss is $\\text{reconstruction loss} + \\beta \\text{ kl loss}$: for a low $\\beta$, the loss is mostly equal to the reconstruction loss.\n",
        "\n",
        "For the generation, none of the models is really good. Based on the same argument as before, we would be tempted to believe that higher values of $\\beta$ lead to more structured latent spaces, hence better generated images. But when $\\beta$ is really high, the generated images are not varied at all, we mostly observe sorts of circles.\n",
        "\n",
        "The annealed model shows rather good results for both the reconstruction (though some details are lost) and the generation (we sometimes get things that vaguely ressemble hearts). \n",
        "\n",
        "2. For very large values of $\\beta$, the KL divergence term in the loss function dominates. This forces the latent distribution to be close to a Gaussian, and we can essentially lose most of the information from the input image. Therefore the decoder is given pretty much no relevant information, and generates nothing relevant, which can be, through the activation functions, turned into 0.\n",
        "\n",
        "3. For very low values of $\\beta$, the model prioritizes reconstruction over learning a well-structured latent space. Therefore the reconstructions are accurate, but the latent space does not learn a meaningful or disentangled representation. This can lead to unrealistic and poor-quality generated images."
      ]
    },
    {
      "cell_type": "markdown",
      "metadata": {
        "id": "2X01uEqZsU-v"
      },
      "source": [
        "## Quantitative metrics\n",
        "\n",
        "Next, we are going to quantify model performance according to two metrics: one reconstruction metric, and one disentanglement metric. Ideally we would like models with low reconstruction error, and high disentanglement score."
      ]
    },
    {
      "cell_type": "markdown",
      "metadata": {
        "id": "d7jIVklruEFW"
      },
      "source": [
        "We first provide the **reconstruction metric** `ReconstructionMetric`. It computes, per test image, the average log-likelihood of a pixel (averaged over all pixels) under a model. To do so, it takes as input the reconstructed probability maps and the original test images. The lower the metric, the better reconstruction."
      ]
    },
    {
      "cell_type": "code",
      "execution_count": 43,
      "metadata": {
        "id": "hWb6-NHlSE77"
      },
      "outputs": [],
      "source": [
        "class ReconstructionMetric(object):\n",
        "    def __init__(self):\n",
        "        super().__init__()\n",
        "\n",
        "    def __call__(self, reconstructions, data):\n",
        "        \"\"\"\n",
        "        Reconstruction error per image, averaged over pixels.\n",
        "        (Returns a list of the same length as there are images)\n",
        "        \"\"\"\n",
        "        return torch.mean(\n",
        "                  F.binary_cross_entropy(reconstructions, data,\n",
        "                                         reduction='none').view(len(data), -1),\n",
        "                  dim=-1)"
      ]
    },
    {
      "cell_type": "markdown",
      "metadata": {
        "id": "dodYDM7uu7RG"
      },
      "source": [
        "From the metric above, compute for all 7 models their reconstruction score (taking the average over all test images to get a single scalar value per model):"
      ]
    },
    {
      "cell_type": "code",
      "execution_count": 44,
      "metadata": {
        "id": "36eHbRT8X7Dz"
      },
      "outputs": [],
      "source": [
        "reconstruction_scores = torch.zeros(7)\n",
        "\n",
        "reconstruction_metric = ReconstructionMetric()\n",
        "\n",
        "for i,model in enumerate(models):\n",
        "    # Reconstruction score for model i (average over all test images):\n",
        "    reconstruction_scores[i] = reconstruction_metric(test_reconstructions_mean[i], torch.tensor(test_dataset.imgs * 1., dtype = torch.float32)).mean()"
      ]
    },
    {
      "cell_type": "code",
      "execution_count": 45,
      "metadata": {
        "id": "6oOmnwXGZHZO"
      },
      "outputs": [
        {
          "name": "stdout",
          "output_type": "stream",
          "text": [
            "Model 𝛽=0.01: 0.0035093820188194513\n",
            "Model 𝛽=0.1: 0.0032430337741971016\n",
            "Model 𝛽=1: 0.004613323602825403\n",
            "Model 𝛽=3: 0.00630140257999301\n",
            "Model 𝛽=10: 0.01814744994044304\n",
            "Model 𝛽=100: 0.1380128711462021\n",
            "Model 𝛽=ann.: 0.005736054852604866\n"
          ]
        }
      ],
      "source": [
        "for i in range(7):\n",
        "    print(\"Model 𝛽={}: {}\".format(model_descriptions[i],reconstruction_scores[i]))"
      ]
    },
    {
      "cell_type": "markdown",
      "metadata": {
        "id": "jSTJUl0qvQnL"
      },
      "source": [
        "We will now **implement the 'Mutual Information Gap'** metric from slide 77, which is an information-theoretic based disentanglement metric.\n",
        "\n",
        "To do so, we will quantize/discretize latent codes and ground truth factors, as it is much easier to compute the mutual information of discrete random variables.\n",
        "\n",
        "To compute the MIG score, we will need to compute the entropy of ground truth generative factors `vk`, caracterized by their empirical distributions *i.e.*, vectors of discrete values. This is done by the `entropy` routine below.\n",
        "\n",
        "We will also need to compute the mutual information of two discrete random variables `zi` and `vk` characterized empirically by two paired vectors of discrete values (i.e., `zi` and `vk` are two vectors of the same length, where value `j` in each vector corresponds to the value of the variable for the `j`th data sample). This can be done using `sklearn.metrics.mutual_info_score(zi, vk)`."
      ]
    },
    {
      "cell_type": "code",
      "execution_count": 46,
      "metadata": {
        "id": "t04NuLVd23X8"
      },
      "outputs": [],
      "source": [
        "def entropy(labels):\n",
        "    \"\"\"\n",
        "    Copy-paste from sklearn.metrics.\n",
        "\n",
        "    Calculate the entropy for a labeling.\n",
        "\n",
        "    Parameters\n",
        "    ----------\n",
        "    labels : array-like of shape (n_samples,), dtype=int\n",
        "        The labels.\n",
        "\n",
        "    Returns\n",
        "    -------\n",
        "    entropy : float\n",
        "       The entropy for a labeling.\n",
        "\n",
        "    Notes\n",
        "    -----\n",
        "    The logarithm used is the natural logarithm (base-e).\n",
        "    \"\"\"\n",
        "    if len(labels) == 0:\n",
        "        return 1.0\n",
        "    label_idx = np.unique(labels, return_inverse=True)[1]\n",
        "    pi = np.bincount(label_idx).astype(np.float64)\n",
        "    pi = pi[pi > 0]\n",
        "\n",
        "    # single cluster => zero entropy\n",
        "    if pi.size == 1:\n",
        "        return 0.0\n",
        "\n",
        "    pi_sum = np.sum(pi)\n",
        "    # log(a / b) should be calculated as log(a) - log(b) for\n",
        "    # possible loss of precision\n",
        "    return -np.sum((pi / pi_sum) * (np.log(pi) - np.log(pi_sum)))"
      ]
    },
    {
      "cell_type": "markdown",
      "metadata": {
        "id": "4o8iAJCgzBn5"
      },
      "source": [
        "Complete the missing parts in `MIGMetric` below:"
      ]
    },
    {
      "cell_type": "code",
      "execution_count": 47,
      "metadata": {
        "id": "zsKUf4T3zr6v"
      },
      "outputs": [],
      "source": [
        "class MIGMetric(object):\n",
        "    def __init__(self, num_bins=20):\n",
        "        super().__init__()\n",
        "        self.num_bins = num_bins\n",
        "\n",
        "    def __call__(self, stats_qzx, gt_factors):\n",
        "        \"\"\"Compute the mutual information gap as in [1].\n",
        "\n",
        "        References\n",
        "        ----------\n",
        "           [1] Chen, Tian Qi, et al. \"Isolating sources of disentanglement in variational\n",
        "           autoencoders.\" Advances in Neural Information Processing Systems. 2018.\n",
        "        \"\"\"\n",
        "\n",
        "        # Torch to numpy conversion\n",
        "        if isinstance(stats_qzx, torch.Tensor):\n",
        "            stats_qzx = [x.detach().cpu().numpy() for x in stats_qzx.unbind(-1)]\n",
        "        mean_qzx = stats_qzx[0]\n",
        "        if isinstance(gt_factors, torch.Tensor):\n",
        "            gt_factors = gt_factors.detach().cpu().numpy()\n",
        "\n",
        "        num_latents = mean_qzx.shape[-1]\n",
        "        num_factors = gt_factors.shape[-1]\n",
        "\n",
        "        # Rescaling the factors and latent variables does not change their mutual information or entropy,\n",
        "        # but it will let us quantize them via bins\n",
        "        mean_qzx = sklearn.preprocessing.minmax_scale(mean_qzx) # (N,D) array, this contains the z_i's for all i and all N test samples\n",
        "        gt_factors = sklearn.preprocessing.minmax_scale(gt_factors) # (N,K) array, this contains the v_k's for all k and all N test samples\n",
        "\n",
        "        # Quantization, we turn them in discrete variables to compute the mutual information and\n",
        "        # entropy more easily below:\n",
        "        bins = np.linspace(0, 1, self.num_bins + 1)\n",
        "        mean_qzx = np.digitize(mean_qzx, bins[:-1], right=False).astype(int) # (N,D) array, this contains the quantized z_i's for all i and all N test samples\n",
        "        gt_factors = np.digitize(gt_factors, bins[:-1], right=False).astype(int) # (N,K) array, this contains the quantized v_k's for all k and all N test samples\n",
        "\n",
        "        # Compute a (D,K) array of mutual informations between each pair of (z_i,v_k)\n",
        "        # Hint: look at the definition of mean_qzx and gt_factors above and use them\n",
        "        mutual_info_scores = np.zeros((num_latents, num_factors))\n",
        "        for i in range(num_latents):\n",
        "            for k in range(num_factors):\n",
        "                mutual_info_scores[i,k] = sklearn.metrics.mutual_info_score(mean_qzx[:, i], gt_factors[:, k])\n",
        "\n",
        "        # Sorting each column of this (D,K) array in ascending order:\n",
        "        sorted_factor_mutual_info_scores = np.sort(mutual_info_scores, axis=0)\n",
        "\n",
        "        # Taking the difference, column-wise, of the highest and second highest MI scores\n",
        "        mutual_info_gaps = sorted_factor_mutual_info_scores[-1, :] - sorted_factor_mutual_info_scores[-2, :]\n",
        "\n",
        "        # Computing the entropy of each generative factor v_k to normalize the MI gaps\n",
        "        factor_entropy = np.zeros((num_factors,))\n",
        "        for k in range(num_factors):\n",
        "            factor_entropy[k] = entropy(gt_factors[:,k])\n",
        "\n",
        "        # Normalizing the gaps and averaging over factors as in slide 77\n",
        "        normalized_mutual_info_gap = mutual_info_gaps / (factor_entropy + 1e-12)\n",
        "\n",
        "        return normalized_mutual_info_gap.mean()"
      ]
    },
    {
      "cell_type": "markdown",
      "metadata": {
        "id": "vwhRmIz50SQl"
      },
      "source": [
        "We can now compute the MIG score of all 7 models and print them:"
      ]
    },
    {
      "cell_type": "code",
      "execution_count": 48,
      "metadata": {
        "id": "tOgTKW6ACAvT"
      },
      "outputs": [],
      "source": [
        "mig_scores = np.zeros(7)\n",
        "mig_metric = MIGMetric()\n",
        "\n",
        "for i,model in enumerate(models):\n",
        "    mig_scores[i] = mig_metric(test_stats_qzx[i], gt_factors[i])"
      ]
    },
    {
      "cell_type": "code",
      "execution_count": 49,
      "metadata": {
        "id": "ZisCPetEcpbM"
      },
      "outputs": [
        {
          "name": "stdout",
          "output_type": "stream",
          "text": [
            "Model 𝛽=0.01: 0.021118065442571166\n",
            "Model 𝛽=0.1: 0.01760190138840343\n",
            "Model 𝛽=1: 0.057288672761765844\n",
            "Model 𝛽=3: 0.09289077019234608\n",
            "Model 𝛽=10: 0.2255274197819896\n",
            "Model 𝛽=100: 0.0\n",
            "Model 𝛽=ann.: 0.3468619191525786\n"
          ]
        }
      ],
      "source": [
        "for i in range(7):\n",
        "    print(\"Model 𝛽={}: {}\".format(model_descriptions[i],mig_scores[i]))"
      ]
    },
    {
      "cell_type": "markdown",
      "metadata": {
        "id": "U7SvClh60Yoa"
      },
      "source": [
        "**Questions:**\n",
        "1. Which models are best for reconstruction? For disentanglement?\n",
        "2. Why is the disentanglement metric going down to 0 for $\\beta=100$?\n",
        "3. Which model do you think realizes the best compromise between reconstruction and disentanglement?\n",
        "\n",
        "To help you answer these questions, you can visualize below on the same scatter plot the reconstruction and disentanglement metrics for all 7 model."
      ]
    },
    {
      "cell_type": "markdown",
      "metadata": {},
      "source": [
        "**Answer**:\n",
        "\n",
        "1. Based on the reconstruction metric, the best models for reconstruction are $\\beta = 0.01$ and $\\beta = 0.1$.\n",
        "\n",
        "Based on the MIG score, the best models for disentanglement are the annealed model, followed by $\\beta = 10$.\n",
        "\n",
        "2. The disentanglement metric goes to $0$ for $\\beta = 100$ because $\\beta = 100$ puts a lot of importance on the KL loss, forcing the latent variables to be (almost) independent. As a consequence, the model fails to capture meaningful latent representations, and the latent space is almost random noise. There are then no meaningful relationships between latents and ground truth factors, hence a MIG of 0.\n",
        "\n",
        "3. The annealed model is quite good: it achieves the best MIG, while being the fourth best model (out of eight) in terms of reconstruction.\n",
        "\n",
        "However $\\beta = 3$ is good too: it has the third best MIG, while being the fifth best model for reconstruction."
      ]
    },
    {
      "cell_type": "code",
      "execution_count": 50,
      "metadata": {
        "id": "00j3VDqnEgxa"
      },
      "outputs": [
        {
          "data": {
            "image/png": "[encoded data removed]",
            "text/plain": [
              "<Figure size 640x480 with 1 Axes>"
            ]
          },
          "metadata": {},
          "output_type": "display_data"
        }
      ],
      "source": [
        "fig, ax = plt.subplots()\n",
        "ax.scatter(x=reconstruction_scores, y=mig_scores, color='b')\n",
        "ax.set_xscale('log')\n",
        "ax.set_xlabel('Reconstruction error per pixel')\n",
        "ax.set_ylabel('MIG score')\n",
        "ax.set_title('Model performance')\n",
        "for i, txt in enumerate(model_descriptions):\n",
        "    ax.annotate(txt, (reconstruction_scores[i]*1.05, mig_scores[i]))"
      ]
    },
    {
      "cell_type": "markdown",
      "metadata": {
        "id": "Z0szuL7a01zG"
      },
      "source": [
        "## Visualizing the effect of each latent dimension\n",
        "\n",
        "Finally, we can visualize the effect of each of the 10 latent dimensions on generated images, for the model you think achieves the best trade-off between reconstruction and disentanglement.\n",
        "\n",
        "To do so, we will pick a suitable image from the test dataset (choose an `index` below between `0` and `len(test_dataset)`; you can visualize the corresponding test image by running the cell below).\n",
        "\n",
        "We will then compute the corresponding latent code `latent_z` (the mean of q(z|x)). Finally, we will modify one-by-one the latent dimensions of `latent_z`, going over the range of possible values for the selected dimension, while leaving all other dimensions unchanged. This allows us to see the modifications brought by each individual dimension on the output image."
      ]
    },
    {
      "cell_type": "code",
      "execution_count": 51,
      "metadata": {
        "id": "8IEgtpT6Izzp"
      },
      "outputs": [
        {
          "data": {
            "text/plain": [
              "<matplotlib.image.AxesImage at 0x7fd1479e99d0>"
            ]
          },
          "execution_count": 51,
          "metadata": {},
          "output_type": "execute_result"
        },
        {
          "data": {
            "image/png": "[encoded data removed]",
            "text/plain": [
              "<Figure size 640x480 with 1 Axes>"
            ]
          },
          "metadata": {},
          "output_type": "display_data"
        }
      ],
      "source": [
        "index = np.random.randint(0, len(test_dataset))\n",
        "plt.imshow(test_dataset.imgs[index,:,:]*255, cmap='gray')"
      ]
    },
    {
      "cell_type": "markdown",
      "metadata": {
        "id": "sw1hlJt_2xKg"
      },
      "source": [
        "Specify the model (integer from 0 to 6 included) which you want to investigate and run the cell below.\n",
        "\n",
        "The output of the cell recalls:\n",
        "* the model you selected\n",
        "* the latent code corresponding to the image indexed by your chosen `index` in the test dataset\n",
        "* the normal reconstruction of this image by the selected model prior to changing any latent dimension"
      ]
    },
    {
      "cell_type": "code",
      "execution_count": 52,
      "metadata": {
        "id": "9c-KSuF3KMag"
      },
      "outputs": [
        {
          "name": "stdout",
          "output_type": "stream",
          "text": [
            "Picked model 𝛽=ann.\n",
            "\n",
            "The latent code of the chosen image is:\n",
            "tensor([ 0.7876,  1.1950,  0.8118,  0.7177,  1.0011, -0.3591, -1.3183,  0.9031,\n",
            "        -0.2513,  3.1472])\n",
            "\n",
            "The reconstruction by the model is:\n"
          ]
        },
        {
          "data": {
            "text/plain": [
              "<matplotlib.image.AxesImage at 0x7fd14069e990>"
            ]
          },
          "execution_count": 52,
          "metadata": {},
          "output_type": "execute_result"
        },
        {
          "data": {
            "image/png": "[encoded data removed]",
            "text/plain": [
              "<Figure size 640x480 with 1 Axes>"
            ]
          },
          "metadata": {},
          "output_type": "display_data"
        }
      ],
      "source": [
        "# models = [model_001, model_01, model_1, model_3, model_10, model_100, model_annealed]\n",
        "mdl = -1\n",
        "print(\"Picked model 𝛽={}\".format(model_descriptions[mdl]))\n",
        "\n",
        "print(\"\\nThe latent code of the chosen image is:\")\n",
        "latent_z = test_stats_qzx[mdl, index, :, 0]\n",
        "print(latent_z)\n",
        "\n",
        "print(\"\\nThe reconstruction by the model is:\")\n",
        "plt.imshow(test_reconstructions_image[mdl, index], cmap='gray')"
      ]
    },
    {
      "cell_type": "markdown",
      "metadata": {
        "id": "VcZsr5ku3X1v"
      },
      "source": [
        "Now, we visualize the effect of every latent dimension. Each latent dimension occupies a row in the figure below (there are 10 rows). Along row `i`, we vary the value of the latent dimension `i` between the min and max values observed in the test dataset, then decode the corresponding images and plot them."
      ]
    },
    {
      "cell_type": "code",
      "execution_count": 53,
      "metadata": {
        "id": "jBMQGPAwLJGV"
      },
      "outputs": [],
      "source": [
        "min_code, _ = torch.min(test_stats_qzx[mdl,:,:,0], axis=0)\n",
        "max_code, _ = torch.max(test_stats_qzx[mdl,:,:,0], axis=0)\n",
        "range_code = torch.max(min_code.abs(), max_code.abs())"
      ]
    },
    {
      "cell_type": "code",
      "execution_count": 54,
      "metadata": {
        "id": "zT3kE5akL8z0"
      },
      "outputs": [
        {
          "data": {
            "image/png": "[encoded data removed]",
            "text/plain": [
              "<Figure size 1200x1600 with 70 Axes>"
            ]
          },
          "metadata": {},
          "output_type": "display_data"
        }
      ],
      "source": [
        "plt.figure(figsize=(12, 16))\n",
        "\n",
        "for dim in range(0,10):\n",
        "    for i in range(0,7):\n",
        "        z = latent_z.clone().to(device)\n",
        "        z[dim] = -range_code[dim] + 2*range_code[dim]*i/6\n",
        "        z = z.unsqueeze(0)\n",
        "\n",
        "        img = (models[mdl].generate_samples(samples_pz=z)['generations'].squeeze().detach().cpu().numpy() >= 0.5) * 255\n",
        "\n",
        "        plt.subplot(10, 7, 7*dim+i+1)\n",
        "        plt.imshow(img, cmap='gray')"
      ]
    },
    {
      "cell_type": "markdown",
      "metadata": {
        "id": "YAFPPBIj351g"
      },
      "source": [
        "**Questions:**\n",
        "1. Can you associate some of the latent dimensions to some of the generative factors (among 'shape', 'scale', 'orientation', 'posX', 'posY')?\n",
        "2. Do you think the factors are perfectly disentangled? Which ones are roughly disentangled and which ones are not?"
      ]
    },
    {
      "cell_type": "markdown",
      "metadata": {},
      "source": [
        "**Answer**:\n",
        "\n",
        "1. For this model:\n",
        "\n",
        "- The first latent dimension seems to correspond to 'posY'.\n",
        "\n",
        "- The second latent dimension seems to correspond to 'orientation'.\n",
        "\n",
        "- The fifth latent dimension seems to correspond to both 'shape' and 'scale'.\n",
        "\n",
        "- The seventh latent dimension seems to correspond to 'posX'.\n",
        "\n",
        "2. For this specific model, 'posY', 'orientation', 'posX' seem rather well disentangled. However, 'shape' and 'scale' do not seem to be: when changing the fifth coordinate, we observe both a change in shape and in scale."
      ]
    },
    {
      "cell_type": "markdown",
      "metadata": {
        "id": "h6dskK2143nm"
      },
      "source": [
        "## Optional\n",
        "\n",
        "For the selected model, you can quantify the amount of information encoded in each latent dimension by computing the average KL divergence between $q(z_i|x)$ and $\\mathcal{N}(0,1)$, averaged over x.\n",
        "\n",
        "(You can simply run the cells below to obtain these values.)"
      ]
    },
    {
      "cell_type": "code",
      "execution_count": 55,
      "metadata": {
        "id": "qZ7OZi8Zvab5"
      },
      "outputs": [],
      "source": [
        "class KLMetric(object):\n",
        "    def __init__(self):\n",
        "      super().__init__()\n",
        "\n",
        "    def __call__(self, stats_qzx):\n",
        "        \"\"\"\n",
        "        Outputs: (D,) array\n",
        "        Average (over x) KL divergence between q(z_i|x) and N(0,1) for every latent z_i\n",
        "        \"\"\"\n",
        "        return kl_normal_loss(*stats_qzx.unbind(-1), batch_mean=True, component_sum=False)"
      ]
    },
    {
      "cell_type": "code",
      "execution_count": 56,
      "metadata": {
        "id": "rEgzHA92tmQv"
      },
      "outputs": [],
      "source": [
        "kl_scores = torch.zeros(7, D)\n",
        "\n",
        "for i,model in enumerate(models):\n",
        "    kl_scores[i, :] = KLMetric()(test_stats_qzx[i])"
      ]
    },
    {
      "cell_type": "code",
      "execution_count": 57,
      "metadata": {
        "colab": {
          "base_uri": "https://localhost:8080/"
        },
        "id": "zklv-OHG5fa_",
        "outputId": "8da6ef5a-921a-45f4-b249-85c48caa55cb"
      },
      "outputs": [
        {
          "name": "stdout",
          "output_type": "stream",
          "text": [
            "tensor([7.1661, 4.2612, 4.8483, 3.8890, 5.8823, 3.9919, 7.1851, 4.1252, 4.7838,\n",
            "        5.7354])\n"
          ]
        }
      ],
      "source": [
        "print(kl_scores[mdl])"
      ]
    },
    {
      "cell_type": "markdown",
      "metadata": {
        "id": "XUdkfZ3FCTVs"
      },
      "source": [
        "This is not very informative, although there are two dimensions that slightly stand out with larger values. Which generative factors do they correspond to?"
      ]
    },
    {
      "cell_type": "markdown",
      "metadata": {
        "id": "UHvVykc4dE8m"
      },
      "source": [
        "# References\n",
        "\n",
        "Large parts of this notebook where adapted from Facebook's disentanglement lib: https://github.com/facebookresearch/disentangling-correlated-factors/tree/main (MIT, Apache-2.0 licenses)."
      ]
    }
  ],
  "metadata": {
    "colab": {
      "provenance": []
    },
    "kernelspec": {
      "display_name": "RecVis",
      "language": "python",
      "name": "python3"
    },
    "language_info": {
      "codemirror_mode": {
        "name": "ipython",
        "version": 3
      },
      "file_extension": ".py",
      "mimetype": "text/x-python",
      "name": "python",
      "nbconvert_exporter": "python",
      "pygments_lexer": "ipython3",
      "version": "3.11.9"
    }
  },
  "nbformat": 4,
  "nbformat_minor": 0
}
